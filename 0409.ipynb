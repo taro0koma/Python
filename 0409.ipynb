{
 "cells": [
  {
   "cell_type": "code",
   "execution_count": 7,
   "metadata": {},
   "outputs": [
    {
     "data": {
      "text/html": [
       "<div>\n",
       "<style scoped>\n",
       "    .dataframe tbody tr th:only-of-type {\n",
       "        vertical-align: middle;\n",
       "    }\n",
       "\n",
       "    .dataframe tbody tr th {\n",
       "        vertical-align: top;\n",
       "    }\n",
       "\n",
       "    .dataframe thead th {\n",
       "        text-align: right;\n",
       "    }\n",
       "</style>\n",
       "<table border=\"1\" class=\"dataframe\">\n",
       "  <thead>\n",
       "    <tr style=\"text-align: right;\">\n",
       "      <th></th>\n",
       "      <th>consumption</th>\n",
       "    </tr>\n",
       "    <tr>\n",
       "      <th>date_hour</th>\n",
       "      <th></th>\n",
       "    </tr>\n",
       "  </thead>\n",
       "  <tbody>\n",
       "    <tr>\n",
       "      <th>2012-07-02 00:00:00</th>\n",
       "      <td>261</td>\n",
       "    </tr>\n",
       "    <tr>\n",
       "      <th>2012-07-02 01:00:00</th>\n",
       "      <td>256</td>\n",
       "    </tr>\n",
       "    <tr>\n",
       "      <th>2012-07-02 02:00:00</th>\n",
       "      <td>269</td>\n",
       "    </tr>\n",
       "    <tr>\n",
       "      <th>2012-07-02 03:00:00</th>\n",
       "      <td>289</td>\n",
       "    </tr>\n",
       "    <tr>\n",
       "      <th>2012-07-02 04:00:00</th>\n",
       "      <td>297</td>\n",
       "    </tr>\n",
       "    <tr>\n",
       "      <th>...</th>\n",
       "      <td>...</td>\n",
       "    </tr>\n",
       "    <tr>\n",
       "      <th>2012-12-31 19:00:00</th>\n",
       "      <td>375</td>\n",
       "    </tr>\n",
       "    <tr>\n",
       "      <th>2012-12-31 20:00:00</th>\n",
       "      <td>364</td>\n",
       "    </tr>\n",
       "    <tr>\n",
       "      <th>2012-12-31 21:00:00</th>\n",
       "      <td>350</td>\n",
       "    </tr>\n",
       "    <tr>\n",
       "      <th>2012-12-31 22:00:00</th>\n",
       "      <td>333</td>\n",
       "    </tr>\n",
       "    <tr>\n",
       "      <th>2012-12-31 23:00:00</th>\n",
       "      <td>348</td>\n",
       "    </tr>\n",
       "  </tbody>\n",
       "</table>\n",
       "<p>4392 rows × 1 columns</p>\n",
       "</div>"
      ],
      "text/plain": [
       "                     consumption\n",
       "date_hour                       \n",
       "2012-07-02 00:00:00          261\n",
       "2012-07-02 01:00:00          256\n",
       "2012-07-02 02:00:00          269\n",
       "2012-07-02 03:00:00          289\n",
       "2012-07-02 04:00:00          297\n",
       "...                          ...\n",
       "2012-12-31 19:00:00          375\n",
       "2012-12-31 20:00:00          364\n",
       "2012-12-31 21:00:00          350\n",
       "2012-12-31 22:00:00          333\n",
       "2012-12-31 23:00:00          348\n",
       "\n",
       "[4392 rows x 1 columns]"
      ]
     },
     "execution_count": 7,
     "metadata": {},
     "output_type": "execute_result"
    }
   ],
   "source": [
    "import pandas as pd\n",
    "\n",
    "ed=[pd.read_csv(\n",
    "    './learning_sample/07/shikoku_electricity_%d.csv' % year,\n",
    "    skiprows=3,\n",
    "    names=['DATE','TIME','consumption'],\n",
    "    parse_dates={'date_hour':['DATE','TIME']},\n",
    "    index_col='date_hour')\n",
    "    for year in [2012,2013,2014,2015,2016]\n",
    "]\n",
    "ed[0]  # 2012年分"
   ]
  },
  {
   "cell_type": "code",
   "execution_count": 9,
   "metadata": {},
   "outputs": [
    {
     "data": {
      "text/html": [
       "<div>\n",
       "<style scoped>\n",
       "    .dataframe tbody tr th:only-of-type {\n",
       "        vertical-align: middle;\n",
       "    }\n",
       "\n",
       "    .dataframe tbody tr th {\n",
       "        vertical-align: top;\n",
       "    }\n",
       "\n",
       "    .dataframe thead th {\n",
       "        text-align: right;\n",
       "    }\n",
       "</style>\n",
       "<table border=\"1\" class=\"dataframe\">\n",
       "  <thead>\n",
       "    <tr style=\"text-align: right;\">\n",
       "      <th></th>\n",
       "      <th>consumption</th>\n",
       "    </tr>\n",
       "    <tr>\n",
       "      <th>date_hour</th>\n",
       "      <th></th>\n",
       "    </tr>\n",
       "  </thead>\n",
       "  <tbody>\n",
       "    <tr>\n",
       "      <th>2012-07-02 00:00:00</th>\n",
       "      <td>261</td>\n",
       "    </tr>\n",
       "    <tr>\n",
       "      <th>2012-07-02 01:00:00</th>\n",
       "      <td>256</td>\n",
       "    </tr>\n",
       "    <tr>\n",
       "      <th>2012-07-02 02:00:00</th>\n",
       "      <td>269</td>\n",
       "    </tr>\n",
       "    <tr>\n",
       "      <th>2012-07-02 03:00:00</th>\n",
       "      <td>289</td>\n",
       "    </tr>\n",
       "    <tr>\n",
       "      <th>2012-07-02 04:00:00</th>\n",
       "      <td>297</td>\n",
       "    </tr>\n",
       "    <tr>\n",
       "      <th>...</th>\n",
       "      <td>...</td>\n",
       "    </tr>\n",
       "    <tr>\n",
       "      <th>2016-03-31 19:00:00</th>\n",
       "      <td>329</td>\n",
       "    </tr>\n",
       "    <tr>\n",
       "      <th>2016-03-31 20:00:00</th>\n",
       "      <td>317</td>\n",
       "    </tr>\n",
       "    <tr>\n",
       "      <th>2016-03-31 21:00:00</th>\n",
       "      <td>298</td>\n",
       "    </tr>\n",
       "    <tr>\n",
       "      <th>2016-03-31 22:00:00</th>\n",
       "      <td>283</td>\n",
       "    </tr>\n",
       "    <tr>\n",
       "      <th>2016-03-31 23:00:00</th>\n",
       "      <td>274</td>\n",
       "    </tr>\n",
       "  </tbody>\n",
       "</table>\n",
       "<p>32856 rows × 1 columns</p>\n",
       "</div>"
      ],
      "text/plain": [
       "                     consumption\n",
       "date_hour                       \n",
       "2012-07-02 00:00:00          261\n",
       "2012-07-02 01:00:00          256\n",
       "2012-07-02 02:00:00          269\n",
       "2012-07-02 03:00:00          289\n",
       "2012-07-02 04:00:00          297\n",
       "...                          ...\n",
       "2016-03-31 19:00:00          329\n",
       "2016-03-31 20:00:00          317\n",
       "2016-03-31 21:00:00          298\n",
       "2016-03-31 22:00:00          283\n",
       "2016-03-31 23:00:00          274\n",
       "\n",
       "[32856 rows x 1 columns]"
      ]
     },
     "execution_count": 9,
     "metadata": {},
     "output_type": "execute_result"
    }
   ],
   "source": [
    "pd.concat(ed) # 2012-2016年分"
   ]
  },
  {
   "cell_type": "code",
   "execution_count": 48,
   "metadata": {},
   "outputs": [
    {
     "data": {
      "text/html": [
       "<div>\n",
       "<style scoped>\n",
       "    .dataframe tbody tr th:only-of-type {\n",
       "        vertical-align: middle;\n",
       "    }\n",
       "\n",
       "    .dataframe tbody tr th {\n",
       "        vertical-align: top;\n",
       "    }\n",
       "\n",
       "    .dataframe thead th {\n",
       "        text-align: right;\n",
       "    }\n",
       "</style>\n",
       "<table border=\"1\" class=\"dataframe\">\n",
       "  <thead>\n",
       "    <tr style=\"text-align: right;\">\n",
       "      <th></th>\n",
       "      <th>気圧(hPa)現地</th>\n",
       "      <th>気圧(hPa)海面</th>\n",
       "      <th>rain</th>\n",
       "      <th>temperature</th>\n",
       "      <th>humid</th>\n",
       "      <th>風向・風速(m/s)風速</th>\n",
       "      <th>風向・風速(m/s)風向</th>\n",
       "      <th>sunhour</th>\n",
       "    </tr>\n",
       "    <tr>\n",
       "      <th>date_hour</th>\n",
       "      <th></th>\n",
       "      <th></th>\n",
       "      <th></th>\n",
       "      <th></th>\n",
       "      <th></th>\n",
       "      <th></th>\n",
       "      <th></th>\n",
       "      <th></th>\n",
       "    </tr>\n",
       "  </thead>\n",
       "  <tbody>\n",
       "    <tr>\n",
       "      <th>2013-11-28 01:00:00</th>\n",
       "      <td>1012.1</td>\n",
       "      <td>1013.8</td>\n",
       "      <td>--</td>\n",
       "      <td>11.9</td>\n",
       "      <td>48.0</td>\n",
       "      <td>7.0</td>\n",
       "      <td>西</td>\n",
       "      <td>NaN</td>\n",
       "    </tr>\n",
       "    <tr>\n",
       "      <th>2013-11-28 02:00:00</th>\n",
       "      <td>1012.2</td>\n",
       "      <td>1013.9</td>\n",
       "      <td>--</td>\n",
       "      <td>11.5</td>\n",
       "      <td>50.0</td>\n",
       "      <td>7.4</td>\n",
       "      <td>西</td>\n",
       "      <td>NaN</td>\n",
       "    </tr>\n",
       "    <tr>\n",
       "      <th>2013-11-28 03:00:00</th>\n",
       "      <td>1012.3</td>\n",
       "      <td>1014.0</td>\n",
       "      <td>--</td>\n",
       "      <td>10.9</td>\n",
       "      <td>47.0</td>\n",
       "      <td>6.8</td>\n",
       "      <td>西</td>\n",
       "      <td>NaN</td>\n",
       "    </tr>\n",
       "    <tr>\n",
       "      <th>2013-11-28 04:00:00</th>\n",
       "      <td>1012.6</td>\n",
       "      <td>1014.3</td>\n",
       "      <td>--</td>\n",
       "      <td>10.3</td>\n",
       "      <td>44.0</td>\n",
       "      <td>6.9</td>\n",
       "      <td>西</td>\n",
       "      <td>NaN</td>\n",
       "    </tr>\n",
       "    <tr>\n",
       "      <th>2013-11-28 05:00:00</th>\n",
       "      <td>1012.7</td>\n",
       "      <td>1014.4</td>\n",
       "      <td>--</td>\n",
       "      <td>10.0</td>\n",
       "      <td>46.0</td>\n",
       "      <td>6.1</td>\n",
       "      <td>西</td>\n",
       "      <td>NaN</td>\n",
       "    </tr>\n",
       "    <tr>\n",
       "      <th>...</th>\n",
       "      <td>...</td>\n",
       "      <td>...</td>\n",
       "      <td>...</td>\n",
       "      <td>...</td>\n",
       "      <td>...</td>\n",
       "      <td>...</td>\n",
       "      <td>...</td>\n",
       "      <td>...</td>\n",
       "    </tr>\n",
       "    <tr>\n",
       "      <th>2012-07-06 20:00:00</th>\n",
       "      <td>1000.7</td>\n",
       "      <td>1002.3</td>\n",
       "      <td>1.0</td>\n",
       "      <td>27.6</td>\n",
       "      <td>78.0</td>\n",
       "      <td>4.0</td>\n",
       "      <td>西</td>\n",
       "      <td>0.0</td>\n",
       "    </tr>\n",
       "    <tr>\n",
       "      <th>2012-07-06 21:00:00</th>\n",
       "      <td>999.7</td>\n",
       "      <td>1001.3</td>\n",
       "      <td>10.0</td>\n",
       "      <td>23.9</td>\n",
       "      <td>82.0</td>\n",
       "      <td>7.8</td>\n",
       "      <td>西南西</td>\n",
       "      <td>NaN</td>\n",
       "    </tr>\n",
       "    <tr>\n",
       "      <th>2012-07-06 22:00:00</th>\n",
       "      <td>998.8</td>\n",
       "      <td>1000.4</td>\n",
       "      <td>1.5</td>\n",
       "      <td>23.6</td>\n",
       "      <td>87.0</td>\n",
       "      <td>3.0</td>\n",
       "      <td>西南西</td>\n",
       "      <td>NaN</td>\n",
       "    </tr>\n",
       "    <tr>\n",
       "      <th>2012-07-06 23:00:00</th>\n",
       "      <td>997.5</td>\n",
       "      <td>999.1</td>\n",
       "      <td>0.0</td>\n",
       "      <td>23.6</td>\n",
       "      <td>89.0</td>\n",
       "      <td>0.7</td>\n",
       "      <td>北西</td>\n",
       "      <td>NaN</td>\n",
       "    </tr>\n",
       "    <tr>\n",
       "      <th>2012-07-07 00:00:00</th>\n",
       "      <td>997.6</td>\n",
       "      <td>999.2</td>\n",
       "      <td>--</td>\n",
       "      <td>23.8</td>\n",
       "      <td>88.0</td>\n",
       "      <td>1.6</td>\n",
       "      <td>北北東</td>\n",
       "      <td>NaN</td>\n",
       "    </tr>\n",
       "  </tbody>\n",
       "</table>\n",
       "<p>32856 rows × 8 columns</p>\n",
       "</div>"
      ],
      "text/plain": [
       "                     気圧(hPa)現地  気圧(hPa)海面  rain  temperature  humid  \\\n",
       "date_hour                                                             \n",
       "2013-11-28 01:00:00     1012.1     1013.8    --         11.9   48.0   \n",
       "2013-11-28 02:00:00     1012.2     1013.9    --         11.5   50.0   \n",
       "2013-11-28 03:00:00     1012.3     1014.0    --         10.9   47.0   \n",
       "2013-11-28 04:00:00     1012.6     1014.3    --         10.3   44.0   \n",
       "2013-11-28 05:00:00     1012.7     1014.4    --         10.0   46.0   \n",
       "...                        ...        ...   ...          ...    ...   \n",
       "2012-07-06 20:00:00     1000.7     1002.3   1.0         27.6   78.0   \n",
       "2012-07-06 21:00:00      999.7     1001.3  10.0         23.9   82.0   \n",
       "2012-07-06 22:00:00      998.8     1000.4   1.5         23.6   87.0   \n",
       "2012-07-06 23:00:00      997.5      999.1   0.0         23.6   89.0   \n",
       "2012-07-07 00:00:00      997.6      999.2    --         23.8   88.0   \n",
       "\n",
       "                     風向・風速(m/s)風速 風向・風速(m/s)風向 sunhour  \n",
       "date_hour                                               \n",
       "2013-11-28 01:00:00           7.0            西     NaN  \n",
       "2013-11-28 02:00:00           7.4            西     NaN  \n",
       "2013-11-28 03:00:00           6.8            西     NaN  \n",
       "2013-11-28 04:00:00           6.9            西     NaN  \n",
       "2013-11-28 05:00:00           6.1            西     NaN  \n",
       "...                           ...          ...     ...  \n",
       "2012-07-06 20:00:00           4.0            西     0.0  \n",
       "2012-07-06 21:00:00           7.8          西南西     NaN  \n",
       "2012-07-06 22:00:00           3.0          西南西     NaN  \n",
       "2012-07-06 23:00:00           0.7           北西     NaN  \n",
       "2012-07-07 00:00:00           1.6          北北東     NaN  \n",
       "\n",
       "[32856 rows x 8 columns]"
      ]
     },
     "execution_count": 48,
     "metadata": {},
     "output_type": "execute_result"
    }
   ],
   "source": [
    "tmp=pd.read_csv(\n",
    "    u'./learning_sample/07/47891_高松.csv',\n",
    "    parse_dates={'date_hour':['日時']},\n",
    "    index_col='date_hour',\n",
    "    na_values=\"×\"\n",
    ")\n",
    "del tmp[\"時\"]\n",
    "\n",
    "columns = {\n",
    "    \"降水量(mm)\": \"rain\",\n",
    "    \"気温(℃)\": \"temperature\",\n",
    "    \"日照時間(h)\": \"sunhour\",\n",
    "    \"湿度(％)\": \"humid\",\n",
    "}\n",
    "tmp.rename(columns=columns,inplace=True)\n",
    "tmp"
   ]
  },
  {
   "cell_type": "code",
   "execution_count": 55,
   "metadata": {},
   "outputs": [
    {
     "data": {
      "text/html": [
       "<div>\n",
       "<style scoped>\n",
       "    .dataframe tbody tr th:only-of-type {\n",
       "        vertical-align: middle;\n",
       "    }\n",
       "\n",
       "    .dataframe tbody tr th {\n",
       "        vertical-align: top;\n",
       "    }\n",
       "\n",
       "    .dataframe thead th {\n",
       "        text-align: right;\n",
       "    }\n",
       "</style>\n",
       "<table border=\"1\" class=\"dataframe\">\n",
       "  <thead>\n",
       "    <tr style=\"text-align: right;\">\n",
       "      <th></th>\n",
       "      <th>consumption</th>\n",
       "      <th>temperature</th>\n",
       "    </tr>\n",
       "    <tr>\n",
       "      <th>date_hour</th>\n",
       "      <th></th>\n",
       "      <th></th>\n",
       "    </tr>\n",
       "  </thead>\n",
       "  <tbody>\n",
       "    <tr>\n",
       "      <th>2012-07-02 01:00:00</th>\n",
       "      <td>256</td>\n",
       "      <td>24.5</td>\n",
       "    </tr>\n",
       "    <tr>\n",
       "      <th>2012-07-02 02:00:00</th>\n",
       "      <td>269</td>\n",
       "      <td>24.1</td>\n",
       "    </tr>\n",
       "    <tr>\n",
       "      <th>2012-07-02 03:00:00</th>\n",
       "      <td>289</td>\n",
       "      <td>23.6</td>\n",
       "    </tr>\n",
       "    <tr>\n",
       "      <th>2012-07-02 04:00:00</th>\n",
       "      <td>297</td>\n",
       "      <td>23.3</td>\n",
       "    </tr>\n",
       "    <tr>\n",
       "      <th>2012-07-02 05:00:00</th>\n",
       "      <td>289</td>\n",
       "      <td>23.0</td>\n",
       "    </tr>\n",
       "    <tr>\n",
       "      <th>...</th>\n",
       "      <td>...</td>\n",
       "      <td>...</td>\n",
       "    </tr>\n",
       "    <tr>\n",
       "      <th>2016-03-31 19:00:00</th>\n",
       "      <td>329</td>\n",
       "      <td>16.5</td>\n",
       "    </tr>\n",
       "    <tr>\n",
       "      <th>2016-03-31 20:00:00</th>\n",
       "      <td>317</td>\n",
       "      <td>16.5</td>\n",
       "    </tr>\n",
       "    <tr>\n",
       "      <th>2016-03-31 21:00:00</th>\n",
       "      <td>298</td>\n",
       "      <td>15.8</td>\n",
       "    </tr>\n",
       "    <tr>\n",
       "      <th>2016-03-31 22:00:00</th>\n",
       "      <td>283</td>\n",
       "      <td>15.1</td>\n",
       "    </tr>\n",
       "    <tr>\n",
       "      <th>2016-03-31 23:00:00</th>\n",
       "      <td>274</td>\n",
       "      <td>14.6</td>\n",
       "    </tr>\n",
       "  </tbody>\n",
       "</table>\n",
       "<p>32855 rows × 2 columns</p>\n",
       "</div>"
      ],
      "text/plain": [
       "                     consumption  temperature\n",
       "date_hour                                    \n",
       "2012-07-02 01:00:00          256         24.5\n",
       "2012-07-02 02:00:00          269         24.1\n",
       "2012-07-02 03:00:00          289         23.6\n",
       "2012-07-02 04:00:00          297         23.3\n",
       "2012-07-02 05:00:00          289         23.0\n",
       "...                          ...          ...\n",
       "2016-03-31 19:00:00          329         16.5\n",
       "2016-03-31 20:00:00          317         16.5\n",
       "2016-03-31 21:00:00          298         15.8\n",
       "2016-03-31 22:00:00          283         15.1\n",
       "2016-03-31 23:00:00          274         14.6\n",
       "\n",
       "[32855 rows x 2 columns]"
      ]
     },
     "execution_count": 55,
     "metadata": {},
     "output_type": "execute_result"
    }
   ],
   "source": [
    "takamatsu=elec_data.join(tmp['temperature']).dropna()\n",
    "takamatsu"
   ]
  },
  {
   "cell_type": "code",
   "execution_count": 62,
   "metadata": {},
   "outputs": [
    {
     "data": {
      "text/plain": [
       "array([[256.],\n",
       "       [269.],\n",
       "       [289.],\n",
       "       ...,\n",
       "       [298.],\n",
       "       [283.],\n",
       "       [274.]])"
      ]
     },
     "execution_count": 62,
     "metadata": {},
     "output_type": "execute_result"
    }
   ],
   "source": [
    "takamatsu_elec=takamatsu.values[:,0:1]\n",
    "takamatsu_elec"
   ]
  },
  {
   "cell_type": "code",
   "execution_count": 63,
   "metadata": {},
   "outputs": [
    {
     "data": {
      "text/plain": [
       "array([[24.5],\n",
       "       [24.1],\n",
       "       [23.6],\n",
       "       ...,\n",
       "       [15.8],\n",
       "       [15.1],\n",
       "       [14.6]])"
      ]
     },
     "execution_count": 63,
     "metadata": {},
     "output_type": "execute_result"
    }
   ],
   "source": [
    "takamatsu_wthr=takamatsu.values[:,1:]\n",
    "takamatsu_wthr"
   ]
  },
  {
   "cell_type": "code",
   "execution_count": 20,
   "metadata": {},
   "outputs": [
    {
     "data": {
      "image/png": "[encoded data removed]",
      "text/plain": [
       "<Figure size 720x432 with 1 Axes>"
      ]
     },
     "metadata": {
      "needs_background": "light"
     },
     "output_type": "display_data"
    }
   ],
   "source": [
    "elec_data=pd.concat(ed)\n",
    "\n",
    "import matplotlib.pyplot as plt\n",
    "\n",
    "plt.figure(figsize=(10,6))\n",
    "\n",
    "plt.hist(elec_data['consumption'],bins=3000)\n",
    "plt.show()"
   ]
  },
  {
   "cell_type": "code",
   "execution_count": null,
   "metadata": {},
   "outputs": [],
   "source": []
  },
  {
   "cell_type": "code",
   "execution_count": 24,
   "metadata": {},
   "outputs": [
    {
     "data": {
      "text/plain": [
       "Timestamp('2012-07-01 00:00:00')"
      ]
     },
     "execution_count": 24,
     "metadata": {},
     "output_type": "execute_result"
    }
   ],
   "source": [
    "pd.to_datetime('2012/07/01 00:00:00')"
   ]
  },
  {
   "cell_type": "code",
   "execution_count": 29,
   "metadata": {},
   "outputs": [
    {
     "data": {
      "text/plain": [
       "Int64Index([515, 515, 515, 515, 515, 515, 515, 515, 515, 515,\n",
       "            ...\n",
       "              5,   5,   5,   5,   5,   5,   5,   5,   5,   6],\n",
       "           dtype='int64', name='date_hour', length=32856)"
      ]
     },
     "execution_count": 29,
     "metadata": {},
     "output_type": "execute_result"
    }
   ],
   "source": [
    "(tmp.index-pd.to_datetime('2012/07/01 00:00:00')).days  # TimedeltaIndexオブジェクトにより経過時間がわかる"
   ]
  },
  {
   "cell_type": "code",
   "execution_count": 30,
   "metadata": {},
   "outputs": [
    {
     "data": {
      "text/plain": [
       "pandas.core.indexes.timedeltas.TimedeltaIndex"
      ]
     },
     "execution_count": 30,
     "metadata": {},
     "output_type": "execute_result"
    }
   ],
   "source": [
    "type(tmp.index-pd.to_datetime('2012/07/01 00:00:00'))"
   ]
  },
  {
   "cell_type": "code",
   "execution_count": 65,
   "metadata": {},
   "outputs": [
    {
     "data": {
      "text/plain": [
       "sklearn.cross_validation.KFold(n=32855, n_folds=5, shuffle=False, random_state=None)"
      ]
     },
     "execution_count": 65,
     "metadata": {},
     "output_type": "execute_result"
    }
   ],
   "source": [
    "import sklearn.cross_validation\n",
    "\n",
    "kf = sklearn.cross_validation.KFold(len(takamatsu_elec),n_folds=5)\n",
    "kf"
   ]
  },
  {
   "cell_type": "code",
   "execution_count": 70,
   "metadata": {},
   "outputs": [
    {
     "data": {
      "text/plain": [
       "[[array([ 6571,  6572,  6573, ..., 32852, 32853, 32854]),\n",
       "  array([   0,    1,    2, ..., 6568, 6569, 6570])],\n",
       " [array([    0,     1,     2, ..., 32852, 32853, 32854]),\n",
       "  array([ 6571,  6572,  6573, ..., 13139, 13140, 13141])],\n",
       " [array([    0,     1,     2, ..., 32852, 32853, 32854]),\n",
       "  array([13142, 13143, 13144, ..., 19710, 19711, 19712])],\n",
       " [array([    0,     1,     2, ..., 32852, 32853, 32854]),\n",
       "  array([19713, 19714, 19715, ..., 26281, 26282, 26283])],\n",
       " [array([    0,     1,     2, ..., 26281, 26282, 26283]),\n",
       "  array([26284, 26285, 26286, ..., 32852, 32853, 32854])]]"
      ]
     },
     "execution_count": 70,
     "metadata": {},
     "output_type": "execute_result"
    }
   ],
   "source": [
    "[[train,test] for train,test in kf]"
   ]
  },
  {
   "cell_type": "code",
   "execution_count": 71,
   "metadata": {},
   "outputs": [],
   "source": [
    "for train,test in kf:\n",
    "    model=\n",
    "    x_train=takamatsu_wthr[train]\n",
    "    x_test=takamatsu_wthr[test]\n",
    "    y_train=takamatsu_elec[train]\n",
    "    y_test=takamatsu_elec[test]"
   ]
  }
 ],
 "metadata": {
  "kernelspec": {
   "display_name": "Python 3",
   "language": "python",
   "name": "python3"
  },
  "language_info": {
   "codemirror_mode": {
    "name": "ipython",
    "version": 3
   },
   "file_extension": ".py",
   "mimetype": "text/x-python",
   "name": "python",
   "nbconvert_exporter": "python",
   "pygments_lexer": "ipython3",
   "version": "3.6.10"
  },
  "varInspector": {
   "cols": {
    "lenName": 16,
    "lenType": 16,
    "lenVar": 40
   },
   "kernels_config": {
    "python": {
     "delete_cmd_postfix": "",
     "delete_cmd_prefix": "del ",
     "library": "var_list.py",
     "varRefreshCmd": "print(var_dic_list())"
    },
    "r": {
     "delete_cmd_postfix": ") ",
     "delete_cmd_prefix": "rm(",
     "library": "var_list.r",
     "varRefreshCmd": "cat(var_dic_list()) "
    }
   },
   "types_to_exclude": [
    "module",
    "function",
    "builtin_function_or_method",
    "instance",
    "_Feature"
   ],
   "window_display": false
  }
 },
 "nbformat": 4,
 "nbformat_minor": 4
}
