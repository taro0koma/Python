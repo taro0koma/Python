{
 "cells": [
  {
   "cell_type": "code",
   "execution_count": 3,
   "metadata": {},
   "outputs": [
    {
     "data": {
      "text/plain": [
       "0"
      ]
     },
     "execution_count": 3,
     "metadata": {},
     "output_type": "execute_result"
    }
   ],
   "source": [
    "def makex(a):\n",
    "    x=0\n",
    "    while x<a:\n",
    "        yield x  # yield文　イテレーターを更新する\n",
    "        x=x+1\n",
    "# 蓄積型戻り値\n",
    "        \n",
    "n=makex(5)\n",
    "next(n)\n"
   ]
  },
  {
   "cell_type": "code",
   "execution_count": 5,
   "metadata": {},
   "outputs": [
    {
     "name": "stdout",
     "output_type": "stream",
     "text": [
      "0\n",
      "1\n",
      "2\n",
      "3\n",
      "4\n"
     ]
    }
   ],
   "source": [
    "for i in makex(5):  # range()関数同様の動きをする\n",
    "    print(i)"
   ]
  },
  {
   "cell_type": "code",
   "execution_count": 7,
   "metadata": {},
   "outputs": [
    {
     "name": "stdout",
     "output_type": "stream",
     "text": [
      "0\n",
      "2\n",
      "4\n",
      "6\n"
     ]
    }
   ],
   "source": [
    "def g():\n",
    "    for i in range(10):\n",
    "        if i%2==0:\n",
    "            yield i  # イテレータを蓄積\n",
    "g=g()  # g=(i for i in range(10) if i%2==0)  内包表記とはジェネレータオブジェクトである\n",
    "print(next(g))\n",
    "print(next(g))\n",
    "print(next(g))\n",
    "print(next(g))"
   ]
  },
  {
   "cell_type": "code",
   "execution_count": 10,
   "metadata": {},
   "outputs": [
    {
     "name": "stdout",
     "output_type": "stream",
     "text": [
      "1\n",
      "2\n",
      "3\n",
      "1\n",
      "2\n",
      "3\n"
     ]
    }
   ],
   "source": [
    "class A(object):\n",
    "    def __init__(self):\n",
    "        self.no_list=[1,2,3]\n",
    "    def __iter__(self):\n",
    "        for no in self.no_list:\n",
    "            yield no\n",
    "        else:\n",
    "            return\n",
    "        \n",
    "a=A()\n",
    "\n",
    "for i in a:  # クラスA構成時に独自イテレータが蓄積されている\n",
    "    print(i)\n",
    "for i in a:\n",
    "    print(i)"
   ]
  },
  {
   "cell_type": "code",
   "execution_count": 17,
   "metadata": {},
   "outputs": [
    {
     "name": "stdout",
     "output_type": "stream",
     "text": [
      "<< 0\n",
      "<< 1\n",
      "<< 2\n",
      "<< 3\n",
      "<< 3\n",
      "<< 2\n",
      "<< 1\n"
     ]
    }
   ],
   "source": [
    "def gen_1():\n",
    "    for i in range(4):\n",
    "        yield \"<< %s\" % i  # printf挿入演算子 %sにはstring %dにはint %fにはfloatを挿入できる\n",
    "\n",
    "def gen_2():\n",
    "    for i in range(3,0,-1):\n",
    "        yield \"<< %s\" % i\n",
    "\n",
    "# yield fromを使わない関数\n",
    "def gen_wrapper(gen_func1,gen_func2):\n",
    "    for i in gen_func1:\n",
    "        yield i\n",
    "    for i in gen_func2:\n",
    "        yield i  # yield文で蓄積されたものは連結されない　これは二つ目のイテレータになる\n",
    "\n",
    "if __name__==\"__main__\":\n",
    "    gen_func=gen_wrapper(gen_1(),gen_2())\n",
    "    for i in gen_func:\n",
    "        print(i)\n",
    "        \n",
    "# yield fromを使う関数\n",
    "def gen_wrapper(gen_func1,gen_func2):\n",
    "    yield from gen_func1  # ジェネレータのイテレーション処理ブロックを省略する\n",
    "    yield from gen_func2\n",
    "\n",
    "gen_funk=gen_wrapper(gen_1(),gen_2())\n",
    "for i in gen_func:\n",
    "    print(i)"
   ]
  }
 ],
 "metadata": {
  "kernelspec": {
   "display_name": "Python 3",
   "language": "python",
   "name": "python3"
  },
  "language_info": {
   "codemirror_mode": {
    "name": "ipython",
    "version": 3
   },
   "file_extension": ".py",
   "mimetype": "text/x-python",
   "name": "python",
   "nbconvert_exporter": "python",
   "pygments_lexer": "ipython3",
   "version": "3.6.10"
  },
  "toc": {
   "base_numbering": 1,
   "nav_menu": {},
   "number_sections": true,
   "sideBar": true,
   "skip_h1_title": false,
   "title_cell": "Table of Contents",
   "title_sidebar": "Contents",
   "toc_cell": false,
   "toc_position": {},
   "toc_section_display": true,
   "toc_window_display": false
  },
  "varInspector": {
   "cols": {
    "lenName": 16,
    "lenType": 16,
    "lenVar": 40
   },
   "kernels_config": {
    "python": {
     "delete_cmd_postfix": "",
     "delete_cmd_prefix": "del ",
     "library": "var_list.py",
     "varRefreshCmd": "print(var_dic_list())"
    },
    "r": {
     "delete_cmd_postfix": ") ",
     "delete_cmd_prefix": "rm(",
     "library": "var_list.r",
     "varRefreshCmd": "cat(var_dic_list()) "
    }
   },
   "types_to_exclude": [
    "module",
    "function",
    "builtin_function_or_method",
    "instance",
    "_Feature"
   ],
   "window_display": false
  }
 },
 "nbformat": 4,
 "nbformat_minor": 4
}
