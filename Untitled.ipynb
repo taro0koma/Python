{
 "cells": [
  {
   "cell_type": "code",
   "execution_count": null,
   "metadata": {},
   "outputs": [],
   "source": [
    "t=int(input())\n",
    "\n",
    "for _ in range(t):\n",
    "    n= int(input())\n",
    "    arr=list(map(int,input().rstrip().split()))\n",
    "    org=range(n+1)\n",
    "    pos=range(n+1)\n",
    "    cnt=[0]*(n+1)\n",
    "    ans=0\n",
    "    invalid=0\n",
    "    \n",
    "    for i in range(n-1,-1,-1):\n",
    "        if invalid:\n",
    "            break\n",
    "        oldp=pos[arr[i]]\n",
    "        \n",
    "        newp=i+1\n",
    "        while oldp!=newp:\n",
    "            ans+=1\n",
    "            cnt[org[oldp+1]] +=1\n",
    "            if cnt[org[oldp+1]]>2:\n",
    "                invalid=1\n",
    "                break\n",
    "            org[oldp],org[oldp+1]=org[oldp+1],org[oldp]\n",
    "            pos[org[oldp]]=oldp\n",
    "            pos[org[oldp+1]]=oldp+1\n",
    "            oldp=oldp+1\n",
    "    if invalid:\n",
    "        ans=\"Too chaotic\"\n",
    "    print(ans)\n",
    "    "
   ]
  },
  {
   "cell_type": "code",
   "execution_count": 3,
   "metadata": {},
   "outputs": [
    {
     "name": "stdout",
     "output_type": "stream",
     "text": [
      "5\n",
      "ID         MARKS      NAME       CLASS     \n",
      "1          97         Raymond    7         \n",
      "2          50         Steven     4         \n",
      "3          91         Adrian     9         \n",
      "4          72         Stewart    5         \n",
      "5          80         Peter      6   \n",
      "78.0\n"
     ]
    }
   ],
   "source": [
    "from collections import namedtuple\n",
    "num=int(input())\n",
    "labels=input().split()\n",
    "mark_sum=0\n",
    "Student=namedtuple('Student',labels)\n",
    "for i in range(num):\n",
    "    data=input().split()\n",
    "    student=Student(data[0],data[1],data[2],data[3])\n",
    "    mark_sum+=int(student.MARKS)\n",
    "print(\"{:2f}\".format(mark_sum/num)\n",
    "    "
   ]
  },
  {
   "cell_type": "code",
   "execution_count": 1,
   "metadata": {},
   "outputs": [
    {
     "data": {
      "text/plain": [
       "['ID', 'MARKS', 'NAME', 'CLASS']"
      ]
     },
     "execution_count": 1,
     "metadata": {},
     "output_type": "execute_result"
    }
   ],
   "source": [
    "\"ID         MARKS      NAME       CLASS    \".split()"
   ]
  }
 ],
 "metadata": {
  "kernelspec": {
   "display_name": "Python 3",
   "language": "python",
   "name": "python3"
  },
  "language_info": {
   "codemirror_mode": {
    "name": "ipython",
    "version": 3
   },
   "file_extension": ".py",
   "mimetype": "text/x-python",
   "name": "python",
   "nbconvert_exporter": "python",
   "pygments_lexer": "ipython3",
   "version": "3.6.10"
  },
  "varInspector": {
   "cols": {
    "lenName": 16,
    "lenType": 16,
    "lenVar": 40
   },
   "kernels_config": {
    "python": {
     "delete_cmd_postfix": "",
     "delete_cmd_prefix": "del ",
     "library": "var_list.py",
     "varRefreshCmd": "print(var_dic_list())"
    },
    "r": {
     "delete_cmd_postfix": ") ",
     "delete_cmd_prefix": "rm(",
     "library": "var_list.r",
     "varRefreshCmd": "cat(var_dic_list()) "
    }
   },
   "types_to_exclude": [
    "module",
    "function",
    "builtin_function_or_method",
    "instance",
    "_Feature"
   ],
   "window_display": false
  }
 },
 "nbformat": 4,
 "nbformat_minor": 4
}
