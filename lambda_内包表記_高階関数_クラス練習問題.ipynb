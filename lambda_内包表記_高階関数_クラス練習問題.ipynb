{
 "cells": [
  {
   "cell_type": "code",
   "execution_count": 2,
   "metadata": {},
   "outputs": [
    {
     "name": "stdout",
     "output_type": "stream",
     "text": [
      "[22.86, 13.97, 15.24, 16.51, 25.4]\n"
     ]
    }
   ],
   "source": [
    "def larger_5(inch):\n",
    "    return inch>5  # 真偽式\n",
    "inches=[9,5.5,6,4,6.5,10]\n",
    "cms=[]\n",
    "for inch in filter(larger_5,inches):\n",
    "    cms.append(inch*2.54)\n",
    "print(cms)"
   ]
  },
  {
   "cell_type": "code",
   "execution_count": 38,
   "metadata": {},
   "outputs": [
    {
     "name": "stdout",
     "output_type": "stream",
     "text": [
      "[22.86, 13.97, 15.24, 25.4]\n",
      "[22.86, 13.97, 15.24, 25.4, 22.86, 13.97, 15.24, 25.4]\n",
      "[15, 14, 11, 10.5, 10, 9]\n",
      "[22.86, 13.97, 15.24, 25.4]\n"
     ]
    }
   ],
   "source": [
    "def larger_5(inch):\n",
    "    return inch>5  # 真偽式\n",
    "inches=[9,5.5,6,4,5,10]\n",
    "cms=[]\n",
    "for inch in filter(larger_5,inches):\n",
    "    cms.append(inch*2.54)\n",
    "print(cms)\n",
    "for inch in filter(lambda x:x>5,inches):  # イテレータが含まれるためfor文に導入できる\n",
    "    cms.append(inch*2.54)\n",
    "print(cms)\n",
    "\n",
    "list1=list(map(lambda x:x+5,inches))\n",
    "list1.sort(reverse=True)\n",
    "print(list1)\n",
    "\n",
    "print([inch *2.54 for inch in inches if inch>5])"
   ]
  },
  {
   "cell_type": "code",
   "execution_count": 4,
   "metadata": {},
   "outputs": [
    {
     "name": "stdout",
     "output_type": "stream",
     "text": [
      "[22.86, 13.97, 15.24, 16.51, 25.4]\n"
     ]
    }
   ],
   "source": [
    "inches=[9,5.5,6,4,6.5,10]\n",
    "cms=[]\n",
    "for inch in filter(lambda inch: inch>5,inches):\n",
    "    cms.append(inch*2.54)\n",
    "print(cms)\n"
   ]
  },
  {
   "cell_type": "code",
   "execution_count": 6,
   "metadata": {},
   "outputs": [
    {
     "name": "stdout",
     "output_type": "stream",
     "text": [
      "[22.86, 13.97, 15.24, 16.51, 25.4]\n"
     ]
    }
   ],
   "source": [
    "inches = [9, 5.5, 6, 4, 6.5, 10]\n",
    "cms = [inch * 2.54 for inch in inches if inch > 5]\n",
    "print(cms)"
   ]
  },
  {
   "cell_type": "code",
   "execution_count": 9,
   "metadata": {},
   "outputs": [
    {
     "name": "stdout",
     "output_type": "stream",
     "text": [
      "{'京都': 8, '北海道': 11, '沖縄': 10, '博多': 7, '大阪': 4}\n",
      "北海道 : 11\n",
      "沖縄 : 10\n",
      "京都 : 8\n",
      "博多 : 7\n",
      "大阪 : 4\n",
      "北海道 : 11\n",
      "沖縄 : 10\n",
      "京都 : 8\n",
      "博多 : 7\n",
      "大阪 : 4\n"
     ]
    }
   ],
   "source": [
    "answer = [\"京都\", \"北海道\", \"沖縄\", \"博多\", \"北海道\", \"大阪\",\n",
    "\"京都\", \"京都\",\"大阪\", \"京都\", \"京都\", \"大阪\", \"京都\",\n",
    "\"京都\", \"博多\", \"沖縄\",\"沖縄\", \"博多\", \"沖縄\", \"博多\",\n",
    "\"沖縄\", \"北海道\", \"北海道\", \"沖縄\", \"沖縄\", \"北海道\", \"博多\",\n",
    "\"北海道\", \"沖縄\", \"北海道\", \"大阪\", \"北海道\", \"博多\", \"博多\",\n",
    "\"北海道\", \"北海道\", \"北海道\",\"沖縄\", \"沖縄\", \"京都\"]\n",
    " \n",
    "# 空の辞書を用意\n",
    "results = { }\n",
    " \n",
    "# 辞書resultsに地域と得票数を格納する\n",
    "for region in answer: \n",
    "    if region in results: \n",
    "        results[region] += 1 \n",
    "    else: \n",
    "        results[region] = 1  # keyをregionとするディクショナリを新規作成、valueに1を代入（\n",
    "# 結果を表示する\n",
    "print(results) \n",
    "for region, num in sorted(results.items(),key=lambda c:c[1],reverse=True): \n",
    "    print(region,\":\",num)\n",
    "    \n",
    "for region in sorted(results.items(),key=lambda c:c[1],reverse=True):  # アンパック対象を一つにすると要素2個のリストになる\n",
    "    print(region[0],\":\",region[1])　"
   ]
  },
  {
   "cell_type": "code",
   "execution_count": 15,
   "metadata": {},
   "outputs": [
    {
     "name": "stdout",
     "output_type": "stream",
     "text": [
      "田中 さん 23 才の標準体重は 71.28 です。\n",
      "渡辺 さん 25 才の標準体重は 61.3558 です。\n",
      "田中 さんは 23 才のシンデレラ体重は 58.32000000000001 です。\n",
      "渡辺 さんは 25 才のシンデレラ体重は 50.200199999999995 です。\n"
     ]
    }
   ],
   "source": [
    "class Person:\n",
    "    bmi=22\n",
    "    def __init__(self,name,age,height=0):\n",
    "        self.name=name\n",
    "        self.age=age\n",
    "        self.height=height\n",
    "    def getName(self):\n",
    "        return self.name\n",
    "    def getAge(self):\n",
    "        return self.age\n",
    "    def std_weight(self):\n",
    "        return Person.bmi*(self.height/100)**2\n",
    "    @classmethod\n",
    "    def setBmi(cls,bmi):\n",
    "        cls.bmi=bmi\n",
    "#名前、年齢、身長(cm)でインスタンスを作成\n",
    "pr1 = Person(\"田中\", 23, 180)\n",
    "pr2 = Person(\"渡辺\", 25, 167)\n",
    " \n",
    "#名前、年齢、標準体重を取得\n",
    "n1 = pr1.getName()\n",
    "a1 = pr1.getAge()\n",
    "s1 = pr1.std_weight()\n",
    " \n",
    "n2 = pr2.getName()\n",
    "a2 = pr2.getAge()\n",
    "s2 = pr2.std_weight()\n",
    " \n",
    "#名前、年齢、標準体重を表示\n",
    "print(n1, \"さん\", a1, \"才の標準体重は\",s1,\"です。\")\n",
    "print(n2, \"さん\", a2, \"才の標準体重は\",s2,\"です。\")\n",
    " \n",
    "#BMIを変更\n",
    "Person.setBmi(18)\n",
    " \n",
    "#名前、年齢、標準体重を取得\n",
    "n1 = pr1.getName()\n",
    "a1 = pr1.getAge()\n",
    "s1 = pr1.std_weight()\n",
    " \n",
    "n2 = pr2.getName()\n",
    "a2 = pr2.getAge()\n",
    "s2 = pr2.std_weight()\n",
    " \n",
    "#名前、年齢、標準体重を表示\n",
    "print(n1, \"さんは\", a1, \"才のシンデレラ体重は\",s1,\"です。\")\n",
    "print(n2, \"さんは\", a2, \"才のシンデレラ体重は\",s2,\"です。\")"
   ]
  },
  {
   "cell_type": "code",
   "execution_count": 18,
   "metadata": {},
   "outputs": [
    {
     "name": "stdout",
     "output_type": "stream",
     "text": [
      "田中 さん 23 才の標準体重は 71.28 です。\n",
      "渡辺 さん 25 才の標準体重は 56.32000000000001 です。\n",
      "田中 さん 23 才の標準体重は 68.04 です。\n",
      "渡辺 さん 25 才の標準体重は 53.76000000000001 です。\n"
     ]
    }
   ],
   "source": [
    "class Person:\n",
    "    bmi=22\n",
    "    def __init__(self, name, age, height=0):\n",
    "        self.name = name\n",
    "        self.age = age\n",
    "        self.height = height\n",
    " \n",
    "    def getName(self):\n",
    "        return self.name\n",
    " \n",
    "    def getAge(self):\n",
    "        return self.age\n",
    "    \n",
    "    def std_weight(self):\n",
    "        return Person.bmi * (self.height/100)**2\n",
    "    \n",
    "    @classmethod\n",
    "    def setBmi(cls, bmi):\n",
    "        cls.bmi = bmi\n",
    "    \n",
    "    # property()によってgetメソッドを実行する際変数を用いることができる\n",
    "    Name = property(getName)\n",
    "    Age = property(getAge)\n",
    "    stdWeight = property(std_weight)\n",
    "    \n",
    "#  名前、年齢、身長(cm)でインスタンスを作成\n",
    "pr1 = Person(\"田中\", 23, 180)\n",
    "pr2 = Person(\"渡辺\", 25, 160)\n",
    " \n",
    "#名前、年齢、標準体重を表示\n",
    "print(pr1.Name, \"さん\", pr1.Age, \"才の標準体重は\",pr1.stdWeight,\"です。\")  # getterを変数でreturnする\n",
    "print(pr2.Name, \"さん\", pr2.Age, \"才の標準体重は\",pr2.stdWeight,\"です。\")\n",
    " \n",
    "#BMIを変更\n",
    "Person.setBmi(21)\n",
    " \n",
    "#名前、年齢、標準体重を表示\n",
    "print(pr1.Name, \"さん\", pr1.Age, \"才の標準体重は\",pr1.stdWeight,\"です。\")\n",
    "print(pr2.Name, \"さん\", pr2.Age, \"才の標準体重は\",pr2.stdWeight,\"です。\")"
   ]
  },
  {
   "cell_type": "code",
   "execution_count": 20,
   "metadata": {},
   "outputs": [
    {
     "name": "stdout",
     "output_type": "stream",
     "text": [
      "田中 さん 23 才の標準体重は 71.28 です。\n",
      "渡辺 さん 25 才の標準体重は 56.32000000000001 です。\n",
      "田中 さん 23 才の標準体重は 68.04 です。\n",
      "渡辺 さん 25 才の標準体重は 53.76000000000001 です。\n"
     ]
    }
   ],
   "source": [
    "class Person:\n",
    "    bmi=22\n",
    "    def __init__(self, name, age, height=0):\n",
    "        self.name = name\n",
    "        self.age = age\n",
    "        self.height = height\n",
    " \n",
    "    def getName(self):\n",
    "        return self.name\n",
    " \n",
    "    def getAge(self):\n",
    "        return self.age\n",
    "    \n",
    "    def std_weight(self):\n",
    "        return Person.bmi * (self.height/100)**2\n",
    "    \n",
    "    def disp(self):  # disp()メソッドを準備することで、self変数を定型文で出力できる\n",
    "        print(self.name, \"さん\", self.age, \"才の標準体重は\", self.std_weight(),\"です。\")\n",
    "    \n",
    "    @classmethod\n",
    "    def setBmi(cls, bmi):\n",
    "        cls.bmi = bmi\n",
    "        \n",
    "    Name = property(getName)\n",
    "    Age = property(getAge)\n",
    "    stdWeight = property(std_weight)\n",
    "\n",
    "#名前、年齢、身長(cm)でインスタンスを作成\n",
    "pr1 = Person(\"田中\", 23, 180)\n",
    "pr2 = Person(\"渡辺\", 25, 160)\n",
    " \n",
    "#名前、年齢、標準体重を表示\n",
    "pr1.disp()\n",
    "pr2.disp()\n",
    " \n",
    "#BMIを変更\n",
    "Person.setBmi(21)\n",
    " \n",
    "#名前、年齢、標準体重を表示\n",
    "pr1.disp()\n",
    "pr2.disp()"
   ]
  },
  {
   "cell_type": "code",
   "execution_count": 21,
   "metadata": {},
   "outputs": [
    {
     "name": "stdout",
     "output_type": "stream",
     "text": [
      "田中 さん 23 才の標準体重は 71.28 です。\n",
      "渡辺 さん 25 才の標準体重は 56.32000000000001 です。\n",
      "田中 さん 23 才の標準体重は 68.04 です。\n",
      "渡辺 さん 25 才の標準体重は 53.76000000000001 です。\n"
     ]
    }
   ],
   "source": [
    "class Person:\n",
    " \n",
    "    def __init__(self, name, age):\n",
    "        self.name = name\n",
    "        self.age = age\n",
    " \n",
    "    def getName(self):\n",
    "        return self.name\n",
    " \n",
    "    def getAge(self):\n",
    "        return self.age\n",
    "    \n",
    "class Student(Person):\n",
    "    bmi=22\n",
    "    def __init__(self, nm, ag, height):\n",
    "        super().__init__(nm, ag)\n",
    "        self.height = height\n",
    " \n",
    "    def std_weight(self):\n",
    "        return Student.bmi * (self.height/100)**2\n",
    "    \n",
    "    def disp(self):\n",
    "        print(self.name, \"さん\", self.age, \"才の標準体重は\", self.std_weight(),\"です。\")\n",
    "    \n",
    "    @classmethod\n",
    "    def setBmi(cls, bmi):\n",
    "        cls.bmi = bmi\n",
    " \n",
    "    \n",
    "#名前、年齢、身長(cm)でインスタンスを作成\n",
    "pr1 = Student(\"田中\", 23, 180)\n",
    "pr2 = Student(\"渡辺\", 25, 160)\n",
    " \n",
    "#名前、年齢、標準体重を表示\n",
    "pr1.disp()\n",
    "pr2.disp()\n",
    " \n",
    "#BMIを変更\n",
    "Student.setBmi(21)\n",
    " \n",
    "#名前、年齢、標準体重を表示\n",
    "pr1.disp()\n",
    "pr2.disp()\n",
    " "
   ]
  }
 ],
 "metadata": {
  "kernelspec": {
   "display_name": "Python 3",
   "language": "python",
   "name": "python3"
  },
  "language_info": {
   "codemirror_mode": {
    "name": "ipython",
    "version": 3
   },
   "file_extension": ".py",
   "mimetype": "text/x-python",
   "name": "python",
   "nbconvert_exporter": "python",
   "pygments_lexer": "ipython3",
   "version": "3.6.10"
  },
  "toc": {
   "base_numbering": 1,
   "nav_menu": {},
   "number_sections": true,
   "sideBar": true,
   "skip_h1_title": false,
   "title_cell": "Table of Contents",
   "title_sidebar": "Contents",
   "toc_cell": false,
   "toc_position": {},
   "toc_section_display": true,
   "toc_window_display": false
  },
  "varInspector": {
   "cols": {
    "lenName": 16,
    "lenType": 16,
    "lenVar": 40
   },
   "kernels_config": {
    "python": {
     "delete_cmd_postfix": "",
     "delete_cmd_prefix": "del ",
     "library": "var_list.py",
     "varRefreshCmd": "print(var_dic_list())"
    },
    "r": {
     "delete_cmd_postfix": ") ",
     "delete_cmd_prefix": "rm(",
     "library": "var_list.r",
     "varRefreshCmd": "cat(var_dic_list()) "
    }
   },
   "types_to_exclude": [
    "module",
    "function",
    "builtin_function_or_method",
    "instance",
    "_Feature"
   ],
   "window_display": false
  }
 },
 "nbformat": 4,
 "nbformat_minor": 4
}
