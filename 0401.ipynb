{
 "cells": [
  {
   "cell_type": "code",
   "execution_count": 4,
   "metadata": {},
   "outputs": [
    {
     "data": {
      "image/png": "[encoded data removed]",
      "text/plain": [
       "<Figure size 432x288 with 1 Axes>"
      ]
     },
     "metadata": {
      "needs_background": "light"
     },
     "output_type": "display_data"
    }
   ],
   "source": [
    "import numpy as np\n",
    "import matplotlib.pyplot as plt\n",
    "\n",
    "x=np.random.rand(100,1)\n",
    "x=x*2-4\n",
    "y=3*x-2\n",
    "\n",
    "plt.scatter(x,y,marker='+')\n",
    "plt.show()"
   ]
  },
  {
   "cell_type": "code",
   "execution_count": 16,
   "metadata": {},
   "outputs": [
    {
     "name": "stdout",
     "output_type": "stream",
     "text": [
      "係数　 [[3.]]\n",
      "切片　 [-2.]\n",
      "xとyの相関  [[ -3.94887649 -13.84662947]\n",
      " [ -2.23701946  -8.71105838]\n",
      " [ -3.83943434 -13.51830303]\n",
      " [ -2.20765243  -8.6229573 ]\n",
      " [ -2.80761241 -10.42283722]\n",
      " [ -2.11366535  -8.34099605]\n",
      " [ -2.11525182  -8.34575547]\n",
      " [ -2.63997325  -9.91991976]\n",
      " [ -2.70762167 -10.12286501]\n",
      " [ -2.7807616  -10.34228479]\n",
      " [ -2.24828579  -8.74485738]\n",
      " [ -3.36212198 -12.08636594]\n",
      " [ -3.74231152 -13.22693457]\n",
      " [ -3.81363921 -13.44091764]\n",
      " [ -3.143691   -11.431073  ]\n",
      " [ -2.25091602  -8.75274806]\n",
      " [ -3.72527158 -13.17581475]\n",
      " [ -2.24047305  -8.72141916]\n",
      " [ -2.73397561 -10.20192682]\n",
      " [ -2.10253146  -8.30759438]\n",
      " [ -2.5251498   -9.5754494 ]\n",
      " [ -2.64022907  -9.92068721]\n",
      " [ -3.78230263 -13.3469079 ]\n",
      " [ -3.60388703 -12.81166109]\n",
      " [ -3.46504523 -12.3951357 ]\n",
      " [ -3.12488351 -11.37465053]\n",
      " [ -2.79909878 -10.39729635]\n",
      " [ -3.24869721 -11.74609164]\n",
      " [ -2.64250893  -9.9275268 ]\n",
      " [ -3.67511768 -13.02535304]\n",
      " [ -2.22821784  -8.68465353]\n",
      " [ -2.61824463  -9.85473389]\n",
      " [ -2.4682677   -9.40480311]\n",
      " [ -3.31879755 -11.95639266]\n",
      " [ -3.20945907 -11.62837722]\n",
      " [ -3.58511813 -12.75535439]\n",
      " [ -2.9036851  -10.71105529]\n",
      " [ -2.11878159  -8.35634477]\n",
      " [ -2.64946891  -9.94840674]\n",
      " [ -3.39478325 -12.18434976]\n",
      " [ -2.89827145 -10.69481435]\n",
      " [ -3.63704347 -12.9111304 ]\n",
      " [ -2.398752    -9.19625599]\n",
      " [ -2.21776327  -8.65328982]\n",
      " [ -3.11822166 -11.35466498]\n",
      " [ -2.19572373  -8.58717118]\n",
      " [ -2.87010599 -10.61031798]\n",
      " [ -3.83960229 -13.51880686]\n",
      " [ -2.74988706 -10.24966119]\n",
      " [ -3.48643152 -12.45929457]\n",
      " [ -2.57974133  -9.73922398]\n",
      " [ -2.06799752  -8.20399257]\n",
      " [ -3.09340849 -11.28022546]\n",
      " [ -2.72509847 -10.17529542]\n",
      " [ -3.06510342 -11.19531027]\n",
      " [ -3.81711684 -13.45135052]\n",
      " [ -3.98395122 -13.95185367]\n",
      " [ -3.82733607 -13.48200822]\n",
      " [ -2.29919613  -8.8975884 ]\n",
      " [ -3.63629241 -12.90887722]\n",
      " [ -3.59018279 -12.77054836]\n",
      " [ -3.77123629 -13.31370886]\n",
      " [ -3.96442011 -13.89326034]\n",
      " [ -3.60215719 -12.80647156]\n",
      " [ -2.85028897 -10.55086692]\n",
      " [ -2.6944063  -10.08321889]\n",
      " [ -3.82694992 -13.48084976]\n",
      " [ -3.96426855 -13.89280564]\n",
      " [ -3.78796487 -13.3638946 ]\n",
      " [ -2.4802494   -9.44074821]\n",
      " [ -3.69756283 -13.09268849]\n",
      " [ -3.12748701 -11.38246104]\n",
      " [ -3.65531626 -12.96594878]\n",
      " [ -3.86016446 -13.58049337]\n",
      " [ -2.66638456  -9.99915369]\n",
      " [ -3.83779569 -13.51338708]\n",
      " [ -2.15413045  -8.46239135]\n",
      " [ -3.3180904  -11.95427121]\n",
      " [ -3.87642072 -13.62926217]\n",
      " [ -3.2283971  -11.68519129]\n",
      " [ -3.31675566 -11.95026699]\n",
      " [ -2.02609715  -8.07829144]\n",
      " [ -3.93424021 -13.80272064]\n",
      " [ -3.14579677 -11.4373903 ]\n",
      " [ -2.15295501  -8.45886504]\n",
      " [ -3.49879556 -12.49638668]\n",
      " [ -2.67647208 -10.02941625]\n",
      " [ -3.5007534  -12.5022602 ]\n",
      " [ -3.40411539 -12.21234618]\n",
      " [ -3.85323292 -13.55969876]\n",
      " [ -2.46746379  -9.40239137]\n",
      " [ -3.84488612 -13.53465835]\n",
      " [ -3.61084247 -12.8325274 ]\n",
      " [ -2.26897941  -8.80693823]\n",
      " [ -2.38545667  -9.15637001]\n",
      " [ -3.6194656  -12.85839679]\n",
      " [ -2.39322863  -9.1796859 ]\n",
      " [ -2.10769952  -8.32309857]\n",
      " [ -3.92123167 -13.76369502]\n",
      " [ -2.06581404  -8.19744212]]\n"
     ]
    }
   ],
   "source": [
    "from sklearn import linear_model\n",
    "model=linear_model.LinearRegression()\n",
    "model.fit(x,y)\n",
    "print('係数　',model.coef_)\n",
    "print('切片　',model.intercept_)\n",
    "print('xとyの相関 ',np.c_[x,y])"
   ]
  },
  {
   "cell_type": "code",
   "execution_count": 20,
   "metadata": {},
   "outputs": [
    {
     "name": "stdout",
     "output_type": "stream",
     "text": [
      "最大 0.9556951805949434\n",
      "最小 0.0010757981898423807\n",
      "平均 0.4642364220463122\n",
      "標準偏差 0.27133698305008086\n"
     ]
    }
   ],
   "source": [
    "import numpy as np\n",
    "x=np.random.rand(100,1)\n",
    "print('最大',x.max())\n",
    "print('最小',x.min())\n",
    "print('平均',x.mean())\n",
    "print('標準偏差',x.std())"
   ]
  },
  {
   "cell_type": "code",
   "execution_count": 24,
   "metadata": {},
   "outputs": [
    {
     "name": "stdout",
     "output_type": "stream",
     "text": [
      "最大 1.8610942561848456\n",
      "最小 -2.3342667955300143\n",
      "平均 -0.08370145199330435\n",
      "標準偏差 0.9869755847935938\n"
     ]
    }
   ],
   "source": [
    "import numpy as np\n",
    "y=np.random.randn(100,1)  # 標準偏差１の正規分布乱数\n",
    "print('最大',y.max())\n",
    "print('最小',y.min())\n",
    "print('平均',y.mean())\n",
    "print('標準偏差',y.std())"
   ]
  },
  {
   "cell_type": "code",
   "execution_count": 26,
   "metadata": {},
   "outputs": [
    {
     "name": "stdout",
     "output_type": "stream",
     "text": [
      "最大 50\n",
      "最小 10\n",
      "平均 30.0\n",
      "標準偏差 14.142135623730951\n"
     ]
    }
   ],
   "source": [
    "a=np.array([10,20,30,40,50])\n",
    "print('最大',a.max())\n",
    "print('最小',a.min())\n",
    "print('平均',a.mean())\n",
    "print('標準偏差',a.std())"
   ]
  },
  {
   "cell_type": "code",
   "execution_count": 41,
   "metadata": {},
   "outputs": [
    {
     "name": "stdout",
     "output_type": "stream",
     "text": [
      "[-20. -10.   0.  10.  20.]\n",
      "14.142135623730951\n",
      "[-1.41421356 -0.70710678  0.          0.70710678  1.41421356]\n"
     ]
    }
   ],
   "source": [
    "import math\n",
    "a=a-a.mean()  # 平均を引くことで中央値を原点とした分布になる\n",
    "print(a)\n",
    "result=0\n",
    "for v in a**2:\n",
    "    result+=v\n",
    "print(math.sqrt(result/len(a)))  # 標準偏差\n",
    "z=a/a.std()\n",
    "print(z)"
   ]
  },
  {
   "cell_type": "code",
   "execution_count": 42,
   "metadata": {},
   "outputs": [
    {
     "name": "stdout",
     "output_type": "stream",
     "text": [
      "60.0\n",
      "14.142135623730951\n",
      "1.414213562373095\n",
      "64.14213562373095\n"
     ]
    }
   ],
   "source": [
    "A=np.array([40,40,50,50,60,60,70,70,80,80])\n",
    "print(A.mean())\n",
    "print(A.std())\n",
    "z=(80-A.mean())/A.std()\n",
    "print(z)\n",
    "print(50+10*z)"
   ]
  },
  {
   "cell_type": "code",
   "execution_count": 45,
   "metadata": {},
   "outputs": [],
   "source": [
    "import matplotlib.pyplot as plt\n",
    "import numpy as np\n",
    "x1=np.random.rand(100,1)\n",
    "x1=x1*4-2\n",
    "\n",
    "x2=np.random.rand(100,1)\n",
    "x2=x2*4-2\n",
    "\n",
    "y=3*x1-2*x2+1\n",
    "\n",
    "from sklearn import linear_model\n",
    "x1_x2=np.c_[x1,x2]\n",
    "model=linear_model.LinearRegression()\n",
    "model.fit(x1_x2,y)\n",
    "\n",
    "y_=model.predict(x1_x2)\n",
    "\n"
   ]
  },
  {
   "cell_type": "code",
   "execution_count": 49,
   "metadata": {},
   "outputs": [
    {
     "data": {
      "image/png": "[encoded data removed]",
      "text/plain": [
       "<Figure size 432x288 with 3 Axes>"
      ]
     },
     "metadata": {
      "needs_background": "light"
     },
     "output_type": "display_data"
    }
   ],
   "source": [
    "import matplotlib.pyplot as plt\n",
    "import numpy as np\n",
    "x=np.random.rand(100,1)\n",
    "x=x*2-1\n",
    "y=4*x**3-3*x**2+2*x-1\n",
    "y+=np.random.randn(100,1)\n",
    "\n",
    "x_train=x[:30]\n",
    "y_train=y[:30]\n",
    "\n",
    "x_test=x[30:]\n",
    "y_test=y[30:]\n",
    "\n",
    "plt.subplot(2,2,1)\n",
    "plt.scatter(x,y,marker='+')\n",
    "plt.title('all')\n",
    "plt.subplot(2,2,2)\n",
    "plt.scatter(x_train,y_train,marker='+')\n",
    "plt.title('train')\n",
    "plt.subplot(2,2,3)\n",
    "plt.scatter(x_test,y_test,marker='+')\n",
    "plt.title('test')\n",
    "plt.tight_layout()\n",
    "plt.show()"
   ]
  },
  {
   "cell_type": "code",
   "execution_count": null,
   "metadata": {},
   "outputs": [],
   "source": []
  },
  {
   "cell_type": "code",
   "execution_count": 61,
   "metadata": {},
   "outputs": [
    {
     "name": "stdout",
     "output_type": "stream",
     "text": [
      "[[ 0.4500833  -0.2808546   0.685706   -0.57225871  0.98050073 -0.8640659\n",
      "   1.38264442 -0.86415347  2.56254365]]\n",
      "[-1.58544745]\n",
      "0.8613797727427265\n"
     ]
    }
   ],
   "source": [
    "X_TRAIN=np.c_[x_train**9,x_train**8,x_train**7,\n",
    "             x_train**6,x_train**5,x_train**4,\n",
    "             x_train**3,x_train**2,x_train]\n",
    "X_TEST=np.c_[x_test**9,x_test**8,x_test**7,\n",
    "             x_test**6,x_test**5,x_test**4,\n",
    "             x_test**3,x_test**2,x_test]\n",
    "from sklearn import linear_model\n",
    "model=linear_model.Ridge()\n",
    "model.fit(X_TRAIN,y_train)\n",
    "\n",
    "print(model.coef_)\n",
    "print(model.intercept_)\n",
    "print(model.score(X_TEST,y_test))"
   ]
  },
  {
   "cell_type": "code",
   "execution_count": 65,
   "metadata": {},
   "outputs": [
    {
     "name": "stdout",
     "output_type": "stream",
     "text": [
      "[[ 0.4500833  -0.2808546   0.685706   -0.57225871  0.98050073 -0.8640659\n",
      "   1.38264442 -0.86415347  2.56254365]]\n",
      "[-1.58544745]\n"
     ]
    },
    {
     "data": {
      "image/png": "[encoded data removed]",
      "text/plain": [
       "<Figure size 432x288 with 1 Axes>"
      ]
     },
     "metadata": {
      "needs_background": "light"
     },
     "output_type": "display_data"
    }
   ],
   "source": [
    "print(model.coef_)\n",
    "print(model.intercept_)\n",
    "plt.scatter(x_test,y_test,marker='+')\n",
    "plt.scatter(x_test,model.predict(X_TEST))\n",
    "plt.show()"
   ]
  },
  {
   "cell_type": "code",
   "execution_count": 71,
   "metadata": {},
   "outputs": [],
   "source": [
    "import math\n",
    "import numpy as np\n",
    "import matplotlib.pyplot as plt\n",
    "x=np.random.rand(1000,1)\n",
    "x=x*20-10\n",
    "y=np.array([np.sin(x)])\n",
    "# import masth\n",
    "# y=np.array([math.sin(v) for v in x])\n",
    "y+=np.random.randn(1000,1)"
   ]
  }
 ],
 "metadata": {
  "kernelspec": {
   "display_name": "Python 3",
   "language": "python",
   "name": "python3"
  },
  "language_info": {
   "codemirror_mode": {
    "name": "ipython",
    "version": 3
   },
   "file_extension": ".py",
   "mimetype": "text/x-python",
   "name": "python",
   "nbconvert_exporter": "python",
   "pygments_lexer": "ipython3",
   "version": "3.6.10"
  },
  "varInspector": {
   "cols": {
    "lenName": 16,
    "lenType": 16,
    "lenVar": 40
   },
   "kernels_config": {
    "python": {
     "delete_cmd_postfix": "",
     "delete_cmd_prefix": "del ",
     "library": "var_list.py",
     "varRefreshCmd": "print(var_dic_list())"
    },
    "r": {
     "delete_cmd_postfix": ") ",
     "delete_cmd_prefix": "rm(",
     "library": "var_list.r",
     "varRefreshCmd": "cat(var_dic_list()) "
    }
   },
   "types_to_exclude": [
    "module",
    "function",
    "builtin_function_or_method",
    "instance",
    "_Feature"
   ],
   "window_display": false
  }
 },
 "nbformat": 4,
 "nbformat_minor": 4
}
