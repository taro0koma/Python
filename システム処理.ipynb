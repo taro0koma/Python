{
 "cells": [
  {
   "cell_type": "markdown",
   "metadata": {},
   "source": [
    "#### listdir() 関数\n",
    "指定したパスのディレクトリ内ファイルをリスト形式で得ることができる"
   ]
  },
  {
   "cell_type": "code",
   "execution_count": null,
   "metadata": {},
   "outputs": [],
   "source": [
    "import os\n",
    "# curdir=os.listdir(\".\")  現在ディレクトリ\n",
    "# for name in curdir:\n",
    "#     print(name)\n",
    "\n",
    "# curdir=os.listdir(\"..\")　1階層上ディレクトリ\n",
    "# for name in curdir:\n",
    "#     print(name)\n",
    "\n",
    "curdir = os.listdir(\"../Downloads\")  # 1階層上内Downloadsディレクトリ\n",
    "for name in curdir:\n",
    "    print(name)"
   ]
  },
  {
   "cell_type": "markdown",
   "metadata": {},
   "source": [
    "#### abspath(filename)  ファイル名から絶対パスを参照する"
   ]
  },
  {
   "cell_type": "code",
   "execution_count": null,
   "metadata": {},
   "outputs": [],
   "source": [
    "import os\n",
    "import os.path\n",
    "curdir=os.listdir(\".\")\n",
    "for name in curdir:\n",
    "    print(os.path.abspath(name),end=\",\")\n",
    "    if(os.path.isfile(name)):\n",
    "        print(\"ファイルです。\")\n",
    "    else:\n",
    "        print(\"ディレクトリです。\")\n",
    "print()"
   ]
  },
  {
   "cell_type": "code",
   "execution_count": null,
   "metadata": {},
   "outputs": [],
   "source": [
    "import sys  # コマンドライン入力用モジュール\n",
    " \n",
    "sum = 0.0\n",
    " \n",
    "for i in range(1, len(sys.argv)):  # コマンドライン引数（リスト）…sys.argv\n",
    "    sum += float(sys.argv[i])\n",
    " \n",
    "print(\"総和: \", sum)\n",
    "print(\"総和：\",sum([float(a) for a in sys.argv[1::]]))  # 内包表記ですっきり"
   ]
  }
 ],
 "metadata": {
  "kernelspec": {
   "display_name": "Python 3",
   "language": "python",
   "name": "python3"
  },
  "language_info": {
   "codemirror_mode": {
    "name": "ipython",
    "version": 3
   },
   "file_extension": ".py",
   "mimetype": "text/x-python",
   "name": "python",
   "nbconvert_exporter": "python",
   "pygments_lexer": "ipython3",
   "version": "3.6.10"
  },
  "toc": {
   "base_numbering": 1,
   "nav_menu": {},
   "number_sections": true,
   "sideBar": true,
   "skip_h1_title": false,
   "title_cell": "Table of Contents",
   "title_sidebar": "Contents",
   "toc_cell": false,
   "toc_position": {},
   "toc_section_display": true,
   "toc_window_display": false
  },
  "varInspector": {
   "cols": {
    "lenName": 16,
    "lenType": 16,
    "lenVar": 40
   },
   "kernels_config": {
    "python": {
     "delete_cmd_postfix": "",
     "delete_cmd_prefix": "del ",
     "library": "var_list.py",
     "varRefreshCmd": "print(var_dic_list())"
    },
    "r": {
     "delete_cmd_postfix": ") ",
     "delete_cmd_prefix": "rm(",
     "library": "var_list.r",
     "varRefreshCmd": "cat(var_dic_list()) "
    }
   },
   "types_to_exclude": [
    "module",
    "function",
    "builtin_function_or_method",
    "instance",
    "_Feature"
   ],
   "window_display": false
  }
 },
 "nbformat": 4,
 "nbformat_minor": 4
}
