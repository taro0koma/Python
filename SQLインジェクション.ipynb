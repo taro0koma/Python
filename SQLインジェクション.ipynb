{
 "cells": [
  {
   "cell_type": "code",
   "execution_count": 5,
   "metadata": {},
   "outputs": [
    {
     "name": "stdout",
     "output_type": "stream",
     "text": [
      "鉛筆:80\n",
      "消しゴム:50\n",
      "定規:200\n",
      "コンパス:300\n",
      "ボールペン:100\n"
     ]
    }
   ],
   "source": [
    "import sqlite3\n",
    "conn=sqlite3.connect(\"./pdb.db\")\n",
    "c=conn.cursor()\n",
    "c.execute(\"DROP TABLE IF EXISTS product\")\n",
    "c.execute(\"CREATE TABLE product(name CHAR(20),price INT)\")\n",
    "c.execute(\"INSERT INTO product VALUES('鉛筆',80)\")\n",
    "c.execute(\"INSERT INTO product VALUES('消しゴム',50)\")\n",
    "c.execute(\"INSERT INTO product VALUES('定規',200)\")\n",
    "c.execute(\"INSERT INTO product VALUES('コンパス',300)\")\n",
    "c.execute(\"INSERT INTO product VALUES('ボールペン',100)\")\n",
    "conn.commit()\n",
    "itr=c.execute(\"SELECT * FROM product\")\n",
    "for name,value in itr:\n",
    "    print(\"{}:{}\".format(name,value))\n",
    "conn.close()"
   ]
  },
  {
   "cell_type": "code",
   "execution_count": 15,
   "metadata": {},
   "outputs": [
    {
     "name": "stdout",
     "output_type": "stream",
     "text": [
      "('コンパス', 300)\n"
     ]
    }
   ],
   "source": [
    "import sqlite3\n",
    "conn = sqlite3.connect(\"pdb.db\")\n",
    "c = conn.cursor()\n",
    "n = \"300\"\n",
    "itr = c.execute(\"SELECT * FROM product where price = %s\" % n)\n",
    "for s in itr:\n",
    "    print(s)\n",
    "conn.close()\n",
    " "
   ]
  },
  {
   "cell_type": "code",
   "execution_count": 14,
   "metadata": {},
   "outputs": [
    {
     "name": "stdout",
     "output_type": "stream",
     "text": [
      "('コンパス', 300)\n"
     ]
    }
   ],
   "source": [
    "conn = sqlite3.connect(\"pdb.db\")\n",
    "c = conn.cursor()\n",
    "n = (\"300\",)\n",
    "itr = c.execute(\"SELECT * FROM product where price = ?\",n)\n",
    "for s in itr:\n",
    "    print(s)\n",
    "conn.close()"
   ]
  },
  {
   "cell_type": "code",
   "execution_count": 13,
   "metadata": {},
   "outputs": [
    {
     "name": "stdout",
     "output_type": "stream",
     "text": [
      "('鉛筆', 80)\n",
      "('消しゴム', 50)\n",
      "('定規', 200)\n",
      "('コンパス', 300)\n",
      "('ボールペン', 100)\n"
     ]
    }
   ],
   "source": [
    "import sqlite3\n",
    "conn=sqlite3.connect(\"pdb.db\")\n",
    "c=conn.cursor()\n",
    "n=\"300 or 'a' ='a'\"\n",
    "itr=c.execute(\"select*from product where price=%s\" %n)\n",
    "for s in itr:\n",
    "    print(s)\n",
    "conn.close()"
   ]
  },
  {
   "cell_type": "code",
   "execution_count": 11,
   "metadata": {},
   "outputs": [
    {
     "name": "stdout",
     "output_type": "stream",
     "text": [
      "('コンパス', 300)\n"
     ]
    }
   ],
   "source": [
    "import sqlite3\n",
    "conn = sqlite3.connect(\"pdb.db\")\n",
    "c = conn.cursor()\n",
    "n = (\"300 or 'a' = 'a'\",)\n",
    "itr = c.execute(\"select*from product where price=?\",n)\n",
    "for s in itr:\n",
    "    print(s)\n",
    "itr = c.execute(\"select*from product where price=300\")\n",
    "for s in itr:\n",
    "    print(s)\n",
    "conn.close()"
   ]
  },
  {
   "cell_type": "code",
   "execution_count": null,
   "metadata": {},
   "outputs": [],
   "source": []
  }
 ],
 "metadata": {
  "kernelspec": {
   "display_name": "Python 3",
   "language": "python",
   "name": "python3"
  },
  "language_info": {
   "codemirror_mode": {
    "name": "ipython",
    "version": 3
   },
   "file_extension": ".py",
   "mimetype": "text/x-python",
   "name": "python",
   "nbconvert_exporter": "python",
   "pygments_lexer": "ipython3",
   "version": "3.6.10"
  },
  "toc": {
   "base_numbering": 1,
   "nav_menu": {},
   "number_sections": true,
   "sideBar": true,
   "skip_h1_title": false,
   "title_cell": "Table of Contents",
   "title_sidebar": "Contents",
   "toc_cell": false,
   "toc_position": {},
   "toc_section_display": true,
   "toc_window_display": false
  },
  "varInspector": {
   "cols": {
    "lenName": 16,
    "lenType": 16,
    "lenVar": 40
   },
   "kernels_config": {
    "python": {
     "delete_cmd_postfix": "",
     "delete_cmd_prefix": "del ",
     "library": "var_list.py",
     "varRefreshCmd": "print(var_dic_list())"
    },
    "r": {
     "delete_cmd_postfix": ") ",
     "delete_cmd_prefix": "rm(",
     "library": "var_list.r",
     "varRefreshCmd": "cat(var_dic_list()) "
    }
   },
   "types_to_exclude": [
    "module",
    "function",
    "builtin_function_or_method",
    "instance",
    "_Feature"
   ],
   "window_display": false
  }
 },
 "nbformat": 4,
 "nbformat_minor": 4
}
