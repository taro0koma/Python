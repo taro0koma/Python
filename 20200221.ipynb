{
 "cells": [
  {
   "cell_type": "code",
   "execution_count": null,
   "metadata": {},
   "outputs": [],
   "source": []
  },
  {
   "cell_type": "code",
   "execution_count": 4,
   "metadata": {},
   "outputs": [
    {
     "name": "stdout",
     "output_type": "stream",
     "text": [
      "10 80 20 50\n",
      "550\n"
     ]
    }
   ],
   "source": [
    "import smtplib\n",
    "from getpass import getpass\n",
    "import time\n",
    "\n",
    "SMTP_SERVER=\"smtp.gmail.com\"\n",
    "SMTP_PORT=587\n",
    "\n",
    "LOGIN_USERNAME=None\n",
    "LOGIN_PASSWORD=None\n",
    "\n",
    "def send_email(recipient,address_from,password,subject,text):\n",
    "    gmail_user=address_from\n",
    "    gmail_pass=password\n",
    "    \n",
    "    # SMTPサーバへ接続\n",
    "    smtpserver=smtplib.SMTP(SMTP_SERVER,SMTP_PORT)\n",
    "    smtpserver"
   ]
  },
  {
   "cell_type": "code",
   "execution_count": null,
   "metadata": {},
   "outputs": [],
   "source": []
  }
 ],
 "metadata": {
  "kernelspec": {
   "display_name": "Python 3",
   "language": "python",
   "name": "python3"
  },
  "toc": {
   "base_numbering": 1,
   "nav_menu": {},
   "number_sections": true,
   "sideBar": true,
   "skip_h1_title": false,
   "title_cell": "Table of Contents",
   "title_sidebar": "Contents",
   "toc_cell": false,
   "toc_position": {},
   "toc_section_display": true,
   "toc_window_display": false
  },
  "varInspector": {
   "cols": {
    "lenName": 16,
    "lenType": 16,
    "lenVar": 40
   },
   "kernels_config": {
    "python": {
     "delete_cmd_postfix": "",
     "delete_cmd_prefix": "del ",
     "library": "var_list.py",
     "varRefreshCmd": "print(var_dic_list())"
    },
    "r": {
     "delete_cmd_postfix": ") ",
     "delete_cmd_prefix": "rm(",
     "library": "var_list.r",
     "varRefreshCmd": "cat(var_dic_list()) "
    }
   },
   "types_to_exclude": [
    "module",
    "function",
    "builtin_function_or_method",
    "instance",
    "_Feature"
   ],
   "window_display": false
  }
 },
 "nbformat": 4,
 "nbformat_minor": 4
}
