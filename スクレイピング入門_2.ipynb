{
 "cells": [
  {
   "cell_type": "markdown",
   "metadata": {},
   "source": [
    "web上にある画像データを取得し、ファイル名をつけてローカル保存する"
   ]
  },
  {
   "cell_type": "code",
   "execution_count": 7,
   "metadata": {},
   "outputs": [
    {
     "name": "stdout",
     "output_type": "stream",
     "text": [
      "<class 'list'>\n",
      "<class 'requests.models.Response'>\n",
      "<class 'bytes'>\n"
     ]
    }
   ],
   "source": [
    "import requests\n",
    "\n",
    "image_url=\"https://www.ymori.com/books/python2nen/sample1.png\"\n",
    "imgdata=requests.get(image_url)  # 画像ファイル（バイナリデータ）を取得\n",
    "\n",
    "# 画像をローカル保存するためにつけるファイル名を用意しておく\n",
    "print(type(image_url.split(\"/\")))  # スラッシュ刻みのURLがセパレータ分解でリスト化されている\n",
    "filename=image_url.split(\"/\")[-1]  # ファイル名を取得　セパレータでリストに分解し、最後要素[-1]のみ取得する\n",
    "\n",
    "\n",
    "# 画像データをファイルに書き出す\n",
    "with open(filename,mode=\"wb\") as f:\n",
    "    print(type(imgdata))  # requestsライブラリのResponseクラスオブジェクト\n",
    "    print(type(imgdata.content))  # Responseオブジェクトをバイトコードに変換（BSのcontentはhtml）\n",
    "    f.write(imgdata.content)\n"
   ]
  },
  {
   "cell_type": "markdown",
   "metadata": {},
   "source": [
    "ダウンロード用フォルダを作って保存する"
   ]
  },
  {
   "cell_type": "code",
   "execution_count": 12,
   "metadata": {},
   "outputs": [
    {
     "name": "stdout",
     "output_type": "stream",
     "text": [
      "<class 'pathlib.WindowsPath'>\n",
      "<class 'pathlib.WindowsPath'>\n"
     ]
    }
   ],
   "source": [
    "import requests\n",
    "from pathlib import Path\n",
    "\n",
    "# 保存用のフォルダ作成\n",
    "out_folder=Path(\"download\")  # Pathクラスをコンストラクトし、WindowsPathインスタンスをつくる\n",
    "out_folder.mkdir(exist_ok=True)  # 文字列\"download\"を持つPathインスタンスのメソッドmkdirでフォルダ作成\n",
    "# ディレクトリが存在していなければ新規作成　あれば何もしない。\n",
    "# 前もって末端ディレクトリの存在確認を行うことができる\n",
    "# 複数階層フォルダを作成する場合はmakedirs() → out_folder.makedirs('exist_dir/exist_dir', exist_ok=True)\n",
    "\n",
    "# webから画像データ取得\n",
    "image_url=\"https://www.ymori.com/books/python2nen/sample1.png\"\n",
    "imgdata=requests.get(image_url)\n",
    "\n",
    "# URLをセパレータ分解し最後要素（ファイル名）を取得\n",
    "filename=image_url.split(\"/\")[-1]\n",
    "# 取得したファイル名とフォルダパスをつなげる\n",
    "out_path=out_folder.joinpath(filename)  # ローカルパスを作成\n",
    "print(type(out_folder))  # WindowsPathインスタンス フォルダまでのパス\n",
    "print(type(out_path))  # WindowsPathインスタンス　ファイルまでのパス\n",
    "\n",
    "# 画像データからファイルを作成　ローカル保存\n",
    "with open(out_path,mode=\"wb\") as f:\n",
    "    f.write(imgdata.content)  # requests.models.Responseオブジェクト→バイトコード\n",
    "\n"
   ]
  },
  {
   "cell_type": "markdown",
   "metadata": {},
   "source": [
    "\\< img \\>タグ内src属性を読み込み、webページ内画像URLをすべて取得する（文字列版）"
   ]
  },
  {
   "cell_type": "code",
   "execution_count": 14,
   "metadata": {},
   "outputs": [
    {
     "name": "stdout",
     "output_type": "stream",
     "text": [
      "https://www.ymori.com/books/python2nen/sample1.png  >>  sample1.png\n",
      "https://www.ymori.com/books/python2nen/sample2.png  >>  sample2.png\n",
      "https://www.ymori.com/books/python2nen/sample3.png  >>  sample3.png\n"
     ]
    }
   ],
   "source": [
    "import requests\n",
    "from bs4 import BeautifulSoup as bs\n",
    "import urllib\n",
    "\n",
    "# webページ取得解析\n",
    "load_url=\"https://www.ymori.com/books/python2nen/test2.html\"\n",
    "html=requests.get(load_url)  # URL内webページ情報を取得\n",
    "soup=bs(html.content,\"html.parser\")\n",
    "\n",
    "# <img>タグをfor文ですべて検出\n",
    "for element in soup.find_all(\"img\"):\n",
    "    src=element.get(\"src\")  # <img>タグ内、src属性記述内容を取得\n",
    "    image_url=urllib.parse.urljoin(load_url,src)  # src属性に書かれたパスが相対パスなら、urlとjoinして絶対パスに修正\n",
    "    filename=image_url.split(\"/\")[-1]  # URLをセパレータ分解＆リスト化しファイル名だけ抽出\n",
    "    print(image_url,\" >> \",filename)\n",
    "    \n",
    "\n"
   ]
  },
  {
   "cell_type": "markdown",
   "metadata": {},
   "source": [
    "<big>  \\< img \\>タグ内src属性を読み込み<br>webページ内画像URLをすべて取得する（画像ダウンロード版）</big>\n",
    "<div><small>※ webページ表示サーバにアクセス負担をかけないように、遅延処理する（Timeクラス）</small></div>"
   ]
  },
  {
   "cell_type": "code",
   "execution_count": null,
   "metadata": {},
   "outputs": [],
   "source": [
    "import requests\n",
    "from bs4 import BeautifulSoup as bs\n",
    "from pathlib import Path\n",
    "import urlliib"
   ]
  },
  {
   "cell_type": "code",
   "execution_count": null,
   "metadata": {},
   "outputs": [],
   "source": []
  },
  {
   "cell_type": "code",
   "execution_count": null,
   "metadata": {},
   "outputs": [],
   "source": []
  },
  {
   "cell_type": "code",
   "execution_count": null,
   "metadata": {},
   "outputs": [],
   "source": []
  },
  {
   "cell_type": "code",
   "execution_count": null,
   "metadata": {},
   "outputs": [],
   "source": []
  }
 ],
 "metadata": {
  "kernelspec": {
   "display_name": "Python 3",
   "language": "python",
   "name": "python3"
  },
  "language_info": {
   "codemirror_mode": {
    "name": "ipython",
    "version": 3
   },
   "file_extension": ".py",
   "mimetype": "text/x-python",
   "name": "python",
   "nbconvert_exporter": "python",
   "pygments_lexer": "ipython3",
   "version": "3.6.10"
  },
  "toc": {
   "base_numbering": 1,
   "nav_menu": {},
   "number_sections": true,
   "sideBar": true,
   "skip_h1_title": false,
   "title_cell": "Table of Contents",
   "title_sidebar": "Contents",
   "toc_cell": false,
   "toc_position": {},
   "toc_section_display": true,
   "toc_window_display": false
  },
  "varInspector": {
   "cols": {
    "lenName": 16,
    "lenType": 16,
    "lenVar": 40
   },
   "kernels_config": {
    "python": {
     "delete_cmd_postfix": "",
     "delete_cmd_prefix": "del ",
     "library": "var_list.py",
     "varRefreshCmd": "print(var_dic_list())"
    },
    "r": {
     "delete_cmd_postfix": ") ",
     "delete_cmd_prefix": "rm(",
     "library": "var_list.r",
     "varRefreshCmd": "cat(var_dic_list()) "
    }
   },
   "types_to_exclude": [
    "module",
    "function",
    "builtin_function_or_method",
    "instance",
    "_Feature"
   ],
   "window_display": false
  }
 },
 "nbformat": 4,
 "nbformat_minor": 4
}
