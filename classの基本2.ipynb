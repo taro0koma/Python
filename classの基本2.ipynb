{
 "cells": [
  {
   "cell_type": "code",
   "execution_count": 1,
   "metadata": {},
   "outputs": [
    {
     "name": "stdout",
     "output_type": "stream",
     "text": [
      "====Class====\n",
      "code --> 1\n",
      "name -->テスト１\n",
      "====Class====\n",
      "code --> 2\n",
      "name -->テスト２\n"
     ]
    }
   ],
   "source": [
    "class TestClass:\n",
    "    def __init__(self,code,name):\n",
    "        self.code=code\n",
    "        self.name=name\n",
    "        \n",
    "classes=[]\n",
    "classes.append(TestClass(1,\"テスト１\"))\n",
    "classes.append(TestClass(2,\"テスト２\"))\n",
    "\n",
    "for test_cls in classes:\n",
    "    print(\"====Class====\")\n",
    "    print(\"code --> \" + str(test_cls.code))\n",
    "    print(\"name -->\" + test_cls.name)"
   ]
  },
  {
   "cell_type": "code",
   "execution_count": 2,
   "metadata": {},
   "outputs": [
    {
     "name": "stdout",
     "output_type": "stream",
     "text": [
      "==== Class ====\n",
      "county_name -> Japan\n",
      "city_name --> Tokyo\n",
      "==== Class ====\n",
      "county_name -> USA\n",
      "city_name --> Washinton D.C.\n"
     ]
    }
   ],
   "source": [
    "class Country:\n",
    "    def __init__(self,country_name):\n",
    "        self.country_name=country_name\n",
    "        \n",
    "class City(Country):\n",
    "    def __init__(self,country_name,city_name):\n",
    "        super().__init__(country_name)\n",
    "        self.city_name=city_name\n",
    "        \n",
    "classes=[]\n",
    "classes.append(City(\"Japan\",\"Tokyo\"))\n",
    "classes.append(City(\"USA\",\"Washinton D.C.\"))\n",
    "\n",
    "for test_cls in classes:\n",
    "    print(\"==== Class ====\")\n",
    "    print(\"county_name ->\",test_cls.country_name)\n",
    "    print(\"city_name -->\",test_cls.city_name)"
   ]
  },
  {
   "cell_type": "code",
   "execution_count": 3,
   "metadata": {},
   "outputs": [
    {
     "data": {
      "text/plain": [
       "'Hello'"
      ]
     },
     "execution_count": 3,
     "metadata": {},
     "output_type": "execute_result"
    }
   ],
   "source": [
    "class A:\n",
    "    @classmethod\n",
    "    def my_cls_method(cls):\n",
    "        return \"Hello\"\n",
    "    \n",
    "A.my_cls_method()"
   ]
  },
  {
   "cell_type": "code",
   "execution_count": 4,
   "metadata": {},
   "outputs": [
    {
     "name": "stdout",
     "output_type": "stream",
     "text": [
      "鈴木 さんは 23 歳です。\n"
     ]
    }
   ],
   "source": [
    "class Person:\n",
    "    def getName(self):\n",
    "        return self.name\n",
    "    def getAge(self):\n",
    "        return self.age\n",
    "    \n",
    "pr=Person()\n",
    "pr.name=\"鈴木\"  # 外部からクラスメンバを生成できる\n",
    "pr.age=23\n",
    "\n",
    "n=pr.getName()\n",
    "a=pr.getAge()\n",
    "print(n,\"さんは\",a,\"歳です。\")"
   ]
  },
  {
   "cell_type": "code",
   "execution_count": 5,
   "metadata": {},
   "outputs": [],
   "source": [
    "import datetime\n",
    "\n",
    "class Student:\n",
    "    def __init__(self,name,age,registered_at):\n",
    "        self.name=name\n",
    "        self.age=age\n",
    "        self.registered_at=registered_at\n",
    "        \n",
    "    def __repr__(self):\n",
    "        tuple_=(self.name,self.age,repr(self.registered_at))\n",
    "        return \"Student(%s,%d,%s)\" % tuple_\n",
    "        "
   ]
  },
  {
   "cell_type": "code",
   "execution_count": 6,
   "metadata": {},
   "outputs": [
    {
     "name": "stdout",
     "output_type": "stream",
     "text": [
      "23 歳の 鈴木 さんです。\n",
      "38 歳の 佐藤 さんです。\n"
     ]
    }
   ],
   "source": [
    "import copy\n",
    "\n",
    "class Person:\n",
    "    def getName(self):\n",
    "        return self.name\n",
    "    def getAge(self):\n",
    "        return self.age\n",
    "\n",
    "plist2=[]\n",
    "plist3=[]\n",
    "plist=[Person(),Person()]\n",
    "\n",
    "plist[0].name=\"鈴木\"\n",
    "plist[0].age=23\n",
    "n1=plist[0].getName()\n",
    "a1=plist[0].getAge()\n",
    "\n",
    "plist[1].name=\"佐藤\"\n",
    "plist[1].age=38\n",
    "n2=plist[1].getName()\n",
    "a2=plist[1].getAge()\n",
    "\n",
    "# 既出インスタンスの完コピ\n",
    "for i in range(len(plist)):\n",
    "    plist2.append(copy.deepcopy(plist[i]))  # deepcopy()メソッドを使って同一インスタンスをplist2にコピー\n",
    "    \n",
    "plist3=[copy.deepcopy(element) for element in plist]  # for文あるいは内包表記\n",
    "\n",
    "for i in plist3:\n",
    "    print(i.getAge(),\"歳の\",i.getName(),\"さんです。\")"
   ]
  },
  {
   "cell_type": "code",
   "execution_count": 7,
   "metadata": {},
   "outputs": [
    {
     "name": "stdout",
     "output_type": "stream",
     "text": [
      "鈴木 さんは 23 歳です。\n",
      "人数合計は 1 です。\n"
     ]
    }
   ],
   "source": [
    "class Person:\n",
    "    \n",
    "    __count=0\n",
    "    \n",
    "    def __init__(self,name,age):\n",
    "        Person.__count +=1  # 内部で自クラスを読み込む\n",
    "        self.__name=name\n",
    "        self.__age=age\n",
    "    def getName(self):\n",
    "        return self.__name\n",
    "    def getAge(self):\n",
    "        return self.__age        \n",
    "    Name=property(getName)\n",
    "    Age=property(getAge)\n",
    "        \n",
    "    @classmethod\n",
    "    def getCount(cls):\n",
    "        return cls.__count\n",
    "        \n",
    "\n",
    "pr=Person(\"鈴木\",23)\n",
    "print(pr.Name,\"さんは\",pr.Age,\"歳です。\")\n",
    "print(\"人数合計は\",Person.getCount(),\"です。\")"
   ]
  },
  {
   "cell_type": "code",
   "execution_count": 8,
   "metadata": {},
   "outputs": [
    {
     "name": "stdout",
     "output_type": "stream",
     "text": [
      "鈴木 is aged 23\n",
      "Yamada\n",
      "年齢が正しく入力されていません\n",
      "-1\n"
     ]
    }
   ],
   "source": [
    "class Person:\n",
    "    def __init__(self,name,age):\n",
    "        self.__name=name\n",
    "        self.__age=age\n",
    "        \n",
    "    def getName(self):\n",
    "        return self.__name\n",
    "        \n",
    "    def setName(self,name):\n",
    "        self.__name=name\n",
    "        \n",
    "    def getAge(self):\n",
    "        return self.__age\n",
    "    \n",
    "    def setAge(self,age):\n",
    "        if age>0:\n",
    "            self.__age=age\n",
    "        else:\n",
    "            print(\"年齢が正しく入力されていません\")\n",
    "            self.__age=-1\n",
    "            \n",
    "    Name=property(getName,setName)\n",
    "    Age=property(getAge,setAge)\n",
    "            \n",
    "pr=Person(\"鈴木\",23)\n",
    "\n",
    "print(pr.Name,\"is aged\",pr.Age)\n",
    "pr.Name=\"Yamada\"\n",
    "print(pr.Name)\n",
    "pr.Age=-10\n",
    "print(pr.Age)"
   ]
  },
  {
   "cell_type": "code",
   "execution_count": 9,
   "metadata": {},
   "outputs": [
    {
     "name": "stdout",
     "output_type": "stream",
     "text": [
      "get name!\n",
      "set name!\n",
      "get name!\n"
     ]
    },
    {
     "data": {
      "text/plain": [
       "'kaka'"
      ]
     },
     "execution_count": 9,
     "metadata": {},
     "output_type": "execute_result"
    }
   ],
   "source": [
    "class Person():\n",
    "    def __init__(self,input_name):\n",
    "        self.hidden_name=input_name\n",
    "    \n",
    "    @property\n",
    "    def name(self):\n",
    "        print(\"get name!\")\n",
    "        return self.hidden_name\n",
    "    \n",
    "    @name.setter\n",
    "    def name(self,input_name):\n",
    "        print(\"set name!\")\n",
    "        self.hidden_name=input_name\n",
    "\n",
    "person=Person(\"tata\")\n",
    "person.name\n",
    "person.name=\"kaka\"\n",
    "person.name"
   ]
  },
  {
   "cell_type": "code",
   "execution_count": 10,
   "metadata": {},
   "outputs": [
    {
     "name": "stdout",
     "output_type": "stream",
     "text": [
      "Person:  2 ／ Customer:  1\n",
      "顧客：佐藤\n"
     ]
    }
   ],
   "source": [
    "class Person:\n",
    "    count=0\n",
    "    def __init__(self,name,age):\n",
    "        Person.count+=1\n",
    "        self.name=name\n",
    "        self.age=age\n",
    "        \n",
    "    def getName(self):\n",
    "        return self.name\n",
    "    def getAge(self):\n",
    "        return self.age\n",
    "    @classmethod\n",
    "    def getCount(cls):\n",
    "        return cls.count\n",
    "\n",
    "class Customer(Person):  # カッコ内に継承する親クラスを記述\n",
    "    count=0\n",
    "    def __init__(self,nm,ag,ad,tl):\n",
    "        super().__init__(nm,ag)\n",
    "        Customer.count+=1\n",
    "        self.adr=ad\n",
    "        self.tel=tl\n",
    "        self.name=\"匿名\"  # 親クラスself.nameのオーバーライド\n",
    "        super().__init__(nm,ag)  # ここに親コンストラクタをおくとオーバーライドが打ち消される\n",
    "\n",
    "        \n",
    "    def getName(self):\n",
    "        self.name=\"顧客：\"+self.name\n",
    "        return self.name\n",
    "    \n",
    "    def getAdr(self):\n",
    "        return self.adr\n",
    "    def getTel(self):\n",
    "        return self.tel\n",
    "    \n",
    "    @classmethod\n",
    "    def getCount(cls):\n",
    "        return cls.count\n",
    "\n",
    "person1=Customer(\"佐藤\",23,\"12345\",\"090123456\")\n",
    "\n",
    "# Customerインスタンスが生成されるとPerson・Customer両者でinit処理が起こるためどちらも＋＝１になる\n",
    "print(\"Person: \",Person.getCount(),\"／ Customer: \",Customer.getCount())\n",
    "print(person1.getName())"
   ]
  },
  {
   "cell_type": "markdown",
   "metadata": {},
   "source": [
    "listクラスを継承させるとリストそのものをselfとして処理を行うことができる"
   ]
  },
  {
   "cell_type": "code",
   "execution_count": 11,
   "metadata": {},
   "outputs": [
    {
     "name": "stdout",
     "output_type": "stream",
     "text": [
      "合計:  17\n",
      "[1, 4, 3, 0, 9, 0]\n"
     ]
    }
   ],
   "source": [
    "class NumList(list):  # listクラスを継承させるとコンストラクタ引数にリストを取ることができる\n",
    "#     def __init__(self,ls):　　コンストラクタ記述しないと暗黙の継承が行われる\n",
    "#         super().__init__(ls)\n",
    "    #　正の値を合計する\n",
    "    def sum_plus_value(self):\n",
    "        sum = 0\n",
    "        for n in self:\n",
    "            if n > 0:\n",
    "                sum += n\n",
    "        return sum\n",
    " \n",
    "    # 負の値を0にする\n",
    "    def remove_minus_value(self):\n",
    "        for i in range(len(self)):\n",
    "            if self[i] < 0:  # コンストラクタ引き数のリストそのものをselfとして受け取る\n",
    "                self[i] = 0\n",
    " \n",
    " \n",
    "lst = NumList([1, 2, 3, -4, 9, -9])\n",
    "lst[1] = 4\n",
    "#print(\"合計: {}\".format(lst.sum_plus_value()))\n",
    "print(\"合計: \", lst.sum_plus_value())  # NumListインスタンスの合計（正の値のみ）\n",
    "lst.remove_minus_value()  # Numlistインスタンスのリストそのものを変更させる\n",
    "print(lst)\n",
    " "
   ]
  },
  {
   "cell_type": "code",
   "execution_count": 12,
   "metadata": {},
   "outputs": [
    {
     "name": "stdout",
     "output_type": "stream",
     "text": [
      "鈴木さん\n"
     ]
    },
    {
     "data": {
      "text/plain": [
       "'<__main__.Person object at 0x000001E8A37D0FD0>'"
      ]
     },
     "execution_count": 12,
     "metadata": {},
     "output_type": "execute_result"
    }
   ],
   "source": [
    "class Person:\n",
    "    def __init__(self,name,age):\n",
    "        self.name=name\n",
    "        self.age=age\n",
    "    def getName(self):\n",
    "        return self.name\n",
    "    def getAge(self):\n",
    "        return self.age\n",
    "    def __str__(self):\n",
    "        str=self.name+\"さん\"\n",
    "        return str\n",
    "pr=Person(\"鈴木\",23)\n",
    "print(str(pr))\n",
    "\n",
    "# init(pr,\"佐藤\",33)\n",
    "repr(pr)  # represent"
   ]
  },
  {
   "cell_type": "code",
   "execution_count": 13,
   "metadata": {},
   "outputs": [
    {
     "name": "stdout",
     "output_type": "stream",
     "text": [
      "30\n"
     ]
    }
   ],
   "source": [
    "class A:\n",
    "    def __init__(self,n):\n",
    "        self.n=n\n",
    "    def __add__(self,other):\n",
    "        return self.n+other.n\n",
    "\n",
    "    \n",
    "a1=A(10)\n",
    "a2=A(20)\n",
    "print(a1+a2)  # +演算子を記述することでadd()メソッドを稼働させる\n",
    "# print(a1.add(a2))  この記述はできない"
   ]
  },
  {
   "cell_type": "code",
   "execution_count": 14,
   "metadata": {},
   "outputs": [
    {
     "name": "stdout",
     "output_type": "stream",
     "text": [
      "Apple\n",
      "Banana\n",
      "Grape\n",
      "Lemon\n"
     ]
    }
   ],
   "source": [
    "class Fruit:\n",
    "    def __init__(self):\n",
    "        self._fruits_list=[]\n",
    "    def __iter__(self):  # Fruitインスタンス自身に_fruits_listフィールドのリストイテレーターを装備する\n",
    "        return iter(self._fruits_list)\n",
    "fruits=Fruit()\n",
    "fruits._fruits_list.extend(\n",
    "    [\"Apple\",\"Banana\",\"Grape\",\"Lemon\"])\n",
    "for fr in fruits:  # イテラブルの用途で処理される場面で__iter__が稼働する\n",
    "    print(fr)"
   ]
  },
  {
   "cell_type": "code",
   "execution_count": 15,
   "metadata": {},
   "outputs": [
    {
     "name": "stdout",
     "output_type": "stream",
     "text": [
      "顧客：鈴木 さんは 23 歳です。\n",
      "アドレスは mmm@nnn.nn.jp 電話番号は xxx-xxx-xxxx です。\n"
     ]
    }
   ],
   "source": [
    "import myClass as my\n",
    "import myfunc\n",
    "# from myClass import Customer\n",
    "# from myClass import * 　←ALL\n",
    "\n",
    "\n",
    "pr = my.Customer(\"鈴木\", 23, \"mmm@nnn.nn.jp\", \"xxx-xxx-xxxx\")\n",
    "nm = pr.getName()\n",
    "ag = pr.getAge()\n",
    "ad = pr.getAdr()\n",
    "tl = pr.getTel()\n",
    "\n",
    "print(nm, \"さんは\", ag, \"歳です。\")\n",
    "print(\"アドレスは\", ad, \"電話番号は\", tl, \"です。\")"
   ]
  },
  {
   "cell_type": "code",
   "execution_count": 2,
   "metadata": {},
   "outputs": [
    {
     "data": {
      "text/plain": [
       "[1, 2, 3]"
      ]
     },
     "execution_count": 2,
     "metadata": {},
     "output_type": "execute_result"
    }
   ],
   "source": [
    "ls=[1,2,3]\n",
    "ls"
   ]
  },
  {
   "cell_type": "code",
   "execution_count": 5,
   "metadata": {},
   "outputs": [
    {
     "data": {
      "text/plain": [
       "<list_iterator at 0x203c70cf518>"
      ]
     },
     "execution_count": 5,
     "metadata": {},
     "output_type": "execute_result"
    }
   ],
   "source": [
    "ls.__iter__()"
   ]
  },
  {
   "cell_type": "code",
   "execution_count": 8,
   "metadata": {},
   "outputs": [
    {
     "data": {
      "text/plain": [
       "<list_iterator at 0x203c70cf128>"
      ]
     },
     "execution_count": 8,
     "metadata": {},
     "output_type": "execute_result"
    }
   ],
   "source": [
    "lsit=ls.__iter__()\n",
    "lsit"
   ]
  },
  {
   "cell_type": "code",
   "execution_count": 10,
   "metadata": {},
   "outputs": [
    {
     "data": {
      "text/plain": [
       "2"
      ]
     },
     "execution_count": 10,
     "metadata": {},
     "output_type": "execute_result"
    }
   ],
   "source": [
    "next(lsit)"
   ]
  },
  {
   "cell_type": "code",
   "execution_count": 20,
   "metadata": {},
   "outputs": [
    {
     "name": "stdout",
     "output_type": "stream",
     "text": [
      "ナンバーは 1234 ガソリン量は 25.5\n"
     ]
    }
   ],
   "source": [
    "class Car:\n",
    "    def __init__(self,num,gas):\n",
    "        self.num=num\n",
    "        self.gas=gas\n",
    "        \n",
    "    @property\n",
    "    def number(self):\n",
    "        return self.num\n",
    "    \n",
    "    @property\n",
    "    def tank(self):\n",
    "        return self.gas\n",
    "    \n",
    "cr1=Car(1234,25.5)\n",
    "n1=cr1.number\n",
    "g1=cr1.tank\n",
    "\n",
    "print(\"ナンバーは\",n1,\"ガソリン量は\",g1)"
   ]
  },
  {
   "cell_type": "code",
   "execution_count": null,
   "metadata": {},
   "outputs": [],
   "source": []
  }
 ],
 "metadata": {
  "kernelspec": {
   "display_name": "Python 3",
   "language": "python",
   "name": "python3"
  },
  "language_info": {
   "codemirror_mode": {
    "name": "ipython",
    "version": 3
   },
   "file_extension": ".py",
   "mimetype": "text/x-python",
   "name": "python",
   "nbconvert_exporter": "python",
   "pygments_lexer": "ipython3",
   "version": "3.6.10"
  },
  "toc": {
   "base_numbering": 1,
   "nav_menu": {},
   "number_sections": true,
   "sideBar": true,
   "skip_h1_title": false,
   "title_cell": "Table of Contents",
   "title_sidebar": "Contents",
   "toc_cell": false,
   "toc_position": {},
   "toc_section_display": true,
   "toc_window_display": false
  },
  "varInspector": {
   "cols": {
    "lenName": 16,
    "lenType": 16,
    "lenVar": 40
   },
   "kernels_config": {
    "python": {
     "delete_cmd_postfix": "",
     "delete_cmd_prefix": "del ",
     "library": "var_list.py",
     "varRefreshCmd": "print(var_dic_list())"
    },
    "r": {
     "delete_cmd_postfix": ") ",
     "delete_cmd_prefix": "rm(",
     "library": "var_list.r",
     "varRefreshCmd": "cat(var_dic_list()) "
    }
   },
   "types_to_exclude": [
    "module",
    "function",
    "builtin_function_or_method",
    "instance",
    "_Feature"
   ],
   "window_display": false
  }
 },
 "nbformat": 4,
 "nbformat_minor": 4
}
