{
 "cells": [
  {
   "cell_type": "code",
   "execution_count": 21,
   "metadata": {},
   "outputs": [
    {
     "name": "stdout",
     "output_type": "stream",
     "text": [
      "このウサギの体長は 5\n",
      "このウサギは「 I'm a prototype Rabbit! 」といいます。\n",
      "I'm a prototype Rabbit!\n",
      "このウサギの跳躍力は 10\n",
      "50cmまでジャンプする。\n",
      "50\n",
      "ぼくは体毛や眼の色をカスタムできる、かわいいウサギだよ。\n",
      "体毛や眼の色をカスタムできる\n"
     ]
    }
   ],
   "source": [
    "# --------------------------------------　クラス定義　-------------------------------------------- #\n",
    "class Rabbit:\n",
    "\n",
    "    # ------------------ コンストラクタ ----------------- #\n",
    "    def __init__(self, body, eye):\n",
    "\n",
    "        # ---- インスタンス変数（外部から参照・値代入が可能 「インスタンス名.rval」） ------#\n",
    "        self.body = body\n",
    "        self.eye = eye\n",
    "        # ---- プライベートインスタンス変数（外部から参照不可） ------#\n",
    "        self.__size = 5\n",
    "\n",
    "    # ---------------- クラス変数（外部から参照・値代入が可能 「Widget.classVal」） ----------- #\n",
    "    line = \"I'm a prototype Rabbit!\"\n",
    "\n",
    "    # ---------------- プライベートクラス変数（外部から参照不可、内部で使用） ----------- #\n",
    "    # 特別な記述で参照可能「_Widget__SecretClassVal」\n",
    "    __power = 10\n",
    "\n",
    "    # ---------------- インスタンス用メソッド（外部使用可「インスタンス名.selfName()」） ----------- #\n",
    "    def jump(self):\n",
    "        # ここでもインスタンス変数を定義できる。\n",
    "        self.step = self.__step()\n",
    "        return str(self.step) + \"cm先までジャンプする。\"\n",
    "\n",
    "    # -- 内部専用／インスタンス用メソッド（このクラス内のインスタンス用関数ブロック内呼び出し専用） -- #\n",
    "    def __step(self):\n",
    "        return self.__size * self.__power\n",
    "\n",
    "    # ---------------- クラス用メソッド（外部使用可 「Widget.selfName()」） ----------- #\n",
    "    @classmethod\n",
    "    def selfIntroduction(cls):\n",
    "        # ここでもクラス変数の定義ができる。\n",
    "        cls.prefix = \"かわいい\"\n",
    "        print(\"ぼくは\", cls.__information(), \"、\", cls.prefix, \"ウサギだよ。\", sep=\"\")\n",
    "\n",
    "    # ---------------- 内部専用/クラス用メソッド（このクラス内のクラス用関数ブロック内呼び出し専用） -- #\n",
    "    @classmethod\n",
    "    def __information(cls):\n",
    "        return \"体毛や眼の色をカスタムできる\"\n",
    "\n",
    "\n",
    "# --------------------------------------　クラス定義　ここまで　------------------------------------- #\n",
    "# --------------------------------------　メイン処理　ここから　------------------------------------- #\n",
    "\n",
    "\n",
    "if __name__ == '__main__':  # このスクリプトファイルがプログラムのエントリーポイントかどうか\n",
    "\n",
    "    # 右辺でクラスのコンストラクタ(__init__)実行　→　インスタンス生成　→　左辺変数をこのインスタンス担当にする\n",
    "    usako = Rabbit(\"白\", \"赤\")\n",
    "\n",
    "    # インスタンス変数（self.color、self.eye）へのアクセス　値の上書き\n",
    "    usako.color = \"アイボリー\"\n",
    "    usako.eye = \"茶\"\n",
    "\n",
    "    # プライベートインスタンス変数にアクセス。\n",
    "    # 「インスタンス名 . _クラス名__変数名」で参照できる。(でも非推奨)\n",
    "    print(\"このウサギの体長は\", usako._Rabbit__size)\n",
    "\n",
    "    # クラス変数へアクセス。\n",
    "    # インスタンス名でもクラス名でもどちらでもアクセス可能。\n",
    "    print(\"このウサギは「\", Rabbit.line, \"」といいます。\")\n",
    "    print(usako.line)\n",
    "\n",
    "    # プライベートクラス変数にアクセス。\n",
    "    # インスタンス._クラス名__変数名でアクセスできる。(推奨されない)\n",
    "    print(\"このウサギの跳躍力は\", usako._Rabbit__power)\n",
    "\n",
    "    # 通常のメソッドの呼び出し.\n",
    "    print(usako.jump())\n",
    "\n",
    "    # プライベートメソッドの呼び出し(推奨されない)\n",
    "    print(usako._Rabbit__step())\n",
    "\n",
    "    # クラスメソッドの呼び出し.\n",
    "    Rabbit.selfIntroduction()\n",
    "\n",
    "    # プライベートクラスメソッドの呼び出し(推奨されない)\n",
    "    print(usako._Rabbit__information())\n",
    "    \n",
    "    # --------------------------------------　メイン処理　ここまで　------------------------------------- #"
   ]
  }
 ],
 "metadata": {
  "kernelspec": {
   "display_name": "Python 3",
   "language": "python",
   "name": "python3"
  },
  "language_info": {
   "codemirror_mode": {
    "name": "ipython",
    "version": 3
   },
   "file_extension": ".py",
   "mimetype": "text/x-python",
   "name": "python",
   "nbconvert_exporter": "python",
   "pygments_lexer": "ipython3",
   "version": "3.6.10"
  },
  "toc": {
   "base_numbering": 1,
   "nav_menu": {},
   "number_sections": true,
   "sideBar": true,
   "skip_h1_title": false,
   "title_cell": "Table of Contents",
   "title_sidebar": "Contents",
   "toc_cell": false,
   "toc_position": {},
   "toc_section_display": true,
   "toc_window_display": false
  },
  "varInspector": {
   "cols": {
    "lenName": 16,
    "lenType": 16,
    "lenVar": 40
   },
   "kernels_config": {
    "python": {
     "delete_cmd_postfix": "",
     "delete_cmd_prefix": "del ",
     "library": "var_list.py",
     "varRefreshCmd": "print(var_dic_list())"
    },
    "r": {
     "delete_cmd_postfix": ") ",
     "delete_cmd_prefix": "rm(",
     "library": "var_list.r",
     "varRefreshCmd": "cat(var_dic_list()) "
    }
   },
   "types_to_exclude": [
    "module",
    "function",
    "builtin_function_or_method",
    "instance",
    "_Feature"
   ],
   "window_display": false
  }
 },
 "nbformat": 4,
 "nbformat_minor": 4
}
