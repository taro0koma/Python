{
 "cells": [
  {
   "cell_type": "code",
   "execution_count": 21,
   "metadata": {},
   "outputs": [
    {
     "name": "stdout",
     "output_type": "stream",
     "text": [
      "高橋 さんは 40 歳です\n",
      "鈴木 さんは 23 歳です\n"
     ]
    }
   ],
   "source": [
    "class Person:\n",
    "    a = \"〇〇\"  # この階層はクラスのstatic変数扱いとなるため、下記インスタンスメソッドに取り込まれない\n",
    "\n",
    "    def getName(a):  # 「第一引数」を内部引き数 とし、引数名は任意、統一されていればOK！\n",
    "        return a.name  # カンマ区切りで扱われることでクラス内処理だということがわかる\n",
    "\n",
    "    name=\"高橋\"  # フィールド初期値を設定してもしなくてもいい\n",
    "    age=40\n",
    "    \n",
    "    def getAge(self):\n",
    "        return self.age  # フィールド名\n",
    "\n",
    "\n",
    "pr = Person()\n",
    "n = pr.getName()\n",
    "a = pr.getAge()\n",
    "\n",
    "print(n, \"さんは\", a, \"歳です\")\n",
    "\n",
    "pr.name = \"鈴木\"\n",
    "pr.age = 23\n",
    "\n",
    "n = pr.getName()\n",
    "a = pr.getAge()\n",
    "\n",
    "print(n, \"さんは\", a, \"歳です\")"
   ]
  },
  {
   "cell_type": "code",
   "execution_count": 28,
   "metadata": {},
   "outputs": [
    {
     "name": "stdout",
     "output_type": "stream",
     "text": [
      "鈴木 さんは 23 歳です\n",
      "鈴木 さんは 23 歳です\n",
      "山崎 さんは 21 歳です\n"
     ]
    }
   ],
   "source": [
    "plist=[Person(),Person()]\n",
    "\n",
    "plist[0].name=\"鈴木\"\n",
    "plist[0].age=23\n",
    "n1=plist[0].getName()\n",
    "a1=plist[0].getAge()\n",
    "\n",
    "plist[1].name=\"山崎\"\n",
    "plist[1].age=21\n",
    "n2=plist[1].getName()\n",
    "a2=plist[1].getAge()\n",
    "\n",
    "print(n1,\"さんは\",a1,\"歳です\")\n",
    "\n",
    "for instance in plist:\n",
    "    print(instance.name,\"さんは\",instance.age,\"歳です\")"
   ]
  },
  {
   "cell_type": "markdown",
   "metadata": {},
   "source": [
    "ｃｌａｓｓのコンストラクタ\n",
    "<code> __init__ </code>アンダースコア×２"
   ]
  },
  {
   "cell_type": "markdown",
   "metadata": {},
   "source": [
    "ｃｌａｓｓメソッド　@classmethod 引き数はcls"
   ]
  },
  {
   "cell_type": "code",
   "execution_count": 43,
   "metadata": {},
   "outputs": [
    {
     "name": "stdout",
     "output_type": "stream",
     "text": [
      "合計人数は 2 です。\n",
      "合計人数は 2 です。\n"
     ]
    }
   ],
   "source": [
    "class Person:\n",
    "    count=0\n",
    "    def __init__(self,name,age):\n",
    "        Person.count=Person.count+1  # コンストラクトされるたびに実行される処理\n",
    "        \n",
    "        self.name=name\n",
    "        self.age=age\n",
    "        \n",
    "    def getName(self):\n",
    "        return self.name\n",
    "    \n",
    "    def getAge(self):\n",
    "        return self.age\n",
    "    \n",
    "    @classmethod\n",
    "    def getCount(cls):  # このクラスを引数とする（staticメソッド）\n",
    "        return cls.count\n",
    "\n",
    "pr1=Person(\"鈴木\",23)\n",
    "pr2=Person(\"佐藤\",38)\n",
    "\n",
    "\n",
    "print(\"合計人数は\",pr1.getCount(),\"です。\")  # インスタンスから実行できます。\n",
    "print(\"合計人数は\",Person.getCount(),\"です。\")  # クラス自身からも実行できます"
   ]
  },
  {
   "cell_type": "code",
   "execution_count": 50,
   "metadata": {},
   "outputs": [
    {
     "name": "stdout",
     "output_type": "stream",
     "text": [
      "(sample)\n",
      "(None)\n",
      "(None)\n"
     ]
    }
   ],
   "source": [
    "class Sample:\n",
    "    def __init__(self):\n",
    "        self.text=\"sample\"\n",
    "        \n",
    "    @property\n",
    "    def text(self):\n",
    "        return \"({0})\".format(self.__text)\n",
    "    \n",
    "    @text.setter\n",
    "    def text(self,text):\n",
    "        if text is None:\n",
    "            self.__text=\"None\"\n",
    "        else:\n",
    "            self.__text=text\n",
    "            \n",
    "    @text.deleter\n",
    "    def text(self):\n",
    "        pass\n",
    "\n",
    "obj=Sample()\n",
    "print(obj.text)\n",
    "\n",
    "obj.text=None\n",
    "print(obj.text)\n",
    "\n",
    "del obj.text\n",
    "print(obj.text)"
   ]
  },
  {
   "cell_type": "markdown",
   "metadata": {},
   "source": [
    "マングリング（name mangling）　private変数を除く記述方法"
   ]
  },
  {
   "cell_type": "code",
   "execution_count": 51,
   "metadata": {},
   "outputs": [
    {
     "name": "stdout",
     "output_type": "stream",
     "text": [
      "name= Yamada\n",
      "age= 29\n",
      "salary= 500\n",
      "x= 10\n"
     ]
    }
   ],
   "source": [
    "class Employee:\n",
    "    __x=10\n",
    "    def __init__(self,name,age,salary):\n",
    "        self.name=name\n",
    "        self._age=age\n",
    "        self.__salary=salary\n",
    "        \n",
    "employee=Employee(\"Yamada\",29,500)\n",
    "print(\"name=\",employee.name)\n",
    "print(\"age=\",employee._age)\n",
    "print(\"salary=\",employee._Employee__salary)\n",
    "print(\"x=\",employee._Employee__x)\n",
    "\n",
    "# なんとインスタンスから不可視クラス変数にハックできる！\n",
    "# （　_クラス名__プライベート変数　）←この記述方法　アンダースコア１　アンダースコア２"
   ]
  }
 ],
 "metadata": {
  "kernelspec": {
   "display_name": "Python 3",
   "language": "python",
   "name": "python3"
  },
  "language_info": {
   "codemirror_mode": {
    "name": "ipython",
    "version": 3
   },
   "file_extension": ".py",
   "mimetype": "text/x-python",
   "name": "python",
   "nbconvert_exporter": "python",
   "pygments_lexer": "ipython3",
   "version": "3.6.10"
  },
  "toc": {
   "base_numbering": 1,
   "nav_menu": {},
   "number_sections": true,
   "sideBar": true,
   "skip_h1_title": false,
   "title_cell": "Table of Contents",
   "title_sidebar": "Contents",
   "toc_cell": false,
   "toc_position": {},
   "toc_section_display": true,
   "toc_window_display": false
  },
  "varInspector": {
   "cols": {
    "lenName": 16,
    "lenType": 16,
    "lenVar": 40
   },
   "kernels_config": {
    "python": {
     "delete_cmd_postfix": "",
     "delete_cmd_prefix": "del ",
     "library": "var_list.py",
     "varRefreshCmd": "print(var_dic_list())"
    },
    "r": {
     "delete_cmd_postfix": ") ",
     "delete_cmd_prefix": "rm(",
     "library": "var_list.r",
     "varRefreshCmd": "cat(var_dic_list()) "
    }
   },
   "types_to_exclude": [
    "module",
    "function",
    "builtin_function_or_method",
    "instance",
    "_Feature"
   ],
   "window_display": false
  }
 },
 "nbformat": 4,
 "nbformat_minor": 4
}
