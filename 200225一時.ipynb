{
 "cells": [
  {
   "cell_type": "code",
   "execution_count": 6,
   "metadata": {},
   "outputs": [
    {
     "name": "stdout",
     "output_type": "stream",
     "text": [
      "〇〇 <function printmsg at 0x000002A668A7E840>\n",
      "●●● <function deco.<locals>.wrapper at 0x000002A668A7EBF8>\n",
      "\n",
      "〇〇 <function deco.<locals>.wrapper at 0x000002A668A7EBF8>\n",
      "▼▼ <function deco.<locals>.wrapper at 0x000002A668A7ED08>\n",
      "▼▼▼\n",
      "☆func= <function deco.<locals>.wrapper at 0x000002A668A7EBF8>\n",
      "☆ 【　deco()関数　】×１\n",
      "☆☆ ---【　deco()関数　】×１---\n",
      "★★func <function deco.<locals>.wrapper at 0x000002A668A7EBF8>\n",
      "☆func= <function printmsg at 0x000002A668A7E840>\n",
      "☆ ---【　deco()関数　】×１---\n",
      "☆☆ ------【　deco()関数　】×１------\n",
      "★★func <function printmsg at 0x000002A668A7E840>\n",
      "【　printmsg()　】の戻り値： ------【　deco()関数　】×１------\n",
      "\n",
      "〇〇 <function deco.<locals>.wrapper at 0x000002A668A7EBF8>\n",
      "〇〇 <function deco.<locals>.wrapper at 0x000002A668A986A8>\n",
      "▼▼ <function deco.<locals>.wrapper at 0x000002A668A98950>\n",
      "▼▼▼\n",
      "☆func= <function deco.<locals>.wrapper at 0x000002A668A986A8>\n",
      "☆ 【　deco()関数　】×２\n",
      "☆☆ ---【　deco()関数　】×２---\n",
      "★★func <function deco.<locals>.wrapper at 0x000002A668A986A8>\n",
      "☆func= <function deco.<locals>.wrapper at 0x000002A668A7EBF8>\n",
      "☆ ---【　deco()関数　】×２---\n",
      "☆☆ ------【　deco()関数　】×２------\n",
      "★★func <function deco.<locals>.wrapper at 0x000002A668A7EBF8>\n",
      "☆func= <function printmsg at 0x000002A668A7E840>\n",
      "☆ ------【　deco()関数　】×２------\n",
      "☆☆ ---------【　deco()関数　】×２---------\n",
      "★★func <function printmsg at 0x000002A668A7E840>\n",
      "【　printmsg()　】の戻り値： ---------【　deco()関数　】×２---------\n",
      "\n",
      "〇 <built-in function print>\n"
     ]
    }
   ],
   "source": [
    "\n",
    "def deco(func):\n",
    "    \n",
    "    def wrapper(x):\n",
    "        print(\"☆func=\",func)\n",
    "        print(\"☆\",x)\n",
    "        wx=\"---\"+x+\"---\"\n",
    "        print(\"☆☆\",wx)\n",
    "        print(\"★★func\",func)   \n",
    "        return func(wx)\n",
    "    \n",
    "    print(\"〇〇\",func)  # @decoが表記された行で実行される\n",
    "    return wrapper  # @decoが表記された行で実行される\n",
    "\n",
    "@deco\n",
    "def printmsg(x):\n",
    "    print(\"【　printmsg()　】の戻り値：\",x)\n",
    "    \n",
    "print(\"●●●\",printmsg)\n",
    "\n",
    "print()  # 改行　\n",
    "\n",
    "wrapper=deco(printmsg)\n",
    "print(\"▼▼\",wrapper)\n",
    "print(\"▼▼▼\")\n",
    "wrapper(\"【　deco()関数　】×１\")\n",
    "\n",
    "print()  # 改行\n",
    "\n",
    "wrapper=deco(deco(printmsg))\n",
    "print(\"▼▼\",wrapper)\n",
    "print(\"▼▼▼\")\n",
    "wrapper(\"【　deco()関数　】×２\")\n",
    "\n",
    "print()  # 改行　\n",
    "\n",
    "wrapper=print\n",
    "print(\"〇\",wrapper)"
   ]
  },
  {
   "cell_type": "code",
   "execution_count": 12,
   "metadata": {},
   "outputs": [
    {
     "name": "stdout",
     "output_type": "stream",
     "text": [
      "0\n",
      "1\n",
      "2\n",
      "3\n",
      "4\n",
      "5\n",
      "6\n",
      "7\n",
      "8\n",
      "9\n",
      "10\n",
      "11\n",
      "12\n",
      "13\n",
      "14\n",
      "15\n",
      "16\n",
      "17\n",
      "18\n",
      "19\n",
      "20\n"
     ]
    }
   ],
   "source": [
    "def makex(x):\n",
    "    while True:\n",
    "        yield x\n",
    "        x+=1\n",
    "        \n",
    "        \n",
    "n=makex(0)\n",
    "a=0\n",
    "while a<20:\n",
    "    a=next(n)\n",
    "    print(a)\n"
   ]
  },
  {
   "cell_type": "code",
   "execution_count": 14,
   "metadata": {},
   "outputs": [
    {
     "name": "stdout",
     "output_type": "stream",
     "text": [
      "[2, 4, 1]\n"
     ]
    }
   ],
   "source": [
    "print(list(map(lambda x: (x*2)%5,[1,2,3])))"
   ]
  },
  {
   "cell_type": "code",
   "execution_count": 16,
   "metadata": {},
   "outputs": [
    {
     "name": "stdout",
     "output_type": "stream",
     "text": [
      "['1', '2', '3']\n"
     ]
    }
   ],
   "source": [
    "print([str(i) for i in [1,2,3]])"
   ]
  },
  {
   "cell_type": "code",
   "execution_count": 18,
   "metadata": {},
   "outputs": [
    {
     "name": "stdout",
     "output_type": "stream",
     "text": [
      "[2, 4, 1]\n"
     ]
    }
   ],
   "source": [
    "print([(i*2)%5 for i in [1,2,3]])"
   ]
  },
  {
   "cell_type": "code",
   "execution_count": 20,
   "metadata": {},
   "outputs": [
    {
     "name": "stdout",
     "output_type": "stream",
     "text": [
      "call test_func\n"
     ]
    }
   ],
   "source": [
    "def test_func():\n",
    "    print(\"call test_func\")\n",
    "\n",
    "test_func()"
   ]
  },
  {
   "cell_type": "code",
   "execution_count": 22,
   "metadata": {},
   "outputs": [
    {
     "name": "stdout",
     "output_type": "stream",
     "text": [
      "{'code': 100, 'name': 'python-izm'}\n"
     ]
    }
   ],
   "source": [
    "def test_func(**kwargs):\n",
    "    print(kwargs)\n",
    "    \n",
    "test_func(code=100,name=\"python-izm\")"
   ]
  },
  {
   "cell_type": "code",
   "execution_count": 23,
   "metadata": {},
   "outputs": [
    {
     "name": "stdout",
     "output_type": "stream",
     "text": [
      "100 python Python\n",
      "('JP', 'US')\n",
      "{'email': 'xxxx', 'city': 'Tokyo'}\n"
     ]
    }
   ],
   "source": [
    "def test_func(code,name,kana,*args,**kwargs):\n",
    "    print(code,name,kana)\n",
    "    print(args)\n",
    "    print(kwargs)\n",
    "    \n",
    "test_func(\n",
    "    100,\"python\",\"Python\",\n",
    "    \"JP\",\"US\",  # argsはリストとして\n",
    "    email=\"xxxx\",city=\"Tokyo\"  # **kwargsはディクショナリとして\n",
    ")"
   ]
  }
 ],
 "metadata": {
  "kernelspec": {
   "display_name": "Python 3",
   "language": "python",
   "name": "python3"
  },
  "language_info": {
   "codemirror_mode": {
    "name": "ipython",
    "version": 3
   },
   "file_extension": ".py",
   "mimetype": "text/x-python",
   "name": "python",
   "nbconvert_exporter": "python",
   "pygments_lexer": "ipython3",
   "version": "3.6.10"
  },
  "toc": {
   "base_numbering": 1,
   "nav_menu": {},
   "number_sections": true,
   "sideBar": true,
   "skip_h1_title": false,
   "title_cell": "Table of Contents",
   "title_sidebar": "Contents",
   "toc_cell": false,
   "toc_position": {},
   "toc_section_display": true,
   "toc_window_display": false
  },
  "varInspector": {
   "cols": {
    "lenName": 16,
    "lenType": 16,
    "lenVar": 40
   },
   "kernels_config": {
    "python": {
     "delete_cmd_postfix": "",
     "delete_cmd_prefix": "del ",
     "library": "var_list.py",
     "varRefreshCmd": "print(var_dic_list())"
    },
    "r": {
     "delete_cmd_postfix": ") ",
     "delete_cmd_prefix": "rm(",
     "library": "var_list.r",
     "varRefreshCmd": "cat(var_dic_list()) "
    }
   },
   "types_to_exclude": [
    "module",
    "function",
    "builtin_function_or_method",
    "instance",
    "_Feature"
   ],
   "window_display": false
  }
 },
 "nbformat": 4,
 "nbformat_minor": 4
}
