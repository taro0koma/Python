{
 "cells": [
  {
   "cell_type": "code",
   "execution_count": null,
   "metadata": {},
   "outputs": [],
   "source": []
  },
  {
   "cell_type": "code",
   "execution_count": 8,
   "metadata": {},
   "outputs": [
    {
     "name": "stdout",
     "output_type": "stream",
     "text": [
      "[{'Name': 'Alice', 'Age': 40, 'Point': 80}, {'Name': 'Charlie', 'Age': 30, 'Point': 70}, {'Name': 'Bob', 'Age': 20}]\n",
      "[{'Name': 'Alice', 'Age': 40, 'Point': 80}, {'Name': 'Charlie', 'Age': 30, 'Point': 70}, {'Name': 'Bob', 'Age': 20}]\n",
      "[{'Age': 40, 'Name': 'Alice', 'Point': 80},\n",
      " {'Age': 30, 'Name': 'Charlie', 'Point': 70},\n",
      " {'Age': 20, 'Name': 'Bob'}]\n"
     ]
    }
   ],
   "source": [
    "import pprint\n",
    "\n",
    "l = [{'Name': 'Alice', 'Age': 40, 'Point': 80}, \n",
    "     {'Name': 'Bob', 'Age': 20},\n",
    "     {'Name': 'Charlie', 'Age': 30, 'Point': 70}]\n",
    "\n",
    "sort_1=sorted(l, key=lambda x: x['Age'], reverse=True)\n",
    "l.sort(key=lambda x:x['Age'],reverse=True)  # そのものを変更する 主語がミュータブルである必要がある\n",
    "\n",
    "print(sort_1)\n",
    "print(l)\n",
    "\n",
    "pprint.pprint(l)"
   ]
  },
  {
   "cell_type": "code",
   "execution_count": null,
   "metadata": {},
   "outputs": [],
   "source": []
  }
 ],
 "metadata": {
  "kernelspec": {
   "display_name": "Python 3",
   "language": "python",
   "name": "python3"
  },
  "language_info": {
   "codemirror_mode": {
    "name": "ipython",
    "version": 3
   },
   "file_extension": ".py",
   "mimetype": "text/x-python",
   "name": "python",
   "nbconvert_exporter": "python",
   "pygments_lexer": "ipython3",
   "version": "3.6.10"
  },
  "toc": {
   "base_numbering": 1,
   "nav_menu": {},
   "number_sections": true,
   "sideBar": true,
   "skip_h1_title": false,
   "title_cell": "Table of Contents",
   "title_sidebar": "Contents",
   "toc_cell": false,
   "toc_position": {},
   "toc_section_display": true,
   "toc_window_display": false
  },
  "varInspector": {
   "cols": {
    "lenName": 16,
    "lenType": 16,
    "lenVar": 40
   },
   "kernels_config": {
    "python": {
     "delete_cmd_postfix": "",
     "delete_cmd_prefix": "del ",
     "library": "var_list.py",
     "varRefreshCmd": "print(var_dic_list())"
    },
    "r": {
     "delete_cmd_postfix": ") ",
     "delete_cmd_prefix": "rm(",
     "library": "var_list.r",
     "varRefreshCmd": "cat(var_dic_list()) "
    }
   },
   "types_to_exclude": [
    "module",
    "function",
    "builtin_function_or_method",
    "instance",
    "_Feature"
   ],
   "window_display": false
  }
 },
 "nbformat": 4,
 "nbformat_minor": 4
}
