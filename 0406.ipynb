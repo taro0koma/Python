{
 "cells": [
  {
   "cell_type": "code",
   "execution_count": 13,
   "metadata": {},
   "outputs": [],
   "source": [
    "import os\n",
    "import sys\n",
    "import glob\n",
    "import numpy as np\n",
    "from skimage import io\n",
    "from sklearn import datasets\n",
    "\n",
    "IMAGE_SIZE=40\n",
    "COLOR_BYTE=3\n",
    "CATEGORY_NUM=6\n",
    "prepath=\"./learning_sample/06/data/\"\n",
    "\n",
    "def load_handimage(path):\n",
    "    path=os.path.join(prepath,path)\n",
    "    files=glob.glob(os.path.join(path,'*/*.png'))\n",
    "    # 処理を早くするため構造だけ定義した空の配列を用意する\n",
    "    images=np.ndarray((len(files),IMAGE_SIZE,IMAGE_SIZE,COLOR_BYTE),dtype=np.uint8)\n",
    "    labels=np.ndarray(len(files),dtype=np.int)\n",
    "    \n",
    "    # 画像（40*40 RBG）格納→images　画像名をラベルにする→labels\n",
    "    for i,file in enumerate(files):\n",
    "        image=io.imread(file)\n",
    "        images[i]=image\n",
    "        \n",
    "        # 入れ子のフォルダ名（スラッシュ区切り）をsplitして一番最後の要素\n",
    "        label=os.path.split(os.path.dirname(file))[-1]\n",
    "        labels[i]=int(label)\n",
    "    \n",
    "    # ファイル数の分だけ分割したフラットなデータにする\n",
    "    flat_data=images.reshape((-1, IMAGE_SIZE**2*COLOR_BYTE))\n",
    "    images=flat_data.view()  # view()共同管理　これをする意味はわからない\n",
    "    \n",
    "    # scikit-learnのBunchクラスにして返す\n",
    "    return datasets.base.Bunch(\n",
    "                    data=flat_data, # imagesと共同データ　別の名前になってる\n",
    "                    target=labels.astype(np.int),  # imagesに対する正解ラベル\n",
    "                    target_names=np.arange(CATEGORY_NUM),  # 0,1,2,3,4,5\n",
    "                    images=images,\n",
    "                    DESCR=None\n",
    "                    )\n",
    "    "
   ]
  },
  {
   "cell_type": "code",
   "execution_count": 25,
   "metadata": {},
   "outputs": [
    {
     "name": "stdout",
     "output_type": "stream",
     "text": [
      "test ['m01', 'm03']\n",
      "train ['m02', 'm04', 'm05', 'm06', 'm04c']\n",
      ": : : m01 : : :\n",
      "Accuracy:\n",
      "0.5533333333333333\n",
      "Classification report:\n",
      "             precision    recall  f1-score   support\n",
      "\n",
      "          0       0.80      0.98      0.88       100\n",
      "          1       0.37      0.48      0.42       100\n",
      "          2       0.24      0.28      0.26       100\n",
      "          3       0.60      0.36      0.45       100\n",
      "          4       0.76      0.22      0.34       100\n",
      "          5       0.71      1.00      0.83       100\n",
      "\n",
      "avg / total       0.58      0.55      0.53       600\n",
      "\n",
      "\n",
      ": : : m03 : : :\n",
      "Accuracy:\n",
      "0.4816666666666667\n",
      "Classification report:\n",
      "             precision    recall  f1-score   support\n",
      "\n",
      "          0       0.93      0.27      0.42       100\n",
      "          1       0.63      0.39      0.48       100\n",
      "          2       0.26      0.76      0.39       100\n",
      "          3       0.47      0.28      0.35       100\n",
      "          4       0.63      0.19      0.29       100\n",
      "          5       0.76      1.00      0.86       100\n",
      "\n",
      "avg / total       0.61      0.48      0.47       600\n",
      "\n",
      "\n"
     ]
    }
   ],
   "source": [
    "from sklearn import svm,metrics\n",
    "paths_for_test=[\"m01\",\"m03\"]\n",
    "paths_for_train=[\"m02\",\"m04\",\"m05\",\"m06\",\"m04c\"]\n",
    "\n",
    "print('test',paths_for_test)\n",
    "print('train',paths_for_train)\n",
    "\n",
    "data=[]\n",
    "label=[]\n",
    "for i in range(len(paths_for_train)):\n",
    "    path=paths_for_train[i]\n",
    "    d=load_handimage(path)  # Bunchデータを格納\n",
    "    data.append(d.data)\n",
    "    label.append(d.target)\n",
    "\n",
    "# 最外部の囲みを排除し、同列データ化する\n",
    "train_data=np.concatenate(data)\n",
    "train_label=np.concatenate(label)\n",
    "\n",
    "classifier=svm.LinearSVC()\n",
    "classifier.fit(train_data,train_label)\n",
    "\n",
    "for path in paths_for_test:\n",
    "    d=load_handimage(path)\n",
    "    \n",
    "    predicted=classifier.predict(d.data)\n",
    "    \n",
    "    print(\": : : %s : : :\"% path)\n",
    "    print(\"Accuracy:\\n%s\"% metrics.accuracy_score(d.target,predicted))\n",
    "    print(\"Classification report:\\n%s\\n\"% metrics.classification_report(d.target,predicted))"
   ]
  },
  {
   "cell_type": "markdown",
   "metadata": {},
   "source": [
    "クロスバリデーション"
   ]
  },
  {
   "cell_type": "code",
   "execution_count": 32,
   "metadata": {},
   "outputs": [
    {
     "name": "stdout",
     "output_type": "stream",
     "text": [
      "paths_for_test:  ['m01']\n",
      "paths_for_train:  ['m02', 'm03', 'm04', 'm05', 'm06', 'm07', 'm08', 'm09', 'm10', 'm11', 'm12', 'm13', 'm14', 'm15', 'm16']\n",
      ": : m01 : :\n",
      "Accuracy:\n",
      "0.695\n",
      "paths_for_test:  ['m02']\n",
      "paths_for_train:  ['m01', 'm03', 'm04', 'm05', 'm06', 'm07', 'm08', 'm09', 'm10', 'm11', 'm12', 'm13', 'm14', 'm15', 'm16']\n",
      ": : m02 : :\n",
      "Accuracy:\n",
      "0.6916666666666667\n",
      "paths_for_test:  ['m03']\n",
      "paths_for_train:  ['m01', 'm02', 'm04', 'm05', 'm06', 'm07', 'm08', 'm09', 'm10', 'm11', 'm12', 'm13', 'm14', 'm15', 'm16']\n",
      ": : m03 : :\n",
      "Accuracy:\n",
      "0.715\n",
      "paths_for_test:  ['m04']\n",
      "paths_for_train:  ['m01', 'm02', 'm03', 'm05', 'm06', 'm07', 'm08', 'm09', 'm10', 'm11', 'm12', 'm13', 'm14', 'm15', 'm16']\n",
      ": : m04 : :\n",
      "Accuracy:\n",
      "0.35333333333333333\n",
      "paths_for_test:  ['m05']\n",
      "paths_for_train:  ['m01', 'm02', 'm03', 'm04', 'm06', 'm07', 'm08', 'm09', 'm10', 'm11', 'm12', 'm13', 'm14', 'm15', 'm16']\n",
      ": : m05 : :\n",
      "Accuracy:\n",
      "0.635\n",
      "paths_for_test:  ['m06']\n",
      "paths_for_train:  ['m01', 'm02', 'm03', 'm04', 'm05', 'm07', 'm08', 'm09', 'm10', 'm11', 'm12', 'm13', 'm14', 'm15', 'm16']\n",
      ": : m06 : :\n",
      "Accuracy:\n",
      "0.7\n",
      "paths_for_test:  ['m07']\n",
      "paths_for_train:  ['m01', 'm02', 'm03', 'm04', 'm05', 'm06', 'm08', 'm09', 'm10', 'm11', 'm12', 'm13', 'm14', 'm15', 'm16']\n",
      ": : m07 : :\n",
      "Accuracy:\n",
      "0.6116666666666667\n",
      "paths_for_test:  ['m08']\n",
      "paths_for_train:  ['m01', 'm02', 'm03', 'm04', 'm05', 'm06', 'm07', 'm09', 'm10', 'm11', 'm12', 'm13', 'm14', 'm15', 'm16']\n",
      ": : m08 : :\n",
      "Accuracy:\n",
      "0.6716666666666666\n",
      "paths_for_test:  ['m09']\n",
      "paths_for_train:  ['m01', 'm02', 'm03', 'm04', 'm05', 'm06', 'm07', 'm08', 'm10', 'm11', 'm12', 'm13', 'm14', 'm15', 'm16']\n",
      ": : m09 : :\n",
      "Accuracy:\n",
      "0.505\n",
      "paths_for_test:  ['m10']\n",
      "paths_for_train:  ['m01', 'm02', 'm03', 'm04', 'm05', 'm06', 'm07', 'm08', 'm09', 'm11', 'm12', 'm13', 'm14', 'm15', 'm16']\n",
      ": : m10 : :\n",
      "Accuracy:\n",
      "0.49\n",
      "paths_for_test:  ['m11']\n",
      "paths_for_train:  ['m01', 'm02', 'm03', 'm04', 'm05', 'm06', 'm07', 'm08', 'm09', 'm10', 'm12', 'm13', 'm14', 'm15', 'm16']\n",
      ": : m11 : :\n",
      "Accuracy:\n",
      "0.5233333333333333\n",
      "paths_for_test:  ['m12']\n",
      "paths_for_train:  ['m01', 'm02', 'm03', 'm04', 'm05', 'm06', 'm07', 'm08', 'm09', 'm10', 'm11', 'm13', 'm14', 'm15', 'm16']\n",
      ": : m12 : :\n",
      "Accuracy:\n",
      "0.635\n",
      "paths_for_test:  ['m13']\n",
      "paths_for_train:  ['m01', 'm02', 'm03', 'm04', 'm05', 'm06', 'm07', 'm08', 'm09', 'm10', 'm11', 'm12', 'm14', 'm15', 'm16']\n",
      ": : m13 : :\n",
      "Accuracy:\n",
      "0.7066666666666667\n",
      "paths_for_test:  ['m14']\n",
      "paths_for_train:  ['m01', 'm02', 'm03', 'm04', 'm05', 'm06', 'm07', 'm08', 'm09', 'm10', 'm11', 'm12', 'm13', 'm15', 'm16']\n",
      ": : m14 : :\n",
      "Accuracy:\n",
      "0.6466666666666666\n",
      "paths_for_test:  ['m15']\n",
      "paths_for_train:  ['m01', 'm02', 'm03', 'm04', 'm05', 'm06', 'm07', 'm08', 'm09', 'm10', 'm11', 'm12', 'm13', 'm14', 'm16']\n",
      ": : m15 : :\n",
      "Accuracy:\n",
      "0.6116666666666667\n",
      "paths_for_test:  ['m16']\n",
      "paths_for_train:  ['m01', 'm02', 'm03', 'm04', 'm05', 'm06', 'm07', 'm08', 'm09', 'm10', 'm11', 'm12', 'm13', 'm14', 'm15']\n",
      ": : m16 : :\n",
      "Accuracy:\n",
      "0.5916666666666667\n"
     ]
    }
   ],
   "source": [
    "datalist=[\"m01\", \"m02\", \"m03\", \"m04\", \"m05\", \"m06\", \"m07\", \"m08\", \"m09\", \"m10\", \n",
    "                    \"m11\", \"m12\", \"m13\", \"m14\", \"m15\", \"m16\"]\n",
    "lst=[]\n",
    "for paths_ in datalist:\n",
    "    lst.append([d for d in datalist if d!=paths_])\n",
    "    \n",
    "for i,paths_for_train in enumerate(lst):\n",
    "    paths_for_test=[datalist[i]]\n",
    "    print(\"paths_for_test: \",paths_for_test)\n",
    "    print(\"paths_for_train: \",paths_for_train)\n",
    "    data=[]\n",
    "    label=[]\n",
    "    for j in range(len(paths_for_train)):\n",
    "        path=paths_for_train[j]\n",
    "        d=load_handimage(path)\n",
    "        data.append(d.data)\n",
    "        label.append(d.target)\n",
    "    train_data=np.concatenate(data)\n",
    "    train_label=np.concatenate(label)\n",
    "    \n",
    "    classifier=svm.LinearSVC()\n",
    "    \n",
    "    classifier.fit(train_data,train_label)\n",
    "    \n",
    "    for path in paths_for_test:\n",
    "        d=load_handimage(path)\n",
    "        predicted=classifier.predict(d.data)\n",
    "        print(\": : %s : :\"% path)\n",
    "        print(\"Accuracy:\\n%s\"% metrics.accuracy_score(d.target,predicted))"
   ]
  },
  {
   "cell_type": "code",
   "execution_count": 33,
   "metadata": {},
   "outputs": [
    {
     "name": "stdout",
     "output_type": "stream",
     "text": [
      "[0.66843972 0.70390071 0.75531915 0.53546099 0.7393617  0.83333333\n",
      " 0.7535461  0.7322695  0.68439716 0.55141844 0.53191489 0.78191489\n",
      " 0.6953405  0.7311828  0.66487455 0.64695341]\n",
      "m01: 0.668440\n",
      "m02: 0.703901\n",
      "m03: 0.755319\n",
      "m04: 0.535461\n",
      "m05: 0.739362\n",
      "m06: 0.833333\n",
      "m07: 0.753546\n",
      "m08: 0.732270\n",
      "m09: 0.684397\n",
      "m10: 0.551418\n",
      "m11: 0.531915\n",
      "m12: 0.781915\n",
      "m13: 0.695341\n",
      "m14: 0.731183\n",
      "m15: 0.664875\n",
      "m16: 0.646953\n"
     ]
    }
   ],
   "source": [
    "from sklearn import svm, metrics\n",
    "from sklearn.model_selection import cross_val_score\n",
    "\n",
    "data = []\n",
    "label = []\n",
    "for i in range(len(paths_for_train)):\n",
    "    path = paths_for_train[i]\n",
    "    d = load_handimage(path)\n",
    "    data.append(d.data)\n",
    "    label.append(d.target)\n",
    "train_data = np.concatenate(data)\n",
    "train_label = np.concatenate(label)\n",
    "\n",
    "model = svm.LinearSVC()\n",
    "\n",
    "score = cross_val_score(model, train_data, train_label,cv=16)\n",
    "\n",
    "print(score)\n",
    "\n",
    "for i,sc in enumerate(score):\n",
    "    print(\"m{:02}: {:f}\".format(i+1,sc))"
   ]
  },
  {
   "cell_type": "code",
   "execution_count": 34,
   "metadata": {},
   "outputs": [
    {
     "data": {
      "text/plain": [
       "array([[ 67,  24,   4,   4,   1,   0],\n",
       "       [ 35,  48,  11,   5,   0,   1],\n",
       "       [  0,  15,  10,  52,   3,  20],\n",
       "       [  0,   5,  26,  69,   0,   0],\n",
       "       [  0,   0,   0,  38,  61,   1],\n",
       "       [  0,   0,   0,   0,   0, 100]], dtype=int64)"
      ]
     },
     "execution_count": 34,
     "metadata": {},
     "output_type": "execute_result"
    }
   ],
   "source": [
    "# TP FN FP TN の行列を返す\n",
    "metrics.confusion_matrix(d.target,predicted)"
   ]
  },
  {
   "cell_type": "code",
   "execution_count": 35,
   "metadata": {},
   "outputs": [],
   "source": [
    "from sklearn.model_selection import cross_val_score\n",
    "# closs_val_scoreはclassifierとトレーニング用データ、テスト用データを指定してその制度を割りだせる\n",
    "# estimator 推定者\n",
    "cross_val_score(estimator,X,y=None,groups=None,scoring=None,cv=None,\n",
    "               n_jobs=1,verbose=1,fit_params=None,pre_dispatch='2*n_jobs')\n",
    "#scoring スコアのつけ方　accuracyやaverage_precision,f1など\n",
    "#cv crossvalidation(交差検証)の略　データのsplit方法の指定"
   ]
  },
  {
   "cell_type": "code",
   "execution_count": 37,
   "metadata": {},
   "outputs": [
    {
     "name": "stdout",
     "output_type": "stream",
     "text": [
      "[1 2 3] [1 2 3]\n",
      "[0 2 3] [1 2 3]\n"
     ]
    }
   ],
   "source": [
    "import numpy as np\n",
    "a=np.array([1,2,3])\n",
    "b=a.copy()\n",
    "print(a,b)\n",
    "a[0]=0\n",
    "print(a,b)"
   ]
  },
  {
   "cell_type": "code",
   "execution_count": 38,
   "metadata": {},
   "outputs": [
    {
     "name": "stdout",
     "output_type": "stream",
     "text": [
      "[1 2 3] [1 2 3]\n",
      "[0 2 3] [0 2 3]\n"
     ]
    }
   ],
   "source": [
    "import numpy as np\n",
    "a=np.array([1,2,3])\n",
    "b=a.view()\n",
    "print(a,b)\n",
    "a[0]=0\n",
    "print(a,b)"
   ]
  }
 ],
 "metadata": {
  "kernelspec": {
   "display_name": "Python 3",
   "language": "python",
   "name": "python3"
  },
  "language_info": {
   "codemirror_mode": {
    "name": "ipython",
    "version": 3
   },
   "file_extension": ".py",
   "mimetype": "text/x-python",
   "name": "python",
   "nbconvert_exporter": "python",
   "pygments_lexer": "ipython3",
   "version": "3.6.10"
  },
  "varInspector": {
   "cols": {
    "lenName": 16,
    "lenType": 16,
    "lenVar": 40
   },
   "kernels_config": {
    "python": {
     "delete_cmd_postfix": "",
     "delete_cmd_prefix": "del ",
     "library": "var_list.py",
     "varRefreshCmd": "print(var_dic_list())"
    },
    "r": {
     "delete_cmd_postfix": ") ",
     "delete_cmd_prefix": "rm(",
     "library": "var_list.r",
     "varRefreshCmd": "cat(var_dic_list()) "
    }
   },
   "types_to_exclude": [
    "module",
    "function",
    "builtin_function_or_method",
    "instance",
    "_Feature"
   ],
   "window_display": false
  }
 },
 "nbformat": 4,
 "nbformat_minor": 4
}
