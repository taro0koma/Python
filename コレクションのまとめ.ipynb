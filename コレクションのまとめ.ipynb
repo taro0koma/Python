{
 "cells": [
  {
   "cell_type": "code",
   "execution_count": null,
   "metadata": {},
   "outputs": [],
   "source": [
    "for i in range(5):\n",
    "    for j in range(3):\n",
    "        print(\"iは\",i,\":jは\",j)"
   ]
  },
  {
   "cell_type": "code",
   "execution_count": null,
   "metadata": {},
   "outputs": [],
   "source": [
    "i=1\n",
    "while i <= 12:\n",
    "    print(i,\"月のデータです\")\n",
    "    i=i+1\n"
   ]
  },
  {
   "cell_type": "code",
   "execution_count": null,
   "metadata": {},
   "outputs": [],
   "source": [
    "v=False\n",
    "for i in range(5):\n",
    "    for j in range(5):\n",
    "        if v is False:  # isでも==でもよい！\n",
    "            print(\"*\",end=\"\")\n",
    "            v=True\n",
    "        else:\n",
    "            print(\"-\",end=\"\")\n",
    "            v=False\n",
    "    print()"
   ]
  },
  {
   "cell_type": "code",
   "execution_count": null,
   "metadata": {},
   "outputs": [],
   "source": [
    "num=int(input(\"何月の処理で終了しますが？（1～12）\"))\n",
    "for i in range(12):\n",
    "    print(i+1,\"月のデータです。\")\n",
    "    if (i+1)==num:\n",
    "        break"
   ]
  },
  {
   "cell_type": "code",
   "execution_count": null,
   "metadata": {},
   "outputs": [],
   "source": [
    "num=int(input(\"何月の処理を飛ばしますか？（1～12）\"))\n",
    "for i in range(12):\n",
    "    if (i+1)==num:\n",
    "        continue\n",
    "    print(i+1,\"月のデータです。\")"
   ]
  },
  {
   "cell_type": "code",
   "execution_count": null,
   "metadata": {},
   "outputs": [],
   "source": [
    "print(\"１から１０までの偶数を表示します。\")\n",
    "for i in range(30):\n",
    "    if (i+1)%2==0:\n",
    "        print(i+1,end=\"\\t\")\n",
    "    if (i+1)%10==0:\n",
    "        print()"
   ]
  },
  {
   "cell_type": "code",
   "execution_count": null,
   "metadata": {},
   "outputs": [],
   "source": [
    "print(\"１から１０までの偶数を表示します。\")\n",
    "for i in range(2,31,2):\n",
    "    print(i,end=\"\\t\")\n",
    "    if i%10==0:\n",
    "        print()"
   ]
  },
  {
   "cell_type": "code",
   "execution_count": null,
   "metadata": {},
   "outputs": [],
   "source": [
    "print(\"九九の表を作ります。\")\n",
    "for i in range(1,10):\n",
    "    for j in range(1,10):\n",
    "        print(i*j,\"\\t\",end=\"\")\n",
    "    print()"
   ]
  },
  {
   "cell_type": "code",
   "execution_count": null,
   "metadata": {},
   "outputs": [],
   "source": [
    "for i in range(1,6):\n",
    "    for j in range(i):\n",
    "        print(\"*\",end=\"\")\n",
    "    print()"
   ]
  },
  {
   "cell_type": "code",
   "execution_count": null,
   "metadata": {},
   "outputs": [],
   "source": [
    "test=[74,85,69,77,81]\n",
    "avg=sum(test)/len(test)\n",
    "print(\"テストの点一覧\",test)\n",
    "print(\"最高点は\",max(test),\"点です。\")\n",
    "print(\"最低点は\",min(test),\"点です。\")\n",
    "print(\"平均点は\",avg,\"点です。\")"
   ]
  },
  {
   "cell_type": "code",
   "execution_count": null,
   "metadata": {},
   "outputs": [],
   "source": [
    "test=(74,85,69,77,81)\n",
    "# test=[74,85,69,77,81] リストでもタプルでもOK!\n",
    "print(\"テストの点一覧\",test)\n",
    "print(\"昇順は\",sorted(test,reverse=False),\"です。\")\n",
    "print(\"降順は\",sorted(test,reverse=True),\"です。\")"
   ]
  },
  {
   "cell_type": "code",
   "execution_count": null,
   "metadata": {},
   "outputs": [],
   "source": [
    "test=[74,85,69,77,81]\n",
    "high=[t for t in test if t>=80]\n",
    "print(\"８０点以上は\",high,\"です。\")\n",
    "print(\"８０点以上の点数は\",len(high),\"個あります。\")"
   ]
  },
  {
   "cell_type": "code",
   "execution_count": null,
   "metadata": {},
   "outputs": [],
   "source": [
    "city=[\"東京\",\"名古屋\",\"大阪\",\"京都\",\"福岡\"]\n",
    "tm1=[32,28,27,26,27]\n",
    "tm2=[25,21,20,19,22]\n",
    "print(\"都市名のデータは\",city,\"です\")\n",
    "print(\"最高気温データは\",tm1,\"です\")\n",
    "print(\"最低気温データは\",tm2,\"です\")\n",
    "\n",
    "for c,t1,t2 in zip(city,tm1,tm2):  # zip()で要素番号をまとめて、for文でアンパック配備\n",
    "    print(c,\"の最高気温は\",t1,\"、最低気温は\",t2,\"です\")"
   ]
  },
  {
   "cell_type": "code",
   "execution_count": null,
   "metadata": {},
   "outputs": [],
   "source": [
    "list1=[1]\n",
    "tuple1=(1)\n",
    "dictionary1={1:1}\n",
    "set1={1}\n",
    "print(\"リスト内メソッド\",end=\"\\n\\n\")\n",
    "for x in dir(list1):\n",
    "    print(x,end=\" / \")\n",
    "print(end=\"\\n\\n\")\n",
    "print(\"タプル内メソッド\",end=\"\\n\\n\")\n",
    "for x in dir(tuple1):\n",
    "    print(x,end=\" / \")\n",
    "print(end=\"\\n\\n\")\n",
    "print(\"ディクショナリ内メソッド\",end=\"\\n\\n\")\n",
    "for x in dir(dictionary1):\n",
    "    print(x,end=\" / \")\n",
    "print(end=\"\\n\\n\")\n",
    "print(\"セット内メソッド\",end=\"\\n\\n\")\n",
    "for x in dir(set1):\n",
    "    print(x,end=\" / \")"
   ]
  },
  {
   "cell_type": "code",
   "execution_count": null,
   "metadata": {},
   "outputs": [],
   "source": [
    "test_dict = dict.fromkeys([\"a\", \"b\", \"c\"], [])  # value共同管理になってしまうから注意\n",
    "test_dict"
   ]
  },
  {
   "cell_type": "code",
   "execution_count": null,
   "metadata": {},
   "outputs": [],
   "source": [
    "data=[1,2,3,4,5]\n",
    "print(\"現在のデータは、\",data,\"です。\")\n",
    "ndata=[n*2 for n in data if n!=3]\n",
    "print(\"新しいデータは、\",ndata,\"です。\")"
   ]
  },
  {
   "cell_type": "code",
   "execution_count": null,
   "metadata": {},
   "outputs": [],
   "source": [
    "data=[1,2,3,4,5]\n",
    "print(\"現在のデータは\",data,\"です。\")\n",
    "ndata=[n*2 if n!=3 else n*3 for n in data]\n",
    "print(\"新しいデータは\",ndata,\"です。\")"
   ]
  },
  {
   "cell_type": "code",
   "execution_count": null,
   "metadata": {},
   "outputs": [],
   "source": [
    "colors = [\"red\",\"green\",\"blue\"]\n",
    "rgb={color:1 for color in colors}  # ディクショナリの内包表記\n",
    "print(rgb)"
   ]
  },
  {
   "cell_type": "code",
   "execution_count": null,
   "metadata": {},
   "outputs": [],
   "source": [
    "e_seasons=[\"Spring\",\"Summer\",\"Autumn\",\"Winter\"]\n",
    "j_seasons=[\"春\",\"夏\",\"秋\",\"冬\"]\n",
    "seasons={e:j for (e,j) in zip(e_seasons,j_seasons)}  # ディクショナリの内包表記\n",
    "print(seasons)"
   ]
  },
  {
   "cell_type": "code",
   "execution_count": null,
   "metadata": {},
   "outputs": [],
   "source": [
    "lst=[100,200,100,200,300,400,90,100,50]\n",
    "num={num for num in lst if num>100}  # setの内包表記\n",
    "print(num)  # セットなので重複要素削除、ASCII降順に出力できる"
   ]
  },
  {
   "cell_type": "code",
   "execution_count": null,
   "metadata": {},
   "outputs": [],
   "source": [
    "data=[  # ２次元リスト\n",
    "    [\"東京\",32,25], [\"大阪\",32,25],\n",
    "     [\"名古屋\",32,25], [\"福岡\",32,25],\n",
    "]\n",
    "print(data)"
   ]
  },
  {
   "cell_type": "code",
   "execution_count": null,
   "metadata": {},
   "outputs": [],
   "source": [
    "names=[[\"田中一郎\",\"男\"],(\"山田太郎\",\"男\"),(\"佐藤花子\",\"女\"),(\"稲垣五郎\",\"男\"),(\"小林直子\",\"女\")]\n",
    "men=[n[0] for n in names if n[1]==\"男\"]  # タプルやリストの２次元配列を扱う内包表記\n",
    "print(men)"
   ]
  },
  {
   "cell_type": "code",
   "execution_count": null,
   "metadata": {},
   "outputs": [],
   "source": [
    "# ディクショナリーの要素の追加\n",
    "\n",
    "janken = {}\n",
    "while True:  # 永久ループで囲む\n",
    "    goo_choki_pa = input(\"goo/choki/pa のどれかを入力してください。”quit”入力で終了します。\")\n",
    "    if goo_choki_pa == \"quit\":\n",
    "        print(\"終了します。\")\n",
    "        break  # while文のループから脱出\n",
    "    if goo_choki_pa not in [\"goo\", \"choki\", \"pa\"]:\n",
    "        continue  # while文ループのスタート文まで戻る\n",
    "    if goo_choki_pa in janken:\n",
    "        janken[goo_choki_pa] += 1  # データの追加更新\n",
    "    else:\n",
    "        janken[goo_choki_pa] = 1  # データの作成\n",
    "    print(janken)"
   ]
  },
  {
   "cell_type": "code",
   "execution_count": 4,
   "metadata": {},
   "outputs": [
    {
     "name": "stdout",
     "output_type": "stream",
     "text": [
      "{'apple': 100, 'orange': 100, 'melon': 700, 'pineapple': 450, 'strawberry': 500}\n"
     ]
    }
   ],
   "source": [
    "dict1={\"apple\":100,\"orange\":80,\"melon\":700}\n",
    "dict2={\"pineapple\":450,\"strawberry\":500,\"orange\":100}\n",
    "dict1.update(dict2)\n",
    "print(dict1)"
   ]
  },
  {
   "cell_type": "code",
   "execution_count": 6,
   "metadata": {},
   "outputs": [
    {
     "name": "stdout",
     "output_type": "stream",
     "text": [
      "{'k1': 1, 'k2': 2, 'k3': 300}\n"
     ]
    }
   ],
   "source": [
    "d = {'k1': 1, 'k2': 2, 'k3': 3, 'k3': 300}  # キーの重複は不可であるためより後方にある要素が上書きしていく\n",
    "print(d)"
   ]
  },
  {
   "cell_type": "code",
   "execution_count": 9,
   "metadata": {},
   "outputs": [
    {
     "name": "stdout",
     "output_type": "stream",
     "text": [
      "{'k1': 1, 'k2': 2, 'k3': 3, 'k4': 4}\n",
      "{'k1': 1, 'k2': 2}\n",
      "{'k3': 3, 'k4': 4}\n",
      "{'k1': 1, 'k2': 2, 'k3': 3, 'k4': 4, 'k5': 5}\n"
     ]
    }
   ],
   "source": [
    "# 2つの辞書を結合して新たな辞書を生成できる。元の辞書は更新されない。\n",
    "\n",
    "d1 = {'k1': 1, 'k2': 2}\n",
    "d2 = {'k3': 3, 'k4': 4}\n",
    "\n",
    "d = {**d1, **d2}   # 結合　Python3.5から{**d1, **d2}という書き方ができるようになった。\n",
    "print(d)\n",
    "# {'k1': 1, 'k2': 2, 'k3': 3, 'k4': 4}\n",
    "\n",
    "print(d1)\n",
    "# {'k1': 1, 'k2': 2}\n",
    "\n",
    "print(d2)\n",
    "# {'k3': 3, 'k4': 4}\n",
    "\n",
    "# キーと値を個別に指定するkey: valueの書き方と組み合わせることも可能!\n",
    "print({**d1, **d2, 'k5': 5})"
   ]
  },
  {
   "cell_type": "code",
   "execution_count": 12,
   "metadata": {},
   "outputs": [
    {
     "name": "stdout",
     "output_type": "stream",
     "text": [
      "{'k1': 1, 'k2': 2, 'k3': 3}\n",
      "{'k1': 1, 'k2': 2, 'k3': 4}\n"
     ]
    }
   ],
   "source": [
    "# キーワード引数で作成\n",
    "# キーワード引数key=valueを指定すると、キーkeyと値valueがそれぞれ登録される。\n",
    "\n",
    "d = dict(k1=1, k2=2, k3=3)  # a=bの記述方法でキーと値を登録できる\n",
    "print(d)\n",
    "\n",
    "# キーと値の組み合わせのリストから作成\n",
    "# キーkeyと値valueの組み合わせ（タプル(key, value)など）のリストでも指定できる。\n",
    "\n",
    "d = dict([('k1', 1), ('k2', 2), ('k3', 4)])  # イテラブルであればリストのタプルや集合（set型）のリストなどの組み合わせでも問題ない。\n",
    "print(d)"
   ]
  },
  {
   "cell_type": "code",
   "execution_count": 13,
   "metadata": {},
   "outputs": [
    {
     "name": "stdout",
     "output_type": "stream",
     "text": [
      "{'k1': 1, 'k2': 2, 'k3': 3}\n"
     ]
    }
   ],
   "source": [
    "# キーと値それぞれのリストから作成\n",
    "# zip()関数を使うとキーのリストと値のリストから辞書を作成できる。リストに限らず、タプルなどでもOK。\n",
    "\n",
    "keys = ['k1', 'k2', 'k3']\n",
    "values = [1, 2, 3]\n",
    "\n",
    "d = dict(zip(keys, values))  # zip()したものをディクショナリのキーと値にできる\n",
    "# d = dict(d_other)  # dict()関数は共同管理を避けてディクショナリを生成する。\n",
    "# 等価（==）だが　同一（is）ではない\n",
    "# dict()内に既にディクショナリとして作成したものを入れるとエラー dict(**d1, **d2)はOK\n",
    "print(d)\n",
    "# {'k1': 1, 'k2': 2, 'k3': 3}"
   ]
  },
  {
   "cell_type": "code",
   "execution_count": 14,
   "metadata": {},
   "outputs": [
    {
     "name": "stdout",
     "output_type": "stream",
     "text": [
      "{'Alice': 5, 'Bob': 3, 'Charlie': 7}\n",
      "{'k1': 1, 'k2': 2, 'k3': 3}\n",
      "{'k1': 1, 'k3': 3}\n"
     ]
    }
   ],
   "source": [
    "# ディクショナリ内包表記\n",
    "\n",
    "l = ['Alice', 'Bob', 'Charlie']\n",
    "\n",
    "d = {s: len(s) for s in l}\n",
    "print(d)\n",
    "# {'Alice': 5, 'Bob': 3, 'Charlie': 7}\n",
    "\n",
    "# キーと値それぞれのリストから作成する場合はコンストラクタdict()と同様にzip()関数を使う。\n",
    "\n",
    "keys = ['k1', 'k2', 'k3']\n",
    "values = [1, 2, 3]\n",
    "\n",
    "d = {k: v for k, v in zip(keys, values)}\n",
    "print(d)\n",
    "# {'k1': 1, 'k2': 2, 'k3': 3}\n",
    "\n",
    "# 辞書内包表記ではifによる条件分岐も可能。リストをそのまま辞書にするなら上述のようにコンストラクタdict()でいいが、値を処理したり条件によって要素を取捨選択したい場合は辞書内包表記が便利。\n",
    "\n",
    "d = {k: v for k, v in zip(keys, values) if v % 2 == 1}\n",
    "print(d)\n",
    "# {'k1': 1, 'k3': 3}"
   ]
  }
 ],
 "metadata": {
  "kernelspec": {
   "display_name": "Python 3",
   "language": "python",
   "name": "python3"
  },
  "language_info": {
   "codemirror_mode": {
    "name": "ipython",
    "version": 3
   },
   "file_extension": ".py",
   "mimetype": "text/x-python",
   "name": "python",
   "nbconvert_exporter": "python",
   "pygments_lexer": "ipython3",
   "version": "3.6.10"
  },
  "toc": {
   "base_numbering": 1,
   "nav_menu": {},
   "number_sections": true,
   "sideBar": true,
   "skip_h1_title": false,
   "title_cell": "Table of Contents",
   "title_sidebar": "Contents",
   "toc_cell": false,
   "toc_position": {},
   "toc_section_display": true,
   "toc_window_display": false
  },
  "varInspector": {
   "cols": {
    "lenName": 16,
    "lenType": 16,
    "lenVar": 40
   },
   "kernels_config": {
    "python": {
     "delete_cmd_postfix": "",
     "delete_cmd_prefix": "del ",
     "library": "var_list.py",
     "varRefreshCmd": "print(var_dic_list())"
    },
    "r": {
     "delete_cmd_postfix": ") ",
     "delete_cmd_prefix": "rm(",
     "library": "var_list.r",
     "varRefreshCmd": "cat(var_dic_list()) "
    }
   },
   "types_to_exclude": [
    "module",
    "function",
    "builtin_function_or_method",
    "instance",
    "_Feature"
   ],
   "window_display": false
  }
 },
 "nbformat": 4,
 "nbformat_minor": 4
}
