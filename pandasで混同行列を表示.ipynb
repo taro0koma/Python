{
 "cells": [
  {
   "cell_type": "code",
   "execution_count": 3,
   "metadata": {},
   "outputs": [
    {
     "data": {
      "text/html": [
       "<div>\n",
       "<style scoped>\n",
       "    .dataframe tbody tr th:only-of-type {\n",
       "        vertical-align: middle;\n",
       "    }\n",
       "\n",
       "    .dataframe tbody tr th {\n",
       "        vertical-align: top;\n",
       "    }\n",
       "\n",
       "    .dataframe thead th {\n",
       "        text-align: right;\n",
       "    }\n",
       "</style>\n",
       "<table border=\"1\" class=\"dataframe\">\n",
       "  <thead>\n",
       "    <tr style=\"text-align: right;\">\n",
       "      <th></th>\n",
       "      <th>ckd</th>\n",
       "      <th>notckd</th>\n",
       "    </tr>\n",
       "  </thead>\n",
       "  <tbody>\n",
       "    <tr>\n",
       "      <th>ckd</th>\n",
       "      <td>7</td>\n",
       "      <td>1</td>\n",
       "    </tr>\n",
       "    <tr>\n",
       "      <th>notckd</th>\n",
       "      <td>1</td>\n",
       "      <td>19</td>\n",
       "    </tr>\n",
       "  </tbody>\n",
       "</table>\n",
       "</div>"
      ],
      "text/plain": [
       "        ckd  notckd\n",
       "ckd       7       1\n",
       "notckd    1      19"
      ]
     },
     "execution_count": 3,
     "metadata": {},
     "output_type": "execute_result"
    }
   ],
   "source": [
    "import numpy as np\n",
    "import pandas as pd\n",
    "from sklearn.metrics import confusion_matrix\n",
    "\n",
    "# y_test に正解値、 y_predに予測値がすでに入っていることを前提にします。\n",
    "# 以下の2行はこの前提を満たすためのダミーコードです。\n",
    "\n",
    "y_test = np.array(\n",
    " ['notckd', 'notckd', 'notckd', 'notckd', 'notckd',\n",
    "  'ckd', 'ckd', 'ckd', 'notckd','notckd',\n",
    "  'ckd', 'notckd', 'notckd', 'notckd', 'ckd',\n",
    "  'notckd', 'notckd', 'notckd','notckd', 'notckd',\n",
    "  'ckd', 'ckd', 'notckd', 'notckd', 'notckd',\n",
    "  'ckd', 'notckd','notckd'])\n",
    "\n",
    "y_pred = np.array(\n",
    "['notckd', 'notckd', 'notckd', 'notckd', 'notckd',\n",
    " 'ckd', 'ckd', 'ckd', 'notckd', 'notckd',\n",
    " 'ckd', 'notckd', 'notckd', 'notckd', 'ckd',\n",
    " 'notckd', 'ckd', 'notckd', 'notckd', 'notckd',\n",
    " 'notckd', 'ckd', 'notckd', 'notckd', 'notckd',\n",
    " 'ckd', 'notckd', 'notckd'])\n",
    "\n",
    "# 混同行列(confusion matrix)の取得\n",
    "labels = ['ckd', 'notckd']\n",
    "cm = confusion_matrix(y_test, y_pred, labels=labels)\n",
    "\n",
    "# データフレームに変換　co\n",
    "cm_labeled = pd.DataFrame(cm, columns=labels, index=labels)\n",
    "\n",
    "# 結果の表示\n",
    "cm_labeled"
   ]
  }
 ],
 "metadata": {
  "kernelspec": {
   "display_name": "Python 3",
   "language": "python",
   "name": "python3"
  },
  "language_info": {
   "codemirror_mode": {
    "name": "ipython",
    "version": 3
   },
   "file_extension": ".py",
   "mimetype": "text/x-python",
   "name": "python",
   "nbconvert_exporter": "python",
   "pygments_lexer": "ipython3",
   "version": "3.6.10"
  },
  "varInspector": {
   "cols": {
    "lenName": 16,
    "lenType": 16,
    "lenVar": 40
   },
   "kernels_config": {
    "python": {
     "delete_cmd_postfix": "",
     "delete_cmd_prefix": "del ",
     "library": "var_list.py",
     "varRefreshCmd": "print(var_dic_list())"
    },
    "r": {
     "delete_cmd_postfix": ") ",
     "delete_cmd_prefix": "rm(",
     "library": "var_list.r",
     "varRefreshCmd": "cat(var_dic_list()) "
    }
   },
   "types_to_exclude": [
    "module",
    "function",
    "builtin_function_or_method",
    "instance",
    "_Feature"
   ],
   "window_display": false
  }
 },
 "nbformat": 4,
 "nbformat_minor": 4
}
