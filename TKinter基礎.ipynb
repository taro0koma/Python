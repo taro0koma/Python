{
 "cells": [
  {
   "cell_type": "markdown",
   "metadata": {},
   "source": [
    "<p>tk_widget1_py</p>"
   ]
  },
  {
   "cell_type": "code",
   "execution_count": 1,
   "metadata": {},
   "outputs": [],
   "source": [
    "import tkinter\n",
    " \n",
    "root = tkinter.Tk()\n",
    "root.title(\"Python Tkinter\")\n",
    "root.geometry(\"200x150\")\n",
    " \n",
    "root.mainloop()"
   ]
  },
  {
   "cell_type": "markdown",
   "metadata": {},
   "source": [
    "<p>tk_widget2_py</p>"
   ]
  },
  {
   "cell_type": "code",
   "execution_count": 2,
   "metadata": {},
   "outputs": [],
   "source": [
    "import tkinter as tk\n",
    "\n",
    "root = tk.Tk()\n",
    "root.title(\"Python Tkinter\")\n",
    "root.geometry(\"200x150\")\n",
    "btn = tk.Button(root, text=\"OK\")\n",
    "btn.pack()\n",
    "\n",
    "root.mainloop()"
   ]
  },
  {
   "cell_type": "markdown",
   "metadata": {},
   "source": [
    "<p>Label1</p>"
   ]
  },
  {
   "cell_type": "code",
   "execution_count": 3,
   "metadata": {},
   "outputs": [],
   "source": [
    "import tkinter as tk \n",
    "\n",
    "root = tk.Tk()\n",
    "root.title(\"Label\")\n",
    "root.geometry(\"200x150\")\n",
    "\n",
    "#Label\n",
    "lb = tk.Label(root, text=\"Python Tkinter\")\n",
    "lb.pack()\n",
    "\n",
    "root.mainloop()"
   ]
  },
  {
   "cell_type": "markdown",
   "metadata": {},
   "source": [
    "<p>Label2</p>"
   ]
  },
  {
   "cell_type": "code",
   "execution_count": 4,
   "metadata": {},
   "outputs": [],
   "source": [
    "import tkinter as tk\n",
    " \n",
    "root = tk.Tk()\n",
    "root.title(\"Label\")\n",
    "root.geometry(\"200x150\")\n",
    " \n",
    "#Label\n",
    "lb = tk.Label(text='Python',foreground='white',background='blue')\n",
    "lb.pack()\n",
    " \n",
    "root.mainloop()"
   ]
  },
  {
   "cell_type": "markdown",
   "metadata": {},
   "source": [
    "<p>Label3</p>"
   ]
  },
  {
   "cell_type": "code",
   "execution_count": 5,
   "metadata": {},
   "outputs": [],
   "source": [
    "import tkinter as tk\n",
    " \n",
    "root = tk.Tk()\n",
    "root.title(\"Label\")\n",
    "root.geometry(\"200x150\")\n",
    " \n",
    "#Label\n",
    "lb = tk.Label(text='Python',font=( 'FixdSys','14','bold'))\n",
    "lb.pack()\n",
    " \n",
    "root.mainloop()"
   ]
  },
  {
   "cell_type": "markdown",
   "metadata": {},
   "source": [
    "<p>pack</p>"
   ]
  },
  {
   "cell_type": "code",
   "execution_count": 6,
   "metadata": {},
   "outputs": [],
   "source": [
    "import tkinter as tk\n",
    " \n",
    "root = tk.Tk()\n",
    "root.title(\"packer\")\n",
    "root.geometry(\"200x150\")\n",
    "color = ('red', 'blue', 'green', 'yellow')\n",
    " \n",
    "#ラベルの作成\n",
    "for x in range(4):\n",
    "    label = tk.Label(root, text = \"Label{}\".format(x) , background = color[x])\n",
    "    label.pack()\n",
    "\n",
    "root.mainloop()"
   ]
  },
  {
   "cell_type": "markdown",
   "metadata": {},
   "source": [
    "<p>grid</p>"
   ]
  },
  {
   "cell_type": "code",
   "execution_count": 7,
   "metadata": {},
   "outputs": [],
   "source": [
    "import tkinter as tk\n",
    " \n",
    "root = tk.Tk()\n",
    "root.title(\"gridder\")\n",
    "root.geometry(\"200x150\")\n",
    "color = ('red', 'blue', 'green', 'yellow')\n",
    " \n",
    "#ラベルの作成\n",
    "label1 = tk.Label(root, text = \"Label1\", background = color[0])\n",
    "label2 = tk.Label(root, text = \"Label2\", background = color[1])\n",
    "label3 = tk.Label(root, text = \"Label3\", background = color[2])\n",
    "label4 = tk.Label(root, text = \"Label4\", background = color[3])\n",
    " \n",
    "label1.grid(column=0,row=0)\n",
    "label2.grid(column=1,row=0)\n",
    "label3.grid(column=0,row=1)\n",
    "label4.grid(column=1,row=1)\n",
    " \n",
    "root.mainloop()"
   ]
  },
  {
   "cell_type": "markdown",
   "metadata": {},
   "source": [
    "<p>place</p>"
   ]
  },
  {
   "cell_type": "code",
   "execution_count": 8,
   "metadata": {},
   "outputs": [],
   "source": [
    "import tkinter as tk\n",
    " \n",
    "root = tk.Tk()\n",
    "root.title(\"placer\")\n",
    "root.geometry(\"200x160\")\n",
    " \n",
    "color = (\"red\",\"blue\",\"green\")\n",
    "for x in range(3):\n",
    "    lab = tk.Label(root, text = \"Label{}\".format(x), bg = color[x])\n",
    "    lab.place( relx=0.25*x, rely=0.25*x)\n",
    "\n",
    "root.mainloop()"
   ]
  },
  {
   "cell_type": "markdown",
   "metadata": {},
   "source": [
    "<p>place</p>"
   ]
  },
  {
   "cell_type": "code",
   "execution_count": 9,
   "metadata": {},
   "outputs": [],
   "source": [
    "import tkinter as tk\n",
    " \n",
    "root = tk.Tk()\n",
    "root.title(\"placer\")\n",
    "root.geometry(\"200x160\")\n",
    " \n",
    "color = (\"red\",\"blue\",\"green\")\n",
    "for x in range(3):\n",
    "    lab = tk.Label(root, text = \"Label{}\".format(x), bg = color[x])\n",
    "    lab.place( x = 50*x, y = 40*x)\n",
    "\n",
    "root.mainloop()"
   ]
  },
  {
   "cell_type": "markdown",
   "metadata": {},
   "source": [
    "<h2>Button1</h2>"
   ]
  },
  {
   "cell_type": "code",
   "execution_count": 10,
   "metadata": {},
   "outputs": [],
   "source": [
    "import tkinter as tk\n",
    " \n",
    "root = tk.Tk()\n",
    "root.title(\"Button\")\n",
    "root.geometry(\"200x150\")\n",
    " \n",
    "#Button\n",
    "Button = tk.Button(text='Button#1', width=10)\n",
    "Button.pack()\n",
    " \n",
    "root.mainloop()"
   ]
  },
  {
   "cell_type": "code",
   "execution_count": 11,
   "metadata": {},
   "outputs": [],
   "source": [
    "import tkinter as tk\n",
    " \n",
    "root = tk.Tk()\n",
    "root.title(\"BUTTON機能\")\n",
    "root.geometry(\"200x150\")\n",
    " \n",
    "def button_on():\n",
    "    label_str.set(\"ON\")\n",
    "\n",
    "def button_off():\n",
    "    label_str.set(\"OFF\")\n",
    "\n",
    "label_str = tk.StringVar()\n",
    "label_str.set('NON')\n",
    " \n",
    "tk.Label(textvariable = label_str).pack()\n",
    " \n",
    "Btn_on = tk.Button(text=\"ON\",width=3, command=button_on)\n",
    "Btn_on.pack()\n",
    " \n",
    "Btn_off = tk.Button(text=\"OFF\",width=3, command=button_off)\n",
    "Btn_off.pack()\n",
    " \n",
    "root.mainloop()"
   ]
  },
  {
   "cell_type": "code",
   "execution_count": 12,
   "metadata": {},
   "outputs": [],
   "source": [
    "import tkinter as tk\n",
    " \n",
    "root = tk.Tk()\n",
    "root.title(\"BUTTON機能\")\n",
    "root.geometry(\"200x150\")\n",
    " \n",
    "def button_on(event):\n",
    "    label_str.set(\"ON\")\n",
    "    \n",
    "def button_off(event):\n",
    "    label_str.set(\"OFF\")\n",
    "\n",
    "label_str = tk.StringVar()\n",
    "label_str.set('NON')\n",
    " \n",
    "tk.Label(textvariable = label_str).pack()\n",
    " \n",
    "Btn_on = tk.Button(text=\"ON\",width=3)\n",
    "Btn_on.bind(\"<Button-1>\", button_on)\n",
    "Btn_on.pack()\n",
    " \n",
    "Btn_off = tk.Button(text=\"OFF\",width=3)\n",
    "Btn_off.bind(\"<Button-1>\", button_off)\n",
    "Btn_off.pack()\n",
    " \n",
    "root.mainloop()"
   ]
  },
  {
   "cell_type": "markdown",
   "metadata": {},
   "source": [
    "<h2>EditBox</h2>"
   ]
  },
  {
   "cell_type": "code",
   "execution_count": 13,
   "metadata": {},
   "outputs": [],
   "source": [
    "import tkinter as tk\n",
    " \n",
    "root = tk.Tk()\n",
    "root.title(\"Entry\")\n",
    "root.geometry(\"200x150\")\n",
    " \n",
    "#Entry\n",
    "EditBox = tk.Entry()\n",
    "EditBox.pack()\n",
    " \n",
    "root.mainloop()"
   ]
  },
  {
   "cell_type": "markdown",
   "metadata": {},
   "source": [
    "<h2>Frame</h2>"
   ]
  },
  {
   "cell_type": "code",
   "execution_count": 14,
   "metadata": {},
   "outputs": [],
   "source": [
    "import tkinter as tk\n",
    " \n",
    "root = tk.Tk()\n",
    "root.title('Frame')\n",
    " \n",
    "#フレーム生成\n",
    "frame0 = tk.Frame(root)\n",
    "frame1 = tk.Frame(root)\n",
    " \n",
    "#frame0にラベルとボタンの配置/ウィジェット生成時にframeに配置\n",
    "tk.Label(frame0, text ='ボタンを押してください').pack()\n",
    "tk.Button(frame0, text ='Button#1').pack(side = 'left')\n",
    "tk.Button(frame0, text ='Button#2').pack(side = 'left')\n",
    "tk.Button(frame0, text ='Button#3').pack(side = 'left')\n",
    " \n",
    "#frame1にボタンの配置/ジオメトリマネージャでframeに配置\n",
    "tk.Button(text ='Button#4').pack(in_ = frame1, fill = 'both')\n",
    "tk.Button(text ='Button#5').pack(in_ = frame1, fill = 'both')\n",
    "tk.Button(text ='Button#6').pack(in_ = frame1, fill = 'both')\n",
    " \n",
    "#フレームの配置\n",
    "frame0.pack()\n",
    "frame1.pack(fill = 'both')\n",
    " \n",
    "root.mainloop()"
   ]
  },
  {
   "cell_type": "markdown",
   "metadata": {},
   "source": [
    "<h2>Scale</h2>"
   ]
  },
  {
   "cell_type": "code",
   "execution_count": 15,
   "metadata": {},
   "outputs": [],
   "source": [
    "import tkinter as tk\n",
    " \n",
    "# Main Window \n",
    "root = tk.Tk()\n",
    "root.title(\"Tkinter:Scale\")\n",
    "root.geometry(\"300x200\")\n",
    " \n",
    "# Define the scales\n",
    "red = tk.IntVar()\n",
    "red.set(0)\n",
    "blue = tk.IntVar()\n",
    "blue.set(0)\n",
    "green = tk.IntVar()\n",
    "green.set(0)\n",
    " \n",
    "# Change background color \n",
    "def change_color( n ):\n",
    "#   color = '#%02x%02x%02x' % (red.get(), green.get(), blue.get())\n",
    "    color = '#{:02x}{:02x}{:02x}'.format(red.get(), green.get(), blue.get())\n",
    "    color_label.configure(bg = color)\n",
    " \n",
    "# color_Label \n",
    "color_label = tk.Label(root, text = 'COLOR', bg = '#000')\n",
    "color_label.pack(fill = 'both');\n",
    " \n",
    "# Scale \n",
    "s1 = tk.Scale(root, label = 'red', orient = 'h',\n",
    "           from_ = 0, to = 255, variable = red,\n",
    "           command = change_color)\n",
    " \n",
    "s2 = tk.Scale(root, label = 'blue', orient = 'h',\n",
    "           from_ = 0, to = 255, variable = blue,\n",
    "           command = change_color)\n",
    " \n",
    "s3 = tk.Scale(root, label = 'green', orient = 'h',\n",
    "           from_ = 0, to = 255, variable = green,\n",
    "           command = change_color)\n",
    " \n",
    "# Layout and styling widged\n",
    "s1.pack(fill = 'both')\n",
    "s2.pack(fill = 'both')\n",
    "s3.pack(fill = 'both')\n",
    " \n",
    "# Main\n",
    "root.mainloop();"
   ]
  },
  {
   "cell_type": "markdown",
   "metadata": {},
   "source": [
    "<h2>Checkbutton</h2>"
   ]
  },
  {
   "cell_type": "code",
   "execution_count": 16,
   "metadata": {},
   "outputs": [
    {
     "name": "stdout",
     "output_type": "stream",
     "text": [
      "variable: True\n"
     ]
    }
   ],
   "source": [
    "import tkinter as tk\n",
    " \n",
    "root = tk.Tk()\n",
    "root.title(\"Checkbutton機能\")\n",
    "root.geometry(\"200x150\")\n",
    " \n",
    "# Checkbutton\n",
    "chk = tk.BooleanVar()\n",
    "chk.set(False)\n",
    " \n",
    "def checked():\n",
    "    print(\"variable:\", chk.get())\n",
    " \n",
    "check_btn = tk.Checkbutton(variable = chk, text='Check', command=checked)\n",
    "check_btn.pack()\n",
    " \n",
    "root.mainloop()"
   ]
  },
  {
   "cell_type": "code",
   "execution_count": 17,
   "metadata": {},
   "outputs": [],
   "source": [
    "import tkinter as tk\n",
    " \n",
    "root = tk.Tk()\n",
    "root.title(\"Checkbutton機能\")\n",
    "root.geometry(\"200x150\")\n",
    " \n",
    "# ラベル表示文字\n",
    "on_off = {True:\"ON\",False:\"OFF\"}\n",
    " \n",
    "# Labelオブジェクトの生成と配置\n",
    "lb = tk.Label(root, text= on_off[False])\n",
    "lb.pack()\n",
    " \n",
    "# Checkbuttonのvariableのset(),get()定義\n",
    "chk = tk.BooleanVar()\n",
    "chk.set(False)\n",
    " \n",
    "# Checkbuttonのイベントハンドラー関数\n",
    "def checked():\n",
    "    lb.configure(text = on_off[chk.get()])\n",
    " \n",
    "# Checkbuttonの生成と配置\n",
    "check_btn = tk.Checkbutton(variable = chk, text='Check', command=checked)\n",
    "check_btn.pack()\n",
    " \n",
    "root.mainloop()"
   ]
  },
  {
   "cell_type": "markdown",
   "metadata": {},
   "source": [
    "<h2>Radiobutton</h2>"
   ]
  },
  {
   "cell_type": "code",
   "execution_count": 18,
   "metadata": {},
   "outputs": [],
   "source": [
    "import tkinter as tk\n",
    " \n",
    "root = tk.Tk()\n",
    "root.title(\"Raidobutton機能\")\n",
    "root.geometry(\"200x150\")\n",
    " \n",
    "# 選択されたラジオボタン以外を無効にする\n",
    "def change_state():\n",
    "    btn = v.get()\n",
    " \n",
    "    if btn == 1:\n",
    "        radio2.configure(state = \"disabled\")\n",
    "        radio3.configure(state = \"disabled\")\n",
    " \n",
    "    elif btn == 2:\n",
    "        radio1.configure(state = \"disabled\")\n",
    "        radio3.configure(state = \"disabled\")\n",
    " \n",
    "    elif btn == 3:\n",
    "        radio1.configure(state = \"disabled\")\n",
    "        radio2.configure(state = \"disabled\")\n",
    " \n",
    "    elif btn == 0:\n",
    "        pass\n",
    " \n",
    "    else:\n",
    "        print(\"Error\",btn)\n",
    " \n",
    "v = tk.IntVar()\n",
    "v.set(0)\n",
    " \n",
    "# ラジオボタン・オブジェクトの生成と配置\n",
    "radio1 = tk.Radiobutton(text=\"選択項目#1\", variable = v, value = 1, command = change_state)\n",
    "radio1.pack()\n",
    " \n",
    "radio2 = tk.Radiobutton(text=\"選択項目#2\", variable = v, value = 2, command = change_state)\n",
    "radio2.pack()\n",
    " \n",
    "radio3 = tk.Radiobutton(text=\"選択項目#3\", variable = v, value = 3, command = change_state)\n",
    "radio3.pack()\n",
    " \n",
    "root.mainloop()"
   ]
  },
  {
   "cell_type": "code",
   "execution_count": 19,
   "metadata": {},
   "outputs": [],
   "source": [
    "import tkinter as tk\n",
    " \n",
    "root = tk.Tk()\n",
    "root.title(\"Raidobutton機能\")\n",
    "root.geometry(\"200x150\")\n",
    " \n",
    "# 選択されたラジオボタン以外を無効にする\n",
    "def state1():\n",
    "    btn = v1.get()\n",
    " \n",
    "    if btn == 1:\n",
    "        radio12.configure(state = \"disabled\")\n",
    " \n",
    "    elif btn == 2:\n",
    "        radio11.configure(state = \"disabled\")\n",
    " \n",
    "    elif btn == 0:\n",
    "        pass\n",
    " \n",
    "    else:\n",
    "        print(\"Error\",btn)\n",
    " \n",
    "def state2():\n",
    "    btn = v2.get()\n",
    "    if btn == 1:\n",
    "        radio22.configure(state = \"disabled\")\n",
    " \n",
    "    elif btn == 2:\n",
    "        radio21.configure(state = \"disabled\")\n",
    " \n",
    "    elif btn == 0:\n",
    "        pass\n",
    " \n",
    "    else:\n",
    "        print(\"Error\",btn)\n",
    " \n",
    "# 選択ボタンのリセット\n",
    "def reset():\n",
    "    radio11.configure(state = \"normal\")\n",
    "    radio12.configure(state = \"normal\")\n",
    "    radio21.configure(state = \"normal\")\n",
    "    radio22.configure(state = \"normal\")\n",
    "    v1.set(0)\n",
    "    v2.set(0)\n",
    " \n",
    "v1 = tk.IntVar()\n",
    "v1.set(0)\n",
    "v2 = tk.IntVar()\n",
    "v2.set(0)\n",
    "# Frameの生成と配置\n",
    "frame1 = tk.LabelFrame(root, text = \"Group1\")\n",
    "frame1.pack()\n",
    "# ラジオボタン・オブジェクトの生成と配置\n",
    "radio11 = tk.Radiobutton(frame1, text =\"選択項目#1\", variable=v1, value=1, command=state1)\n",
    "radio11.pack()\n",
    " \n",
    "radio12 = tk.Radiobutton(frame1, text =\"選択項目#2\", variable=v1, value=2, command=state1)\n",
    "radio12.pack()\n",
    " \n",
    "# Frameの生成と配置\n",
    "frame2 = tk.LabelFrame(root ,text= \"Group2\")\n",
    "frame2.pack()\n",
    "# ラジオボタン・オブジェクトの生成と配置\n",
    "radio21 = tk.Radiobutton(frame2, text =\"選択項目#1\", variable=v2, value=1, command=state2)\n",
    "radio21.pack()\n",
    " \n",
    "radio22 = tk.Radiobutton(frame2, text =\"選択項目#2\", variable=v2, value=2, command=state2)\n",
    "radio22.pack()\n",
    " \n",
    "# RESETボタンの生成と配置\n",
    "restbtn = tk.Button(text=\"RESET\", command = reset)\n",
    "restbtn.pack()\n",
    " \n",
    "root.mainloop()"
   ]
  },
  {
   "cell_type": "markdown",
   "metadata": {},
   "source": [
    "<h2>Spinbox</h2>"
   ]
  },
  {
   "cell_type": "code",
   "execution_count": 20,
   "metadata": {},
   "outputs": [
    {
     "name": "stdout",
     "output_type": "stream",
     "text": [
      "April\n",
      "1\n",
      "02.50\n"
     ]
    }
   ],
   "source": [
    "import tkinter as tk\n",
    " \n",
    "root = tk.Tk()\n",
    "root.title('Spinbox機能')\n",
    "root.geometry(\"200x150\")\n",
    "root.option_add('*font', ('FixeSys',14))\n",
    " \n",
    "month = (\"January\",\"February\", \"March\", \"April\")\n",
    " \n",
    "#spinboxの生成と配置\n",
    "sp1 = tk.Spinbox(value = month, width = 20, state = 'readonly')\n",
    "sp2 = tk.Spinbox(from_ =1, to = 31, increment =1, width = 20)\n",
    "sp3 = tk.Spinbox(from_ = 1, to = 5, increment = 0.5, format = '%05.2f', width = 20)\n",
    " \n",
    "for w in (sp1, sp2, sp3):\n",
    "    w.pack(padx = 5, pady = 5, fill = 'both')\n",
    " \n",
    "#OKボタンの生成、配置、イベント関数\n",
    "def clicked():\n",
    "    print(sp1.get())\n",
    "    print(sp2.get())\n",
    "    print(sp3.get())\n",
    "\n",
    "btn = tk.Button(text = 'OK', command = clicked)\n",
    "btn.pack()\n",
    " \n",
    "root.mainloop()"
   ]
  },
  {
   "cell_type": "markdown",
   "metadata": {},
   "source": [
    "<h2>デジタル時計</h2>"
   ]
  },
  {
   "cell_type": "code",
   "execution_count": 21,
   "metadata": {},
   "outputs": [],
   "source": [
    "import tkinter as tk\n",
    "import time as tm\n",
    " \n",
    "root = tk.Tk()\n",
    "root.title(\"デジタル時計\")\n",
    "root.geometry(\"200x100\")\n",
    " \n",
    "buff = tk.StringVar()\n",
    "buff.set('')\n",
    " \n",
    "tk.Label(textvariable = buff, font=('FixedSys',14,'bold')).pack()\n",
    " \n",
    "# 時刻の表示\n",
    "def show_time():\n",
    "    buff.set(tm.strftime('%I:%M:%S'))\n",
    "    root.after(1000, show_time)\n",
    "\n",
    "show_time()\n",
    "root.mainloop()"
   ]
  },
  {
   "cell_type": "markdown",
   "metadata": {},
   "source": [
    "<h2>Canvas</h2>"
   ]
  },
  {
   "cell_type": "code",
   "execution_count": 22,
   "metadata": {},
   "outputs": [],
   "source": [
    "import tkinter as tk\n",
    " \n",
    "root = tk.Tk()\n",
    "root.title(\"Canvas\")\n",
    " \n",
    "# 150x150のキャンバスのx0=10,y0=10,x1=140,y1=140の矩形領域に円を描く\n",
    "c1 = tk.Canvas(width = 150, height = 150)\n",
    "id = c1.create_oval(10,10,140,140)\n",
    "c1.pack()\n",
    " \n",
    "root.mainloop()"
   ]
  },
  {
   "cell_type": "code",
   "execution_count": 23,
   "metadata": {},
   "outputs": [],
   "source": [
    "import tkinter as tk\n",
    "    \n",
    "root = tk.Tk()\n",
    "root.title(\"Canvas\")\n",
    " \n",
    "# 150x150のキャンバスのx0=10,y0=10,x1=140,y1=140にの矩形を描く\n",
    "c1 = tk.Canvas(width = 150, height = 150)\n",
    "id = c1.create_rectangle(10,10,140,140, fill='yellow')\n",
    "c1.pack()\n",
    " \n",
    "root.mainloop()"
   ]
  },
  {
   "cell_type": "code",
   "execution_count": 24,
   "metadata": {},
   "outputs": [],
   "source": [
    "import tkinter as tk\n",
    "    \n",
    "root = tk.Tk()\n",
    "root.title(\"Canvas\")\n",
    " \n",
    "# 150x150のキャンバスの直線で「N 」を描く\n",
    "c1 = tk.Canvas(width = 150, height = 150)\n",
    "id = c1.create_line(10,140,10,10,140,140,140,10,)\n",
    "c1.pack()\n",
    " \n",
    "root.mainloop()"
   ]
  },
  {
   "cell_type": "markdown",
   "metadata": {},
   "source": [
    "<h2>Image</h2>"
   ]
  },
  {
   "cell_type": "code",
   "execution_count": 35,
   "metadata": {},
   "outputs": [
    {
     "ename": "TclError",
     "evalue": "couldn't recognize data in image file \"kawauso.jpg\"",
     "output_type": "error",
     "traceback": [
      "\u001b[1;31m---------------------------------------------------------------------------\u001b[0m",
      "\u001b[1;31mTclError\u001b[0m                                  Traceback (most recent call last)",
      "\u001b[1;32m<ipython-input-35-17c240869d64>\u001b[0m in \u001b[0;36m<module>\u001b[1;34m\u001b[0m\n\u001b[0;32m      8\u001b[0m \u001b[0mc1\u001b[0m\u001b[1;33m.\u001b[0m\u001b[0mpack\u001b[0m\u001b[1;33m(\u001b[0m\u001b[1;33m)\u001b[0m\u001b[1;33m\u001b[0m\u001b[1;33m\u001b[0m\u001b[0m\n\u001b[0;32m      9\u001b[0m \u001b[1;33m\u001b[0m\u001b[0m\n\u001b[1;32m---> 10\u001b[1;33m \u001b[0mimage_data\u001b[0m \u001b[1;33m=\u001b[0m \u001b[0mtk\u001b[0m\u001b[1;33m.\u001b[0m\u001b[0mPhotoImage\u001b[0m\u001b[1;33m(\u001b[0m\u001b[0mfile\u001b[0m \u001b[1;33m=\u001b[0m\u001b[1;34m'kawauso.jpg'\u001b[0m\u001b[1;33m,\u001b[0m\u001b[0mmaster\u001b[0m\u001b[1;33m=\u001b[0m\u001b[0mroot\u001b[0m\u001b[1;33m)\u001b[0m\u001b[1;33m\u001b[0m\u001b[1;33m\u001b[0m\u001b[0m\n\u001b[0m\u001b[0;32m     11\u001b[0m \u001b[0mid\u001b[0m \u001b[1;33m=\u001b[0m \u001b[0mc1\u001b[0m\u001b[1;33m.\u001b[0m\u001b[0mcreate_image\u001b[0m\u001b[1;33m(\u001b[0m\u001b[1;36m150\u001b[0m\u001b[1;33m,\u001b[0m\u001b[1;36m100\u001b[0m\u001b[1;33m,\u001b[0m \u001b[0mimage\u001b[0m\u001b[1;33m=\u001b[0m\u001b[0mimage_data\u001b[0m\u001b[1;33m)\u001b[0m\u001b[1;33m\u001b[0m\u001b[1;33m\u001b[0m\u001b[0m\n\u001b[0;32m     12\u001b[0m \u001b[1;33m\u001b[0m\u001b[0m\n",
      "\u001b[1;32m~\\Anaconda3\\envs\\py36\\lib\\tkinter\\__init__.py\u001b[0m in \u001b[0;36m__init__\u001b[1;34m(self, name, cnf, master, **kw)\u001b[0m\n\u001b[0;32m   3543\u001b[0m         \u001b[0mValid\u001b[0m \u001b[0mresource\u001b[0m \u001b[0mnames\u001b[0m\u001b[1;33m:\u001b[0m \u001b[0mdata\u001b[0m\u001b[1;33m,\u001b[0m \u001b[0mformat\u001b[0m\u001b[1;33m,\u001b[0m \u001b[0mfile\u001b[0m\u001b[1;33m,\u001b[0m \u001b[0mgamma\u001b[0m\u001b[1;33m,\u001b[0m \u001b[0mheight\u001b[0m\u001b[1;33m,\u001b[0m \u001b[0mpalette\u001b[0m\u001b[1;33m,\u001b[0m\u001b[1;33m\u001b[0m\u001b[1;33m\u001b[0m\u001b[0m\n\u001b[0;32m   3544\u001b[0m         width.\"\"\"\n\u001b[1;32m-> 3545\u001b[1;33m         \u001b[0mImage\u001b[0m\u001b[1;33m.\u001b[0m\u001b[0m__init__\u001b[0m\u001b[1;33m(\u001b[0m\u001b[0mself\u001b[0m\u001b[1;33m,\u001b[0m \u001b[1;34m'photo'\u001b[0m\u001b[1;33m,\u001b[0m \u001b[0mname\u001b[0m\u001b[1;33m,\u001b[0m \u001b[0mcnf\u001b[0m\u001b[1;33m,\u001b[0m \u001b[0mmaster\u001b[0m\u001b[1;33m,\u001b[0m \u001b[1;33m**\u001b[0m\u001b[0mkw\u001b[0m\u001b[1;33m)\u001b[0m\u001b[1;33m\u001b[0m\u001b[1;33m\u001b[0m\u001b[0m\n\u001b[0m\u001b[0;32m   3546\u001b[0m     \u001b[1;32mdef\u001b[0m \u001b[0mblank\u001b[0m\u001b[1;33m(\u001b[0m\u001b[0mself\u001b[0m\u001b[1;33m)\u001b[0m\u001b[1;33m:\u001b[0m\u001b[1;33m\u001b[0m\u001b[1;33m\u001b[0m\u001b[0m\n\u001b[0;32m   3547\u001b[0m         \u001b[1;34m\"\"\"Display a transparent image.\"\"\"\u001b[0m\u001b[1;33m\u001b[0m\u001b[1;33m\u001b[0m\u001b[0m\n",
      "\u001b[1;32m~\\Anaconda3\\envs\\py36\\lib\\tkinter\\__init__.py\u001b[0m in \u001b[0;36m__init__\u001b[1;34m(self, imgtype, name, cnf, master, **kw)\u001b[0m\n\u001b[0;32m   3499\u001b[0m                 \u001b[0mv\u001b[0m \u001b[1;33m=\u001b[0m \u001b[0mself\u001b[0m\u001b[1;33m.\u001b[0m\u001b[0m_register\u001b[0m\u001b[1;33m(\u001b[0m\u001b[0mv\u001b[0m\u001b[1;33m)\u001b[0m\u001b[1;33m\u001b[0m\u001b[1;33m\u001b[0m\u001b[0m\n\u001b[0;32m   3500\u001b[0m             \u001b[0moptions\u001b[0m \u001b[1;33m=\u001b[0m \u001b[0moptions\u001b[0m \u001b[1;33m+\u001b[0m \u001b[1;33m(\u001b[0m\u001b[1;34m'-'\u001b[0m\u001b[1;33m+\u001b[0m\u001b[0mk\u001b[0m\u001b[1;33m,\u001b[0m \u001b[0mv\u001b[0m\u001b[1;33m)\u001b[0m\u001b[1;33m\u001b[0m\u001b[1;33m\u001b[0m\u001b[0m\n\u001b[1;32m-> 3501\u001b[1;33m         \u001b[0mself\u001b[0m\u001b[1;33m.\u001b[0m\u001b[0mtk\u001b[0m\u001b[1;33m.\u001b[0m\u001b[0mcall\u001b[0m\u001b[1;33m(\u001b[0m\u001b[1;33m(\u001b[0m\u001b[1;34m'image'\u001b[0m\u001b[1;33m,\u001b[0m \u001b[1;34m'create'\u001b[0m\u001b[1;33m,\u001b[0m \u001b[0mimgtype\u001b[0m\u001b[1;33m,\u001b[0m \u001b[0mname\u001b[0m\u001b[1;33m,\u001b[0m\u001b[1;33m)\u001b[0m \u001b[1;33m+\u001b[0m \u001b[0moptions\u001b[0m\u001b[1;33m)\u001b[0m\u001b[1;33m\u001b[0m\u001b[1;33m\u001b[0m\u001b[0m\n\u001b[0m\u001b[0;32m   3502\u001b[0m         \u001b[0mself\u001b[0m\u001b[1;33m.\u001b[0m\u001b[0mname\u001b[0m \u001b[1;33m=\u001b[0m \u001b[0mname\u001b[0m\u001b[1;33m\u001b[0m\u001b[1;33m\u001b[0m\u001b[0m\n\u001b[0;32m   3503\u001b[0m     \u001b[1;32mdef\u001b[0m \u001b[0m__str__\u001b[0m\u001b[1;33m(\u001b[0m\u001b[0mself\u001b[0m\u001b[1;33m)\u001b[0m\u001b[1;33m:\u001b[0m \u001b[1;32mreturn\u001b[0m \u001b[0mself\u001b[0m\u001b[1;33m.\u001b[0m\u001b[0mname\u001b[0m\u001b[1;33m\u001b[0m\u001b[1;33m\u001b[0m\u001b[0m\n",
      "\u001b[1;31mTclError\u001b[0m: couldn't recognize data in image file \"kawauso.jpg\""
     ]
    }
   ],
   "source": [
    "import tkinter as tk\n",
    "    \n",
    "root = tk.Tk()\n",
    "root.title(\"Canvas\")\n",
    " \n",
    "# 300x200のキャンバスの中心にgif画像ファイルを表示する\n",
    "c1 = tk.Canvas(width = 300, height = 200)\n",
    "c1.pack()\n",
    " \n",
    "image_data = tk.PhotoImage(file ='kawauso.jpg',master=root)\n",
    "id = c1.create_image(150,100, image=image_data)\n",
    " \n",
    "root.mainloop()"
   ]
  },
  {
   "cell_type": "code",
   "execution_count": null,
   "metadata": {},
   "outputs": [],
   "source": []
  }
 ],
 "metadata": {
  "kernelspec": {
   "display_name": "Python 3",
   "language": "python",
   "name": "python3"
  },
  "language_info": {
   "codemirror_mode": {
    "name": "ipython",
    "version": 3
   },
   "file_extension": ".py",
   "mimetype": "text/x-python",
   "name": "python",
   "nbconvert_exporter": "python",
   "pygments_lexer": "ipython3",
   "version": "3.6.10"
  },
  "varInspector": {
   "cols": {
    "lenName": 16,
    "lenType": 16,
    "lenVar": 40
   },
   "kernels_config": {
    "python": {
     "delete_cmd_postfix": "",
     "delete_cmd_prefix": "del ",
     "library": "var_list.py",
     "varRefreshCmd": "print(var_dic_list())"
    },
    "r": {
     "delete_cmd_postfix": ") ",
     "delete_cmd_prefix": "rm(",
     "library": "var_list.r",
     "varRefreshCmd": "cat(var_dic_list()) "
    }
   },
   "types_to_exclude": [
    "module",
    "function",
    "builtin_function_or_method",
    "instance",
    "_Feature"
   ],
   "window_display": false
  }
 },
 "nbformat": 4,
 "nbformat_minor": 2
}
