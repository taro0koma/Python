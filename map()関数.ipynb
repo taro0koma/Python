{
 "cells": [
  {
   "cell_type": "code",
   "execution_count": null,
   "metadata": {},
   "outputs": [],
   "source": []
  },
  {
   "cell_type": "code",
   "execution_count": 3,
   "metadata": {},
   "outputs": [
    {
     "name": "stdout",
     "output_type": "stream",
     "text": [
      "<map object at 0x000001798A59BE48>\n",
      "[0, 1, 4, 9]\n"
     ]
    }
   ],
   "source": [
    "l=[0,1,2,3]\n",
    "map_square=map(lambda x:x**2,l)\n",
    "print(map_square)  # map()の戻り値はオブジェクトアドレス＝イテレータ（Python3から）list()関数を使ってlistを引き出す必要がある\n",
    "print(list(map_square))"
   ]
  },
  {
   "cell_type": "code",
   "execution_count": 8,
   "metadata": {},
   "outputs": [
    {
     "name": "stdout",
     "output_type": "stream",
     "text": [
      "<map object at 0x000001798BA65F98>\n",
      "[1, 2, 3]\n",
      "[1, 2, 3]\n"
     ]
    }
   ],
   "source": [
    "# split()関数で文字列をリスト化する　それをint()関数で処理する\n",
    "i=\"1 2 3\"\n",
    "print(map(int,i.split(\" \")))\n",
    "\n",
    "print(list(map(int,i.split(\" \"))))\n",
    "\n",
    "print([int(x) for x in i.split(\" \")])"
   ]
  },
  {
   "cell_type": "code",
   "execution_count": 9,
   "metadata": {},
   "outputs": [
    {
     "name": "stdout",
     "output_type": "stream",
     "text": [
      "[[1, 2, 3], [4, 5, 6], [7, 8, 9]]\n"
     ]
    }
   ],
   "source": [
    "# split()関数で文字列をリスト化する　それをint()関数で処理する\n",
    "i2=[\"1 2 3\",\"4 5 6\",\"7 8 9\"]\n",
    "input_array=[]\n",
    "for data in i2:\n",
    "    input_array.append(list(map(int,data.split(\" \"))))\n",
    "    # リスト内包表記\n",
    "    # input_array.append([int(x) for x in data.split(\" \")])\n",
    "\n",
    "print(input_array)"
   ]
  }
 ],
 "metadata": {
  "kernelspec": {
   "display_name": "Python 3",
   "language": "python",
   "name": "python3"
  },
  "language_info": {
   "codemirror_mode": {
    "name": "ipython",
    "version": 3
   },
   "file_extension": ".py",
   "mimetype": "text/x-python",
   "name": "python",
   "nbconvert_exporter": "python",
   "pygments_lexer": "ipython3",
   "version": "3.6.10"
  },
  "toc": {
   "base_numbering": 1,
   "nav_menu": {},
   "number_sections": true,
   "sideBar": true,
   "skip_h1_title": false,
   "title_cell": "Table of Contents",
   "title_sidebar": "Contents",
   "toc_cell": false,
   "toc_position": {},
   "toc_section_display": true,
   "toc_window_display": false
  },
  "varInspector": {
   "cols": {
    "lenName": 16,
    "lenType": 16,
    "lenVar": 40
   },
   "kernels_config": {
    "python": {
     "delete_cmd_postfix": "",
     "delete_cmd_prefix": "del ",
     "library": "var_list.py",
     "varRefreshCmd": "print(var_dic_list())"
    },
    "r": {
     "delete_cmd_postfix": ") ",
     "delete_cmd_prefix": "rm(",
     "library": "var_list.r",
     "varRefreshCmd": "cat(var_dic_list()) "
    }
   },
   "types_to_exclude": [
    "module",
    "function",
    "builtin_function_or_method",
    "instance",
    "_Feature"
   ],
   "window_display": false
  }
 },
 "nbformat": 4,
 "nbformat_minor": 4
}
