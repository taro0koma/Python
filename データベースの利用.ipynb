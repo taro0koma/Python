{
 "cells": [
  {
   "cell_type": "code",
   "execution_count": null,
   "metadata": {},
   "outputs": [],
   "source": []
  },
  {
   "cell_type": "code",
   "execution_count": 4,
   "metadata": {},
   "outputs": [
    {
     "name": "stdout",
     "output_type": "stream",
     "text": [
      "鉛筆:80\n",
      "消しゴム:50\n",
      "定規:200\n",
      "コンパス:300\n",
      "ボールペン:100\n"
     ]
    }
   ],
   "source": [
    "import sqlite3\n",
    "conn=sqlite3.connect(\"pdb.db\")\n",
    "c=conn.cursor()\n",
    "c.execute(\"DROP TABLE IF EXISTS product\")\n",
    "c.execute(\"CREATE TABLE product(name CHAR(20),price INT)\")\n",
    "c.execute(\"INSERT INTO product VALUES('鉛筆',80)\")\n",
    "c.execute(\"INSERT INTO product VALUES('消しゴム',50)\")\n",
    "c.execute(\"INSERT INTO product VALUES('定規',200)\")\n",
    "c.execute(\"INSERT INTO product VALUES('コンパス',300)\")\n",
    "c.execute(\"INSERT INTO product VALUES('ボールペン',100)\")\n",
    "conn.commit()\n",
    "itr=c.execute(\"SELECT * FROM product\")\n",
    "for name,value in itr:\n",
    "    print(\"{}:{}\".format(name,value))\n",
    "conn.close()"
   ]
  },
  {
   "cell_type": "code",
   "execution_count": 3,
   "metadata": {},
   "outputs": [
    {
     "name": "stdout",
     "output_type": "stream",
     "text": [
      "('定規', 200)\n",
      "('コンパス', 300)\n"
     ]
    }
   ],
   "source": [
    "import sqlite3\n",
    "conn=sqlite3.connect(\"pdb.db\")\n",
    "c=conn.cursor()\n",
    "itr=c.execute(\"SELECT * FROM product WHERE price>=200\")\n",
    "for row in itr:\n",
    "    print(row)\n",
    "conn.close()\n"
   ]
  },
  {
   "cell_type": "code",
   "execution_count": 4,
   "metadata": {},
   "outputs": [
    {
     "name": "stdout",
     "output_type": "stream",
     "text": [
      "('鉛筆', 80)\n"
     ]
    }
   ],
   "source": [
    "import sqlite3\n",
    "conn=sqlite3.connect(\"pdb.db\")\n",
    "c=conn.cursor()\n",
    "itr=c.execute(\"SELECT*FROM product WHERE name='鉛筆'\")\n",
    "for row in itr:\n",
    "    print(row)\n",
    "conn.close()"
   ]
  },
  {
   "cell_type": "code",
   "execution_count": 5,
   "metadata": {},
   "outputs": [
    {
     "name": "stdout",
     "output_type": "stream",
     "text": [
      "('コンパス', 300)\n",
      "('ボールペン', 100)\n"
     ]
    }
   ],
   "source": [
    "import sqlite3\n",
    "conn=sqlite3.connect(\"pdb.db\")\n",
    "c=conn.cursor()\n",
    "itr=c.execute(\"SELECT*FROM product WHERE name LIKE '%ン%'\")\n",
    "for row in itr:\n",
    "    print(row)\n",
    "conn.close()"
   ]
  },
  {
   "cell_type": "code",
   "execution_count": 6,
   "metadata": {},
   "outputs": [
    {
     "name": "stdout",
     "output_type": "stream",
     "text": [
      "('コンパス', 300)\n",
      "('定規', 200)\n",
      "('ボールペン', 100)\n",
      "('鉛筆', 80)\n",
      "('消しゴム', 50)\n"
     ]
    }
   ],
   "source": [
    "import sqlite3\n",
    "conn=sqlite3.connect(\"pdb.db\")\n",
    "c=conn.cursor()\n",
    "itr=c.execute(\"SELECT*FROM product ORDER BY price DESC\")\n",
    "for row in itr:\n",
    "    print(row)\n",
    "conn.close()"
   ]
  },
  {
   "cell_type": "code",
   "execution_count": null,
   "metadata": {},
   "outputs": [],
   "source": [
    "# create table tbl1(one varchar(10),two smallint);\n",
    "# insert into tbl1 values('hello',10);\n",
    "# insert into tbl1 values('goodbye',20);\n",
    "# select * from tbl1;\n",
    "\n",
    "# create table tbl2(\n",
    "# f1 varchar(30) primary key,\n",
    "# f2 text,\n",
    "# f3 real  # 浮動小数点\n",
    "# );"
   ]
  },
  {
   "cell_type": "code",
   "execution_count": 15,
   "metadata": {},
   "outputs": [
    {
     "name": "stdout",
     "output_type": "stream",
     "text": [
      "('みかん', 80)\n",
      "('いちご', 60)\n",
      "('りんご', 22)\n",
      "('もも', 50)\n",
      "('くり', 75)\n"
     ]
    }
   ],
   "source": [
    "import sqlite3\n",
    "conn=sqlite3.connect(\"pdb.db\")\n",
    "c=conn.cursor()\n",
    "c.execute(\"drop table if exists product2\")\n",
    "c.execute(\"create table product2(name char(20),num int)\")\n",
    "\n",
    "fruits={\"みかん\":80,\"いちご\":60,\"りんご\":22,\"もも\":50,\"くり\":75}\n",
    "\n",
    "for f,num in fruits.items():\n",
    "    line=\"insert into product2 values('{:s}',{:d})\".format(f,num)\n",
    "    c.execute(line)\n",
    "\n",
    "conn.commit()\n",
    "itr=c.execute(\"select*from product2\")\n",
    "for row in itr:\n",
    "    print(row)\n",
    "conn.close()"
   ]
  },
  {
   "cell_type": "code",
   "execution_count": 19,
   "metadata": {},
   "outputs": [
    {
     "name": "stdout",
     "output_type": "stream",
     "text": [
      "('りんご', 22)\n"
     ]
    }
   ],
   "source": [
    "import sqlite3\n",
    "conn=sqlite3.connect(\"pdb.db\")\n",
    "c=conn.cursor()\n",
    "c.execute(\"drop table if exists product3\")\n",
    "c.execute(\"create table product3(name char(20),num int)\")\n",
    "\n",
    "fruits={\"みかん\":80,\"いちご\":60,\"りんご\":22,\"もも\":50,\"くり\":75}\n",
    "\n",
    "for f,num in fruits.items():\n",
    "    line=\"insert into product3 values('{:s}',{:d})\".format(f,num)\n",
    "    c.execute(line)\n",
    "\n",
    "conn.commit()\n",
    "itr=c.execute(\"select*from product3 where num<=30\")\n",
    "for row in itr:\n",
    "    print(row)\n",
    "conn.close()\n"
   ]
  },
  {
   "cell_type": "code",
   "execution_count": 22,
   "metadata": {},
   "outputs": [
    {
     "name": "stdout",
     "output_type": "stream",
     "text": [
      "('りんご', 22)\n",
      "('もも', 50)\n"
     ]
    }
   ],
   "source": [
    "import sqlite3\n",
    "conn=sqlite3.connect(\"pdb.db\")\n",
    "c=conn.cursor()\n",
    "c.execute(\"drop table if exists product3\")\n",
    "c.execute(\"create table product3(name char(20),num int)\")\n",
    "\n",
    "fruits={\"みかん\":80,\"いちご\":60,\"りんご\":22,\"もも\":50,\"くり\":75}\n",
    "\n",
    "for f,num in fruits.items():\n",
    "    line=\"insert into product3 values('{:s}',{:d})\".format(f,num)\n",
    "    c.execute(line)\n",
    "\n",
    "conn.commit()\n",
    "lst=tuple(c.execute(\"select*from product3 where num<=50\"))  # イテラブル要素が戻り値なのでタプル化しておく\n",
    "for row in lst:\n",
    "    print(row)\n",
    "conn.close()"
   ]
  },
  {
   "cell_type": "code",
   "execution_count": 29,
   "metadata": {},
   "outputs": [
    {
     "name": "stdout",
     "output_type": "stream",
     "text": [
      "(1, 'Taro', 20, 'male')\n",
      "(2, 'Shota', 54, 'male')\n",
      "(3, 'Nana', 40, 'female')\n",
      "(4, 'Tooru', 78, 'male')\n",
      "(5, 'Saki', 31, 'female')\n"
     ]
    }
   ],
   "source": [
    "import sqlite3\n",
    "from contextlib import closing\n",
    "\n",
    "dbname=\"pdb.db\"\n",
    "\n",
    "with closing(sqlite3.connect(dbname)) as conn:\n",
    "    c=conn.cursor()\n",
    "    c.execute(\"drop table if exists users\")\n",
    "    create_table=\"\"\"create table users( id integer primary key autoincrement,name varchar(64),\n",
    "                    age int,gender varchar(32))\"\"\"\n",
    "    c.execute(create_table)\n",
    "    \n",
    "    sql=\"insert into users (name,age,gender) values(?,?,?)\"\n",
    "    user=(\"Taro\",20,\"male\")\n",
    "    c.execute(sql,user)\n",
    "    \n",
    "    sql=\"insert into users (name,age,gender) values(?,?,?)\"\n",
    "    users = [\n",
    "        ('Shota', 54, 'male'),\n",
    "        ('Nana', 40, 'female'),\n",
    "        ('Tooru', 78, 'male'),\n",
    "        ('Saki', 31, 'female')\n",
    "    ]\n",
    "    c.executemany(sql,users)\n",
    "    \n",
    "    conn.commit()\n",
    "    \n",
    "    select_sql=\"select*from users\"\n",
    "    for row in c.execute(select_sql):\n",
    "        print(row)\n",
    "    \n",
    "    "
   ]
  },
  {
   "cell_type": "code",
   "execution_count": null,
   "metadata": {},
   "outputs": [],
   "source": [
    "import sqlite3\n",
    "import csv\n",
    "import gzip\n",
    "conn=sqlite3.connect(\"honya.db\")\n",
    "conn.text_factory=str\n",
    "csr=conn.cursor()\n",
    "keys=(\n",
    "'id',\n",
    "'title',\n",
    "'data',\n",
    "'article'\n",
    ")\n",
    "\n",
    "with gzip.open(\"honya.csv.gz\",'rU') as f:\n",
    "    reader=csv.reader(f,delimiter=\"\\t\")\n",
    "    for row in reader:\n",
    "        if len(row)==len(key):\n",
    "            d=dict(zip(keys,row))\n",
    "            csr.execute('insert into tracks (id,title,date,article) values(:id,:title,:date,:article)' , d)\n",
    "            conn.commit()"
   ]
  },
  {
   "cell_type": "code",
   "execution_count": null,
   "metadata": {},
   "outputs": [],
   "source": []
  },
  {
   "cell_type": "code",
   "execution_count": null,
   "metadata": {},
   "outputs": [],
   "source": []
  },
  {
   "cell_type": "code",
   "execution_count": null,
   "metadata": {},
   "outputs": [],
   "source": []
  }
 ],
 "metadata": {
  "kernelspec": {
   "display_name": "Python 3",
   "language": "python",
   "name": "python3"
  },
  "language_info": {
   "codemirror_mode": {
    "name": "ipython",
    "version": 3
   },
   "file_extension": ".py",
   "mimetype": "text/x-python",
   "name": "python",
   "nbconvert_exporter": "python",
   "pygments_lexer": "ipython3",
   "version": "3.6.10"
  },
  "toc": {
   "base_numbering": 1,
   "nav_menu": {},
   "number_sections": true,
   "sideBar": true,
   "skip_h1_title": false,
   "title_cell": "Table of Contents",
   "title_sidebar": "Contents",
   "toc_cell": false,
   "toc_position": {},
   "toc_section_display": true,
   "toc_window_display": false
  },
  "varInspector": {
   "cols": {
    "lenName": 16,
    "lenType": 16,
    "lenVar": 40
   },
   "kernels_config": {
    "python": {
     "delete_cmd_postfix": "",
     "delete_cmd_prefix": "del ",
     "library": "var_list.py",
     "varRefreshCmd": "print(var_dic_list())"
    },
    "r": {
     "delete_cmd_postfix": ") ",
     "delete_cmd_prefix": "rm(",
     "library": "var_list.r",
     "varRefreshCmd": "cat(var_dic_list()) "
    }
   },
   "types_to_exclude": [
    "module",
    "function",
    "builtin_function_or_method",
    "instance",
    "_Feature"
   ],
   "window_display": false
  }
 },
 "nbformat": 4,
 "nbformat_minor": 4
}
