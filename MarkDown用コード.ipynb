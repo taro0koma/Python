{
 "cells": [
  {
   "cell_type": "markdown",
   "metadata": {},
   "source": [
    "<h1>h1の文字が出てくると嬉しい</h1>\n",
    "<hr />\n",
    "<h2>h2の文字はでてくるだろう</h2>\n",
    "<ul>\n",
    "<li>リスト1</li>\n",
    "<li>リスト2</li>\n",
    "<li>リスト3</li>\n",
    "</ul>\n",
    "<blockquote>\n",
    "<p>引用してくれ</p>\n",
    "</blockquote>\n",
    "<p>本文で <strong>太字にもなるし</strong>、<em>斜体にもなるはず</em> 。</p>\n",
    "<p><code>まさかコードも入れられるんですか？\n",
    "if (!lie) {\n",
    "    return true;\n",
    "}</code></p>\n",
    "<table>\n",
    "<thead>\n",
    "<tr>\n",
    "<th align=\"left\">header1</th>\n",
    "<th align=\"right\">header2</th>\n",
    "<th align=\"center\">header3</th>\n",
    "</tr>\n",
    "</thead>\n",
    "<tbody>\n",
    "<tr>\n",
    "<td align=\"left\">左寄せ</td>\n",
    "<td align=\"right\">右寄せ</td>\n",
    "<td align=\"center\">中央寄せ</td>\n",
    "</tr>\n",
    "</tbody>\n",
    "</table>\n",
    "<p>すごい！</p>"
   ]
  },
  {
   "cell_type": "code",
   "execution_count": null,
   "metadata": {},
   "outputs": [],
   "source": []
  }
 ],
 "metadata": {
  "kernelspec": {
   "display_name": "Python 3",
   "language": "python",
   "name": "python3"
  },
  "language_info": {
   "codemirror_mode": {
    "name": "ipython",
    "version": 3
   },
   "file_extension": ".py",
   "mimetype": "text/x-python",
   "name": "python",
   "nbconvert_exporter": "python",
   "pygments_lexer": "ipython3",
   "version": "3.6.10"
  },
  "toc": {
   "base_numbering": 1,
   "nav_menu": {},
   "number_sections": true,
   "sideBar": true,
   "skip_h1_title": false,
   "title_cell": "Table of Contents",
   "title_sidebar": "Contents",
   "toc_cell": false,
   "toc_position": {},
   "toc_section_display": true,
   "toc_window_display": false
  }
 },
 "nbformat": 4,
 "nbformat_minor": 4
}
