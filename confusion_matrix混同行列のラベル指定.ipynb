{
 "cells": [
  {
   "cell_type": "code",
   "execution_count": 4,
   "metadata": {},
   "outputs": [
    {
     "name": "stdout",
     "output_type": "stream",
     "text": [
      "[[1 4]\n",
      " [3 2]]\n",
      "<class 'numpy.ndarray'>\n",
      "[[1 4]\n",
      " [3 2]]\n",
      "<class 'numpy.ndarray'>\n",
      "[[2 3]\n",
      " [4 1]]\n"
     ]
    }
   ],
   "source": [
    "from sklearn.metrics import confusion_matrix\n",
    "y_test=[0,0,0,0,0,1,1,1,1,1]\n",
    "y_pred=[0,1,1,1,1,0,0,0,1,1]\n",
    "# confusion_matrixで予想と正解を比較する\n",
    "#　２＊２の行列で結果を返す\n",
    "#　自動的に昇順比較になる\n",
    "cm=confusion_matrix(y_test,y_pred)\n",
    "print(cm)\n",
    "print(type(cm))\n",
    "\n",
    "y_test=[1,1,1,1,1,0,0,0,0,0]\n",
    "y_pred=[1,1,0,0,0,1,1,1,1,0]\n",
    "cm=confusion_matrix(y_test,y_pred)\n",
    "print(cm)\n",
    "print(type(cm))\n",
    "\n",
    "# ただし、confusion_matrixにラベルをつけるとPositive/Negativeの指定ができる\n",
    "# ( , , labels=[1,0])\n",
    "cm=confusion_matrix(y_test,y_pred,labels=[1,0])\n",
    "print(cm)"
   ]
  }
 ],
 "metadata": {
  "kernelspec": {
   "display_name": "Python 3",
   "language": "python",
   "name": "python3"
  },
  "language_info": {
   "codemirror_mode": {
    "name": "ipython",
    "version": 3
   },
   "file_extension": ".py",
   "mimetype": "text/x-python",
   "name": "python",
   "nbconvert_exporter": "python",
   "pygments_lexer": "ipython3",
   "version": "3.6.10"
  },
  "varInspector": {
   "cols": {
    "lenName": 16,
    "lenType": 16,
    "lenVar": 40
   },
   "kernels_config": {
    "python": {
     "delete_cmd_postfix": "",
     "delete_cmd_prefix": "del ",
     "library": "var_list.py",
     "varRefreshCmd": "print(var_dic_list())"
    },
    "r": {
     "delete_cmd_postfix": ") ",
     "delete_cmd_prefix": "rm(",
     "library": "var_list.r",
     "varRefreshCmd": "cat(var_dic_list()) "
    }
   },
   "types_to_exclude": [
    "module",
    "function",
    "builtin_function_or_method",
    "instance",
    "_Feature"
   ],
   "window_display": false
  }
 },
 "nbformat": 4,
 "nbformat_minor": 4
}
