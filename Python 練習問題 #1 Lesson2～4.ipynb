{
 "cells": [
  {
   "cell_type": "code",
   "execution_count": 3,
   "metadata": {},
   "outputs": [
    {
     "name": "stdout",
     "output_type": "stream",
     "text": [
      "身長を入力してください：180\n",
      "身長： 180.0 cm\n",
      "標準体重： 71.28 kg\n"
     ]
    }
   ],
   "source": [
    "# 身長(cm)を入力してください: 180\n",
    "# 身長:  180.0 cm\n",
    "# 標準体重:  71.28 kg\n",
    "\n",
    "height=float(input(\"身長を入力してください：\"))\n",
    "bmi=22\n",
    "# 標準体重 = bmi x 身長(m)^2\n",
    "weight=bmi * (height/100)**2\n",
    "print(\"身長：\",height,\"cm\")\n",
    "print(\"標準体重：\",weight,\"kg\")"
   ]
  },
  {
   "cell_type": "code",
   "execution_count": 9,
   "metadata": {},
   "outputs": [
    {
     "name": "stdout",
     "output_type": "stream",
     "text": [
      "月の数値(1～12)を入力してください: 11\n",
      "秋\n"
     ]
    }
   ],
   "source": [
    "# 月の数値(1～12)を入力し数値の対応する季節（春、夏、秋、冬）を出力するプログラムを作成してください。\n",
    "# 12～2が入力されたら：冬\n",
    "# 3～5が入力されたら：春\n",
    "# 6～8が入力されたら：夏\n",
    "# 9～11が入力されたら：秋\n",
    "\n",
    "month = int(input(\"月の数値(1～12)を入力してください: \"))\n",
    "\n",
    "if (month == 12) or (month == 1) or (month == 2):\n",
    "    print(\"冬\")\n",
    "\n",
    "elif (month >= 3) and (month <= 5):\n",
    "    print(\"春\")\n",
    "\n",
    "elif (month >= 6) and (month <= 8):\n",
    "    print(\"夏\")\n",
    "\n",
    "elif (month >= 9) and (month <= 11):\n",
    "    print(\"秋\")\n",
    "\n",
    "else:\n",
    "    print(\"1～12の数値を入力してください。\")"
   ]
  },
  {
   "cell_type": "code",
   "execution_count": 11,
   "metadata": {},
   "outputs": [
    {
     "name": "stdout",
     "output_type": "stream",
     "text": [
      "2以上の整数を入力してください: 10\n",
      "10 は素数ではありません。\n"
     ]
    }
   ],
   "source": [
    "# キーボードから数値を入力させ、その数値が素数（１またはその数以外で割り切れない数）であるかどうかを\n",
    "# 判断するコードをwhile文を使って記述してください。\n",
    "\n",
    "num = int(input(\"2以上の整数を入力してください: \"))\n",
    "i = 2\n",
    "while True:\n",
    "    if(i == num):\n",
    "        print(num, \"は素数です。\")\n",
    "        break\n",
    "    elif(num % i == 0):\n",
    "        print(num, \"は素数ではありません。\")\n",
    "        break\n",
    "    i += 1"
   ]
  },
  {
   "cell_type": "code",
   "execution_count": 16,
   "metadata": {},
   "outputs": [
    {
     "name": "stdout",
     "output_type": "stream",
     "text": [
      "2以上の整数を入力してください: 1000000000000000000000000000003\n",
      "1000000000000000000000000000003 は素数ではありません。\n"
     ]
    }
   ],
   "source": [
    "num = int(input(\"2以上の整数を入力してください: \"))\n",
    "i=2\n",
    "prime_number = True\n",
    "while i != num :\n",
    "    if num % i == 0:\n",
    "        prime_number = False \n",
    "        break   \n",
    "    i += 1  # for i in range()\n",
    "result = \"は素数です。\" if prime_number else \"は素数ではありません。\"  # 比較演算子\n",
    "print(num, result)"
   ]
  },
  {
   "cell_type": "code",
   "execution_count": 17,
   "metadata": {},
   "outputs": [
    {
     "name": "stdout",
     "output_type": "stream",
     "text": [
      "1600  1604  1608  1612  1616  1620  1624  1628  1632  1636  1640  1644  1648  1652  1656  1660  1664  1668  1672  1676  1680  1684  1688  1692  1696  1704  1708  1712  1716  1720  1724  1728  1732  1736  1740  1744  1748  1752  1756  1760  1764  1768  1772  1776  1780  1784  1788  1792  1796  1804  1808  1812  1816  1820  1824  1828  1832  1836  1840  1844  1848  1852  1856  1860  1864  1868  1872  1876  1880  1884  1888  1892  1896  1904  1908  1912  1916  1920  1924  1928  1932  1936  1940  1944  1948  1952  1956  1960  1964  1968  1972  1976  1980  1984  1988  1992  1996  2000  2004  2008  2012  2016  2020  "
     ]
    }
   ],
   "source": [
    "# 1600年から2020年のうるう年を表示するプログラムを作成してください。\n",
    "# うるう年の判断\n",
    "# 西暦の年が4で割り切れ、かつ、100で割り切れない年はうるう年\n",
    "# ただし400で割り切れる年はうるう年\n",
    "\n",
    "for year in range(1600, 2021):\n",
    "\n",
    "    if (year % 4 == 0) and (year % 100 != 0) or (year % 400 == 0):\n",
    "\n",
    "        print(year, \" \", end=\"\")"
   ]
  },
  {
   "cell_type": "code",
   "execution_count": 19,
   "metadata": {},
   "outputs": [
    {
     "name": "stdout",
     "output_type": "stream",
     "text": [
      "Input number: 5\n",
      "----+----+----+----+----+----\n",
      "    * \n",
      "   * * \n",
      "  * * * \n",
      " * * * * \n",
      "* * * * * \n"
     ]
    }
   ],
   "source": [
    "# 入力で指定された行数の３角数（ボウリングのピンの並び）図形を出力するプログラムを作成してください。\n",
    "\n",
    "m = int(input(\"Input number: \"))  # 5\n",
    "print(\"----+----+----+----+----+----\") \n",
    "n = m-1  # 5-1 = 4\n",
    "for i in range(n):  # 0～3 の4回\n",
    "    for j in range(n-i):  # 4-0 = 4 よって 0～4\n",
    "        print(\" \", end=\"\")  # 4回半角スペース\n",
    "        \n",
    "    for k in range(n-j):  # 4-3 = 1\n",
    "        print(\"* \", end=\"\") \n",
    "    print()\n",
    " \n",
    "print(\"* \"* m)  # for文を抜けたあとおまけの一行"
   ]
  },
  {
   "cell_type": "code",
   "execution_count": 20,
   "metadata": {},
   "outputs": [
    {
     "name": "stdout",
     "output_type": "stream",
     "text": [
      "Input number: 5\n",
      "----+----+----\n",
      "    * \n",
      "   * * \n",
      "  * * * \n",
      " * * * * \n",
      "* * * * * \n"
     ]
    }
   ],
   "source": [
    "n = int(input(\"Input number: \")) \n",
    "print(\"----+----+----\") \n",
    "for i in range(n): \n",
    "     i+=1 \n",
    "     print(\" \"*(n-i) ,end=\"\") \n",
    "     print(\"* \" * i)"
   ]
  },
  {
   "cell_type": "markdown",
   "metadata": {},
   "source": [
    "# whileの練習"
   ]
  },
  {
   "cell_type": "code",
   "execution_count": 22,
   "metadata": {},
   "outputs": [
    {
     "name": "stdout",
     "output_type": "stream",
     "text": [
      "Start\n",
      "num = 1\n",
      "num = 2\n",
      "num = 3\n",
      "num = 4\n",
      "num = 5\n",
      "End\n"
     ]
    }
   ],
   "source": [
    "num = 1\n",
    "print(\"Start\")\n",
    "\n",
    "while num < 6:\n",
    "    print(\"num = \"+ str(num))\n",
    "    num+=1\n",
    "print(\"End\")"
   ]
  },
  {
   "cell_type": "code",
   "execution_count": 23,
   "metadata": {},
   "outputs": [
    {
     "name": "stdout",
     "output_type": "stream",
     "text": [
      "Start\n",
      "num = 1\n",
      "num = 2\n",
      "num = 3\n",
      "num = 4\n",
      "num = 5\n",
      "Total = 15\n",
      "End\n"
     ]
    }
   ],
   "source": [
    "num=1\n",
    "total=0\n",
    "print(\"Start\")\n",
    "\n",
    "while num<6:\n",
    "    print(\"num = \" + str(num))\n",
    "    total += num\n",
    "    num+=1\n",
    "else:\n",
    "    print(\"Total = \" + str(total))\n",
    "print(\"End\")"
   ]
  },
  {
   "cell_type": "code",
   "execution_count": 26,
   "metadata": {},
   "outputs": [
    {
     "name": "stdout",
     "output_type": "stream",
     "text": [
      "2020-02-10 15:27:59.466907\n"
     ]
    }
   ],
   "source": [
    "import datetime as dt\n",
    "print(dt.datetime.now())"
   ]
  },
  {
   "cell_type": "code",
   "execution_count": null,
   "metadata": {},
   "outputs": [],
   "source": []
  }
 ],
 "metadata": {
  "kernelspec": {
   "display_name": "Python 3",
   "language": "python",
   "name": "python3"
  },
  "language_info": {
   "codemirror_mode": {
    "name": "ipython",
    "version": 3
   },
   "file_extension": ".py",
   "mimetype": "text/x-python",
   "name": "python",
   "nbconvert_exporter": "python",
   "pygments_lexer": "ipython3",
   "version": "3.6.10"
  },
  "toc": {
   "base_numbering": 1,
   "nav_menu": {},
   "number_sections": true,
   "sideBar": true,
   "skip_h1_title": false,
   "title_cell": "Table of Contents",
   "title_sidebar": "Contents",
   "toc_cell": false,
   "toc_position": {},
   "toc_section_display": true,
   "toc_window_display": false
  }
 },
 "nbformat": 4,
 "nbformat_minor": 4
}
