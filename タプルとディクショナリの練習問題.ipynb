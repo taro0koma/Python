{
 "cells": [
  {
   "cell_type": "code",
   "execution_count": null,
   "metadata": {},
   "outputs": [],
   "source": [
    "fruits = [\"Apple\",\"Banana\",\"Grape\",\"Orange\",\"Peach\"]\n",
    "for n, fruit in enumerate(fruits):  # enumerate(fruits)を二つのローカル変数(n,fruit)に別個代入　アンパック\n",
    "    print(str(n)+\":\", fruit)\n",
    " "
   ]
  },
  {
   "cell_type": "code",
   "execution_count": null,
   "metadata": {},
   "outputs": [],
   "source": [
    "weekday_en = [\"Sun\",\"Mon\",\"Tue\",\"Wed\",\"Thu\",\"Fri\",\"Sat\"]\n",
    "weekday_ja = [\"日\",\"月\",\"火\",\"水\",\"木\",\"金\",\"土\"]\n",
    " \n",
    "for en, ja in zip(weekday_en, weekday_ja):\n",
    "    print(en,\":\",ja)\n",
    " "
   ]
  },
  {
   "cell_type": "code",
   "execution_count": null,
   "metadata": {},
   "outputs": [],
   "source": [
    "lang = {\"Python\":45, \"C\":14, \"Swift\":40, \"JavaScript\":40, \"Java\": 44}\n",
    " \n",
    "for l, n, in lang.items():  # ディクショナリのキーと値をアンパックして２か所に代入する\n",
    " \n",
    "    print(l,\"の利用人数は\",n,\"人\")"
   ]
  },
  {
   "cell_type": "code",
   "execution_count": null,
   "metadata": {},
   "outputs": [],
   "source": [
    " customers = [(\"田中一郎\", 25), (\"山田太郎\", 23), (\"佐藤花子\", 15),\n",
    "(\"稲垣五朗\", 33), (\"小林直子\", 26), (\"大木まこと\", 18)]\n",
    "    \n",
    "names = [c[0] for c in customers if c[1] >= 20]  # customersの一次元要素をcとし、c内要素をインデックスごとに書き出す\n",
    " \n",
    "print(names)\n",
    " "
   ]
  },
  {
   "cell_type": "code",
   "execution_count": null,
   "metadata": {},
   "outputs": [],
   "source": [
    "answer = [\"京都\", \"北海道\", \"沖縄\", \"博多\", \"北海道\", \"大阪\",\n",
    "\"京都\", \"京都\",\"大阪\", \"京都\", \"京都\", \"大阪\", \"京都\",\n",
    "\"京都\", \"博多\", \"沖縄\",\"沖縄\", \"博多\", \"沖縄\", \"博多\",\n",
    "\"沖縄\", \"北海道\", \"北海道\", \"沖縄\", \"沖縄\", \"北海道\", \"博多\",\n",
    "\"北海道\", \"沖縄\", \"北海道\", \"大阪\", \"北海道\", \"博多\", \"博多\",\n",
    "\"北海道\", \"北海道\", \"北海道\",\"沖縄\", \"沖縄\", \"京都\"]\n",
    " \n",
    "# 空のディクショナリを用意\n",
    "results = { }\n",
    " \n",
    "# 辞書resultsに国と得票数を格納する\n",
    "for region in answer:\n",
    " \n",
    "    if region in results:\n",
    " \n",
    "        results[region] += 1\n",
    " \n",
    "    else:\n",
    " \n",
    "        results[region] = 1\n",
    " \n",
    "# 結果を表示する\n",
    "print(results)\n",
    " \n",
    "for region, num in results.items():\n",
    " \n",
    "    print(region,\":\",num)"
   ]
  },
  {
   "cell_type": "code",
   "execution_count": null,
   "metadata": {},
   "outputs": [],
   "source": [
    "answer = [\"京都\", \"北海道\", \"沖縄\", \"博多\", \"北海道\", \"大阪\",\n",
    "\"京都\", \"京都\",\"大阪\", \"京都\", \"京都\", \"大阪\", \"京都\",\n",
    "\"京都\", \"博多\", \"沖縄\",\"沖縄\", \"博多\", \"沖縄\", \"博多\",\n",
    "\"沖縄\", \"北海道\", \"北海道\", \"沖縄\", \"沖縄\", \"北海道\", \"博多\",\n",
    "\"北海道\", \"沖縄\", \"北海道\", \"大阪\", \"北海道\", \"博多\", \"博多\",\n",
    "\"北海道\", \"北海道\", \"北海道\",\"沖縄\", \"沖縄\", \"京都\",]\n",
    " \n",
    "results = { region:answer.count(region) for region in set(answer) }\n",
    " \n",
    "print(results)\n",
    " \n",
    "for region, num in results.items():\n",
    " \n",
    "    print(region,\":\",num)"
   ]
  },
  {
   "cell_type": "code",
   "execution_count": null,
   "metadata": {},
   "outputs": [],
   "source": [
    "# 空の辞書を定義\n",
    "janken = {}\n",
    "while True:\n",
    "    goo_chyoki_pa = input(\"goo,chyoki,pa を入力してください。終了は q : \")\n",
    "    if goo_chyoki_pa == 'q':\n",
    "        print(\"じゃんけん終了\")\n",
    "        break\n",
    "    if goo_chyoki_pa not in [\"goo\",\"chyoki\",\"pa\"]:\n",
    "        continue\n",
    "    # 辞書内にkeyが存在すればvalueを+1,存在しなければ、要素（key:1）を追加\n",
    "    if goo_chyoki_pa in janken:\n",
    "        janken[goo_chyoki_pa] += 1\n",
    "    else:\n",
    "        janken[goo_chyoki_pa] = 1\n",
    "    \n",
    "    print(janken)"
   ]
  },
  {
   "cell_type": "code",
   "execution_count": null,
   "metadata": {},
   "outputs": [],
   "source": []
  },
  {
   "cell_type": "code",
   "execution_count": null,
   "metadata": {},
   "outputs": [],
   "source": []
  }
 ],
 "metadata": {
  "kernelspec": {
   "display_name": "Python 3",
   "language": "python",
   "name": "python3"
  },
  "language_info": {
   "codemirror_mode": {
    "name": "ipython",
    "version": 3
   },
   "file_extension": ".py",
   "mimetype": "text/x-python",
   "name": "python",
   "nbconvert_exporter": "python",
   "pygments_lexer": "ipython3",
   "version": "3.6.10"
  },
  "toc": {
   "base_numbering": 1,
   "nav_menu": {},
   "number_sections": true,
   "sideBar": true,
   "skip_h1_title": false,
   "title_cell": "Table of Contents",
   "title_sidebar": "Contents",
   "toc_cell": false,
   "toc_position": {},
   "toc_section_display": true,
   "toc_window_display": false
  },
  "varInspector": {
   "cols": {
    "lenName": 16,
    "lenType": 16,
    "lenVar": 40
   },
   "kernels_config": {
    "python": {
     "delete_cmd_postfix": "",
     "delete_cmd_prefix": "del ",
     "library": "var_list.py",
     "varRefreshCmd": "print(var_dic_list())"
    },
    "r": {
     "delete_cmd_postfix": ") ",
     "delete_cmd_prefix": "rm(",
     "library": "var_list.r",
     "varRefreshCmd": "cat(var_dic_list()) "
    }
   },
   "types_to_exclude": [
    "module",
    "function",
    "builtin_function_or_method",
    "instance",
    "_Feature"
   ],
   "window_display": false
  }
 },
 "nbformat": 4,
 "nbformat_minor": 4
}
