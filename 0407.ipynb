{
 "cells": [
  {
   "cell_type": "code",
   "execution_count": null,
   "metadata": {},
   "outputs": [],
   "source": [
    "import numpy as np\n",
    "from sklearn import svm\n",
    "import codecs\n",
    "\n",
    "# CSVデータの読み込み\n",
    "# np.genfromtxt()を使うと、欠損値を含んでいたり複数の異なるデータ型を含んでいたりする、より複雑な構造のCSVファイルの読み込みが可能。\n",
    "train_X=np.genfromtxt('train.csv',delimiter=',')\n",
    "train_y=np.genfromtxt('trainLabels.csv',delimiter=',')\n",
    "test_X=np.genfromtxt('test.csv',delimiter=',')\n",
    "\n",
    "# ガウシアンカーネルによるSVMインスタンス生成\n",
    "model=svm.SVC(kernel='rbf',C=1)\n",
    "\n",
    "# 教師データで学習(データに)対するフィッティング\n",
    "model.fit(train_X,train_y)\n",
    "\n",
    "# テストデータにフィッターを適応する\n",
    "result=model.predict(test_X)\n",
    "\n",
    "#　結果を書き出す\n",
    "def write_prediction(prediction,outfile):\n",
    "    f=codecs.open(outfile,'w')\n",
    "    for x in prediction:\n",
    "        f.write('%s\\n'% (x))\n",
    "\n",
    "write_prediction(result,'svm.txt')"
   ]
  },
  {
   "cell_type": "markdown",
   "metadata": {},
   "source": [
    "### 最近傍法\n",
    "データ集合の値が決定される少数のパラメータで関数形が決まるような\n",
    "確率密度（偏差による）"
   ]
  },
  {
   "cell_type": "code",
   "execution_count": null,
   "metadata": {},
   "outputs": [],
   "source": []
  },
  {
   "cell_type": "code",
   "execution_count": 2,
   "metadata": {},
   "outputs": [
    {
     "name": "stdout",
     "output_type": "stream",
     "text": [
      "Test set score: 0.868421052631579\n"
     ]
    }
   ],
   "source": [
    "from sklearn.datasets import load_iris\n",
    "from sklearn.model_selection import train_test_split\n",
    "from sklearn.linear_model import LogisticRegression\n",
    "\n",
    "iris=load_iris()\n",
    "# 座標データと正解ラベルをtrainとtestにランダムで割り当てる\n",
    "X_train,X_test,y_train,y_test=train_test_split(iris.data,iris.target,random_state=0)\n",
    "\n",
    "logreg=LogisticRegression().fit(X_train,y_train)\n",
    "score=logreg.score(X_test,y_test)\n",
    "print('Test set score: {}'.format(score))"
   ]
  },
  {
   "cell_type": "code",
   "execution_count": 5,
   "metadata": {},
   "outputs": [
    {
     "name": "stdout",
     "output_type": "stream",
     "text": [
      "Cross-Validation scores: [0.96078431 0.92156863 0.95833333]\n",
      "Average score: 0.9468954248366014\n"
     ]
    }
   ],
   "source": [
    "from sklearn.model_selection import cross_val_score\n",
    "\n",
    "logreg=LogisticRegression()\n",
    "\n",
    "scores=cross_val_score(logreg,iris.data,iris.target)\n",
    "print('Cross-Validation scores: {}'.format(scores))\n",
    "\n",
    "import numpy as np\n",
    "print('Average score: {}'.format(np.mean(scores)))"
   ]
  },
  {
   "cell_type": "code",
   "execution_count": null,
   "metadata": {},
   "outputs": [],
   "source": []
  },
  {
   "cell_type": "code",
   "execution_count": null,
   "metadata": {},
   "outputs": [],
   "source": []
  },
  {
   "cell_type": "code",
   "execution_count": null,
   "metadata": {},
   "outputs": [],
   "source": []
  }
 ],
 "metadata": {
  "kernelspec": {
   "display_name": "Python 3",
   "language": "python",
   "name": "python3"
  },
  "language_info": {
   "codemirror_mode": {
    "name": "ipython",
    "version": 3
   },
   "file_extension": ".py",
   "mimetype": "text/x-python",
   "name": "python",
   "nbconvert_exporter": "python",
   "pygments_lexer": "ipython3",
   "version": "3.6.10"
  },
  "varInspector": {
   "cols": {
    "lenName": 16,
    "lenType": 16,
    "lenVar": 40
   },
   "kernels_config": {
    "python": {
     "delete_cmd_postfix": "",
     "delete_cmd_prefix": "del ",
     "library": "var_list.py",
     "varRefreshCmd": "print(var_dic_list())"
    },
    "r": {
     "delete_cmd_postfix": ") ",
     "delete_cmd_prefix": "rm(",
     "library": "var_list.r",
     "varRefreshCmd": "cat(var_dic_list()) "
    }
   },
   "types_to_exclude": [
    "module",
    "function",
    "builtin_function_or_method",
    "instance",
    "_Feature"
   ],
   "window_display": false
  }
 },
 "nbformat": 4,
 "nbformat_minor": 4
}
