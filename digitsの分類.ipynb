{
 "cells": [
  {
   "cell_type": "code",
   "execution_count": 1,
   "metadata": {},
   "outputs": [
    {
     "data": {
      "image/png": "[encoded data removed]",
      "text/plain": [
       "<Figure size 432x288 with 20 Axes>"
      ]
     },
     "metadata": {
      "needs_background": "light"
     },
     "output_type": "display_data"
    }
   ],
   "source": [
    "import matplotlib.pyplot as plt\n",
    "from sklearn import datasets\n",
    "\n",
    "digits = datasets.load_digits()\n",
    "\n",
    "for n,(label, img) in enumerate(zip(digits.target[80:100], digits.images[80:100])):\n",
    "    ax = plt.subplot(4, 5, n+1)  # 2行五列で認識させる　ナンバーは１からはじまるので＋１\n",
    "    plt.axis('off')\n",
    "    plt.subplots_adjust(hspace=0.8\n",
    "                        ,wspace=0.8)\n",
    "    plt.imshow(img, cmap=plt.cm.gray_r, interpolation='nearest')\n",
    "    ax.set_title('Digit:{0}'.format(label))  # set_titleでもplt.titleでもどっちでもよさげ\n",
    "    plt.title('Digit:{0}'.format(label))\n",
    "plt.show()"
   ]
  },
  {
   "cell_type": "code",
   "execution_count": 2,
   "metadata": {},
   "outputs": [
    {
     "name": "stdout",
     "output_type": "stream",
     "text": [
      "Accuracy:\n",
      " 0.8531468531468531\n"
     ]
    }
   ],
   "source": [
    "import numpy as np\n",
    "from sklearn import datasets\n",
    "\n",
    "digits=datasets.load_digits()\n",
    "# 3と8にあたる要素だけをTrueにした配列を得る\n",
    "flag_3_8=(digits.target==3)+(digits.target==8)\n",
    "\n",
    "# digits.imagesの中からflag_3_8でTrueになってる要素だけまとめて抜き出しリスト化\n",
    "images=digits.images[flag_3_8]\n",
    "# imagesと符合する番号の配列をにしておく（3と8だけの配列）\n",
    "labels=digits.target[flag_3_8]\n",
    "# print(images.shape)\n",
    "# print(images)\n",
    "# 大項目に入っていた8*8=64の要素をまとめた2次元配列にする\n",
    "images=images.reshape(images.shape[0],-1)\n",
    "\n",
    "# Bool値の配列のTrue部分だけの要素数\n",
    "n_samples=len(flag_3_8[flag_3_8])\n",
    "train_size=int(n_samples*3/5)\n",
    "\n",
    "# 「決定木」というアルゴリズムで分類できる\n",
    "from sklearn import tree\n",
    "classifier=tree.DecisionTreeClassifier()\n",
    "classifier.fit(images[:train_size],labels[:train_size])\n",
    "\n",
    "from sklearn import metrics\n",
    "expected=labels[train_size:]\n",
    "predicted=classifier.predict(images[train_size:])\n",
    "print('Accuracy:\\n',\n",
    "      metrics.accuracy_score(expected,predicted))"
   ]
  },
  {
   "cell_type": "code",
   "execution_count": 3,
   "metadata": {},
   "outputs": [
    {
     "data": {
      "text/plain": [
       "{'data': array([[ 0.,  0.,  5., ...,  0.,  0.,  0.],\n",
       "        [ 0.,  0.,  0., ..., 10.,  0.,  0.],\n",
       "        [ 0.,  0.,  0., ..., 16.,  9.,  0.],\n",
       "        ...,\n",
       "        [ 0.,  0.,  1., ...,  6.,  0.,  0.],\n",
       "        [ 0.,  0.,  2., ..., 12.,  0.,  0.],\n",
       "        [ 0.,  0., 10., ..., 12.,  1.,  0.]]),\n",
       " 'target': array([0, 1, 2, ..., 8, 9, 8]),\n",
       " 'target_names': array([0, 1, 2, 3, 4, 5, 6, 7, 8, 9]),\n",
       " 'images': array([[[ 0.,  0.,  5., ...,  1.,  0.,  0.],\n",
       "         [ 0.,  0., 13., ..., 15.,  5.,  0.],\n",
       "         [ 0.,  3., 15., ..., 11.,  8.,  0.],\n",
       "         ...,\n",
       "         [ 0.,  4., 11., ..., 12.,  7.,  0.],\n",
       "         [ 0.,  2., 14., ..., 12.,  0.,  0.],\n",
       "         [ 0.,  0.,  6., ...,  0.,  0.,  0.]],\n",
       " \n",
       "        [[ 0.,  0.,  0., ...,  5.,  0.,  0.],\n",
       "         [ 0.,  0.,  0., ...,  9.,  0.,  0.],\n",
       "         [ 0.,  0.,  3., ...,  6.,  0.,  0.],\n",
       "         ...,\n",
       "         [ 0.,  0.,  1., ...,  6.,  0.,  0.],\n",
       "         [ 0.,  0.,  1., ...,  6.,  0.,  0.],\n",
       "         [ 0.,  0.,  0., ..., 10.,  0.,  0.]],\n",
       " \n",
       "        [[ 0.,  0.,  0., ..., 12.,  0.,  0.],\n",
       "         [ 0.,  0.,  3., ..., 14.,  0.,  0.],\n",
       "         [ 0.,  0.,  8., ..., 16.,  0.,  0.],\n",
       "         ...,\n",
       "         [ 0.,  9., 16., ...,  0.,  0.,  0.],\n",
       "         [ 0.,  3., 13., ..., 11.,  5.,  0.],\n",
       "         [ 0.,  0.,  0., ..., 16.,  9.,  0.]],\n",
       " \n",
       "        ...,\n",
       " \n",
       "        [[ 0.,  0.,  1., ...,  1.,  0.,  0.],\n",
       "         [ 0.,  0., 13., ...,  2.,  1.,  0.],\n",
       "         [ 0.,  0., 16., ..., 16.,  5.,  0.],\n",
       "         ...,\n",
       "         [ 0.,  0., 16., ..., 15.,  0.,  0.],\n",
       "         [ 0.,  0., 15., ..., 16.,  0.,  0.],\n",
       "         [ 0.,  0.,  2., ...,  6.,  0.,  0.]],\n",
       " \n",
       "        [[ 0.,  0.,  2., ...,  0.,  0.,  0.],\n",
       "         [ 0.,  0., 14., ..., 15.,  1.,  0.],\n",
       "         [ 0.,  4., 16., ..., 16.,  7.,  0.],\n",
       "         ...,\n",
       "         [ 0.,  0.,  0., ..., 16.,  2.,  0.],\n",
       "         [ 0.,  0.,  4., ..., 16.,  2.,  0.],\n",
       "         [ 0.,  0.,  5., ..., 12.,  0.,  0.]],\n",
       " \n",
       "        [[ 0.,  0., 10., ...,  1.,  0.,  0.],\n",
       "         [ 0.,  2., 16., ...,  1.,  0.,  0.],\n",
       "         [ 0.,  0., 15., ..., 15.,  0.,  0.],\n",
       "         ...,\n",
       "         [ 0.,  4., 16., ..., 16.,  6.,  0.],\n",
       "         [ 0.,  8., 16., ..., 16.,  8.,  0.],\n",
       "         [ 0.,  1.,  8., ..., 12.,  1.,  0.]]]),\n",
       " 'DESCR': \"Optical Recognition of Handwritten Digits Data Set\\n===================================================\\n\\nNotes\\n-----\\nData Set Characteristics:\\n    :Number of Instances: 5620\\n    :Number of Attributes: 64\\n    :Attribute Information: 8x8 image of integer pixels in the range 0..16.\\n    :Missing Attribute Values: None\\n    :Creator: E. Alpaydin (alpaydin '@' boun.edu.tr)\\n    :Date: July; 1998\\n\\nThis is a copy of the test set of the UCI ML hand-written digits datasets\\nhttp://archive.ics.uci.edu/ml/datasets/Optical+Recognition+of+Handwritten+Digits\\n\\nThe data set contains images of hand-written digits: 10 classes where\\neach class refers to a digit.\\n\\nPreprocessing programs made available by NIST were used to extract\\nnormalized bitmaps of handwritten digits from a preprinted form. From a\\ntotal of 43 people, 30 contributed to the training set and different 13\\nto the test set. 32x32 bitmaps are divided into nonoverlapping blocks of\\n4x4 and the number of on pixels are counted in each block. This generates\\nan input matrix of 8x8 where each element is an integer in the range\\n0..16. This reduces dimensionality and gives invariance to small\\ndistortions.\\n\\nFor info on NIST preprocessing routines, see M. D. Garris, J. L. Blue, G.\\nT. Candela, D. L. Dimmick, J. Geist, P. J. Grother, S. A. Janet, and C.\\nL. Wilson, NIST Form-Based Handprint Recognition System, NISTIR 5469,\\n1994.\\n\\nReferences\\n----------\\n  - C. Kaynak (1995) Methods of Combining Multiple Classifiers and Their\\n    Applications to Handwritten Digit Recognition, MSc Thesis, Institute of\\n    Graduate Studies in Science and Engineering, Bogazici University.\\n  - E. Alpaydin, C. Kaynak (1998) Cascading Classifiers, Kybernetika.\\n  - Ken Tang and Ponnuthurai N. Suganthan and Xi Yao and A. Kai Qin.\\n    Linear dimensionalityreduction using relevance weighted LDA. School of\\n    Electrical and Electronic Engineering Nanyang Technological University.\\n    2005.\\n  - Claudio Gentile. A New Approximate Maximal Margin Classification\\n    Algorithm. NIPS. 2000.\\n\"}"
      ]
     },
     "execution_count": 3,
     "metadata": {},
     "output_type": "execute_result"
    }
   ],
   "source": [
    "import numpy as np\n",
    "from sklearn import datasets\n",
    "digits=datasets.load_digits()\n",
    "digits"
   ]
  },
  {
   "cell_type": "code",
   "execution_count": 4,
   "metadata": {},
   "outputs": [
    {
     "data": {
      "text/plain": [
       "array([0, 1, 2, 3, 4, 5, 6, 7, 8, 9])"
      ]
     },
     "execution_count": 4,
     "metadata": {},
     "output_type": "execute_result"
    }
   ],
   "source": [
    "digits.target[:10]"
   ]
  },
  {
   "cell_type": "code",
   "execution_count": 5,
   "metadata": {},
   "outputs": [
    {
     "data": {
      "text/plain": [
       "array([[[ 0.,  0.,  5., 13.,  9.,  1.,  0.,  0.],\n",
       "        [ 0.,  0., 13., 15., 10., 15.,  5.,  0.],\n",
       "        [ 0.,  3., 15.,  2.,  0., 11.,  8.,  0.],\n",
       "        [ 0.,  4., 12.,  0.,  0.,  8.,  8.,  0.],\n",
       "        [ 0.,  5.,  8.,  0.,  0.,  9.,  8.,  0.],\n",
       "        [ 0.,  4., 11.,  0.,  1., 12.,  7.,  0.],\n",
       "        [ 0.,  2., 14.,  5., 10., 12.,  0.,  0.],\n",
       "        [ 0.,  0.,  6., 13., 10.,  0.,  0.,  0.]],\n",
       "\n",
       "       [[ 0.,  0.,  0., 12., 13.,  5.,  0.,  0.],\n",
       "        [ 0.,  0.,  0., 11., 16.,  9.,  0.,  0.],\n",
       "        [ 0.,  0.,  3., 15., 16.,  6.,  0.,  0.],\n",
       "        [ 0.,  7., 15., 16., 16.,  2.,  0.,  0.],\n",
       "        [ 0.,  0.,  1., 16., 16.,  3.,  0.,  0.],\n",
       "        [ 0.,  0.,  1., 16., 16.,  6.,  0.,  0.],\n",
       "        [ 0.,  0.,  1., 16., 16.,  6.,  0.,  0.],\n",
       "        [ 0.,  0.,  0., 11., 16., 10.,  0.,  0.]],\n",
       "\n",
       "       [[ 0.,  0.,  0.,  4., 15., 12.,  0.,  0.],\n",
       "        [ 0.,  0.,  3., 16., 15., 14.,  0.,  0.],\n",
       "        [ 0.,  0.,  8., 13.,  8., 16.,  0.,  0.],\n",
       "        [ 0.,  0.,  1.,  6., 15., 11.,  0.,  0.],\n",
       "        [ 0.,  1.,  8., 13., 15.,  1.,  0.,  0.],\n",
       "        [ 0.,  9., 16., 16.,  5.,  0.,  0.,  0.],\n",
       "        [ 0.,  3., 13., 16., 16., 11.,  5.,  0.],\n",
       "        [ 0.,  0.,  0.,  3., 11., 16.,  9.,  0.]],\n",
       "\n",
       "       [[ 0.,  0.,  7., 15., 13.,  1.,  0.,  0.],\n",
       "        [ 0.,  8., 13.,  6., 15.,  4.,  0.,  0.],\n",
       "        [ 0.,  2.,  1., 13., 13.,  0.,  0.,  0.],\n",
       "        [ 0.,  0.,  2., 15., 11.,  1.,  0.,  0.],\n",
       "        [ 0.,  0.,  0.,  1., 12., 12.,  1.,  0.],\n",
       "        [ 0.,  0.,  0.,  0.,  1., 10.,  8.,  0.],\n",
       "        [ 0.,  0.,  8.,  4.,  5., 14.,  9.,  0.],\n",
       "        [ 0.,  0.,  7., 13., 13.,  9.,  0.,  0.]],\n",
       "\n",
       "       [[ 0.,  0.,  0.,  1., 11.,  0.,  0.,  0.],\n",
       "        [ 0.,  0.,  0.,  7.,  8.,  0.,  0.,  0.],\n",
       "        [ 0.,  0.,  1., 13.,  6.,  2.,  2.,  0.],\n",
       "        [ 0.,  0.,  7., 15.,  0.,  9.,  8.,  0.],\n",
       "        [ 0.,  5., 16., 10.,  0., 16.,  6.,  0.],\n",
       "        [ 0.,  4., 15., 16., 13., 16.,  1.,  0.],\n",
       "        [ 0.,  0.,  0.,  3., 15., 10.,  0.,  0.],\n",
       "        [ 0.,  0.,  0.,  2., 16.,  4.,  0.,  0.]],\n",
       "\n",
       "       [[ 0.,  0., 12., 10.,  0.,  0.,  0.,  0.],\n",
       "        [ 0.,  0., 14., 16., 16., 14.,  0.,  0.],\n",
       "        [ 0.,  0., 13., 16., 15., 10.,  1.,  0.],\n",
       "        [ 0.,  0., 11., 16., 16.,  7.,  0.,  0.],\n",
       "        [ 0.,  0.,  0.,  4.,  7., 16.,  7.,  0.],\n",
       "        [ 0.,  0.,  0.,  0.,  4., 16.,  9.,  0.],\n",
       "        [ 0.,  0.,  5.,  4., 12., 16.,  4.,  0.],\n",
       "        [ 0.,  0.,  9., 16., 16., 10.,  0.,  0.]],\n",
       "\n",
       "       [[ 0.,  0.,  0., 12., 13.,  0.,  0.,  0.],\n",
       "        [ 0.,  0.,  5., 16.,  8.,  0.,  0.,  0.],\n",
       "        [ 0.,  0., 13., 16.,  3.,  0.,  0.,  0.],\n",
       "        [ 0.,  0., 14., 13.,  0.,  0.,  0.,  0.],\n",
       "        [ 0.,  0., 15., 12.,  7.,  2.,  0.,  0.],\n",
       "        [ 0.,  0., 13., 16., 13., 16.,  3.,  0.],\n",
       "        [ 0.,  0.,  7., 16., 11., 15.,  8.,  0.],\n",
       "        [ 0.,  0.,  1.,  9., 15., 11.,  3.,  0.]],\n",
       "\n",
       "       [[ 0.,  0.,  7.,  8., 13., 16., 15.,  1.],\n",
       "        [ 0.,  0.,  7.,  7.,  4., 11., 12.,  0.],\n",
       "        [ 0.,  0.,  0.,  0.,  8., 13.,  1.,  0.],\n",
       "        [ 0.,  4.,  8.,  8., 15., 15.,  6.,  0.],\n",
       "        [ 0.,  2., 11., 15., 15.,  4.,  0.,  0.],\n",
       "        [ 0.,  0.,  0., 16.,  5.,  0.,  0.,  0.],\n",
       "        [ 0.,  0.,  9., 15.,  1.,  0.,  0.,  0.],\n",
       "        [ 0.,  0., 13.,  5.,  0.,  0.,  0.,  0.]],\n",
       "\n",
       "       [[ 0.,  0.,  9., 14.,  8.,  1.,  0.,  0.],\n",
       "        [ 0.,  0., 12., 14., 14., 12.,  0.,  0.],\n",
       "        [ 0.,  0.,  9., 10.,  0., 15.,  4.,  0.],\n",
       "        [ 0.,  0.,  3., 16., 12., 14.,  2.,  0.],\n",
       "        [ 0.,  0.,  4., 16., 16.,  2.,  0.,  0.],\n",
       "        [ 0.,  3., 16.,  8., 10., 13.,  2.,  0.],\n",
       "        [ 0.,  1., 15.,  1.,  3., 16.,  8.,  0.],\n",
       "        [ 0.,  0., 11., 16., 15., 11.,  1.,  0.]],\n",
       "\n",
       "       [[ 0.,  0., 11., 12.,  0.,  0.,  0.,  0.],\n",
       "        [ 0.,  2., 16., 16., 16., 13.,  0.,  0.],\n",
       "        [ 0.,  3., 16., 12., 10., 14.,  0.,  0.],\n",
       "        [ 0.,  1., 16.,  1., 12., 15.,  0.,  0.],\n",
       "        [ 0.,  0., 13., 16.,  9., 15.,  2.,  0.],\n",
       "        [ 0.,  0.,  0.,  3.,  0.,  9., 11.,  0.],\n",
       "        [ 0.,  0.,  0.,  0.,  9., 15.,  4.,  0.],\n",
       "        [ 0.,  0.,  9., 12., 13.,  3.,  0.,  0.]]])"
      ]
     },
     "execution_count": 5,
     "metadata": {},
     "output_type": "execute_result"
    }
   ],
   "source": [
    "digits.images[:10]"
   ]
  },
  {
   "cell_type": "code",
   "execution_count": 6,
   "metadata": {},
   "outputs": [
    {
     "data": {
      "text/plain": [
       "(1797, 8, 8)"
      ]
     },
     "execution_count": 6,
     "metadata": {},
     "output_type": "execute_result"
    }
   ],
   "source": [
    "digits.images.shape"
   ]
  },
  {
   "cell_type": "code",
   "execution_count": 7,
   "metadata": {},
   "outputs": [
    {
     "data": {
      "text/plain": [
       "array([False, False, False, ...,  True, False,  True])"
      ]
     },
     "execution_count": 7,
     "metadata": {},
     "output_type": "execute_result"
    }
   ],
   "source": [
    "# flag_3_8 [+]はor　==3または==8\n",
    "(digits.target==3)+(digits.target==8)"
   ]
  },
  {
   "cell_type": "code",
   "execution_count": 8,
   "metadata": {},
   "outputs": [
    {
     "data": {
      "text/plain": [
       "array([[[ 0.,  0.,  7., ...,  1.,  0.,  0.],\n",
       "        [ 0.,  8., 13., ...,  4.,  0.,  0.],\n",
       "        [ 0.,  2.,  1., ...,  0.,  0.,  0.],\n",
       "        ...,\n",
       "        [ 0.,  0.,  0., ..., 10.,  8.,  0.],\n",
       "        [ 0.,  0.,  8., ..., 14.,  9.,  0.],\n",
       "        [ 0.,  0.,  7., ...,  9.,  0.,  0.]],\n",
       "\n",
       "       [[ 0.,  0.,  9., ...,  1.,  0.,  0.],\n",
       "        [ 0.,  0., 12., ..., 12.,  0.,  0.],\n",
       "        [ 0.,  0.,  9., ..., 15.,  4.,  0.],\n",
       "        ...,\n",
       "        [ 0.,  3., 16., ..., 13.,  2.,  0.],\n",
       "        [ 0.,  1., 15., ..., 16.,  8.,  0.],\n",
       "        [ 0.,  0., 11., ..., 11.,  1.,  0.]],\n",
       "\n",
       "       [[ 0.,  2.,  9., ...,  9.,  3.,  0.],\n",
       "        [ 0.,  4., 13., ..., 16.,  8.,  0.],\n",
       "        [ 0.,  0.,  0., ..., 15.,  3.,  0.],\n",
       "        ...,\n",
       "        [ 0.,  0.,  0., ..., 15.,  4.,  0.],\n",
       "        [ 0.,  1.,  5., ..., 16.,  6.,  0.],\n",
       "        [ 0.,  2., 12., ..., 11.,  0.,  0.]],\n",
       "\n",
       "       ...,\n",
       "\n",
       "       [[ 0.,  0.,  5., ...,  0.,  1.,  0.],\n",
       "        [ 0.,  0., 11., ..., 13.,  6.,  0.],\n",
       "        [ 0.,  0.,  2., ..., 12.,  1.,  0.],\n",
       "        ...,\n",
       "        [ 0.,  0.,  8., ..., 11.,  0.,  0.],\n",
       "        [ 0.,  0., 11., ...,  9.,  0.,  0.],\n",
       "        [ 0.,  0.,  6., ...,  3.,  0.,  0.]],\n",
       "\n",
       "       [[ 0.,  0.,  1., ...,  1.,  0.,  0.],\n",
       "        [ 0.,  0., 13., ...,  2.,  1.,  0.],\n",
       "        [ 0.,  0., 16., ..., 16.,  5.,  0.],\n",
       "        ...,\n",
       "        [ 0.,  0., 16., ..., 15.,  0.,  0.],\n",
       "        [ 0.,  0., 15., ..., 16.,  0.,  0.],\n",
       "        [ 0.,  0.,  2., ...,  6.,  0.,  0.]],\n",
       "\n",
       "       [[ 0.,  0., 10., ...,  1.,  0.,  0.],\n",
       "        [ 0.,  2., 16., ...,  1.,  0.,  0.],\n",
       "        [ 0.,  0., 15., ..., 15.,  0.,  0.],\n",
       "        ...,\n",
       "        [ 0.,  4., 16., ..., 16.,  6.,  0.],\n",
       "        [ 0.,  8., 16., ..., 16.,  8.,  0.],\n",
       "        [ 0.,  1.,  8., ..., 12.,  1.,  0.]]])"
      ]
     },
     "execution_count": 8,
     "metadata": {},
     "output_type": "execute_result"
    }
   ],
   "source": [
    "flag_3_8=(digits.target==3)+(digits.target==8)\n",
    "#images=　マスキング\n",
    "digits.images[flag_3_8]"
   ]
  },
  {
   "cell_type": "code",
   "execution_count": 9,
   "metadata": {},
   "outputs": [
    {
     "data": {
      "text/plain": [
       "array([3, 8, 3, 8, 3, 8, 8, 8, 3, 8, 3, 3, 3, 3, 8, 3, 3, 3, 8, 3, 3, 8,\n",
       "       8, 8, 8, 8, 3, 8, 3, 8, 3, 8, 8, 8, 3, 8, 3, 3, 3, 3, 8, 3, 3, 3,\n",
       "       8, 3, 3, 8, 8, 8, 8, 8, 3, 8, 3, 8, 3, 8, 8, 8, 3, 8, 3, 3, 3, 3,\n",
       "       8, 3, 3, 3, 8, 3, 3, 8, 8, 8, 8, 3, 3, 8, 3, 8, 3, 8, 8, 8, 3, 8,\n",
       "       3, 3, 3, 3, 8, 3, 3, 3, 8, 3, 3, 8, 8, 8, 8, 8, 3, 8, 3, 8, 3, 8,\n",
       "       8, 8, 3, 8, 3, 3, 3, 3, 8, 3, 3, 3, 8, 3, 3, 8, 8, 8, 8, 8, 3, 8,\n",
       "       3, 8, 3, 8, 8, 8, 3, 8, 3, 3, 3, 3, 8, 3, 3, 3, 8, 3, 3, 8, 8, 8,\n",
       "       8, 8, 3, 8, 3, 8, 3, 8, 8, 8, 3, 8, 3, 3, 3, 3, 8, 3, 3, 3, 8, 3,\n",
       "       3, 8, 8, 8, 8, 8, 3, 8, 3, 8, 3, 8, 8, 8, 3, 8, 3, 3, 3, 3, 8, 3,\n",
       "       3, 3, 8, 3, 3, 8, 8, 8, 3, 8, 3, 8, 3, 8, 8, 8, 3, 8, 3, 3, 3, 3,\n",
       "       8, 3, 3, 3, 8, 3, 3, 8, 8, 8, 8, 8, 3, 8, 3, 8, 3, 8, 8, 8, 3, 8,\n",
       "       3, 3, 3, 3, 8, 3, 3, 3, 8, 3, 3, 8, 8, 8, 8, 8, 3, 8, 3, 8, 3, 8,\n",
       "       8, 8, 3, 8, 3, 3, 3, 3, 8, 3, 3, 3, 8, 3, 3, 8, 8, 8, 8, 3, 8, 3,\n",
       "       8, 3, 8, 8, 8, 3, 8, 3, 3, 3, 3, 8, 3, 3, 3, 8, 3, 3, 8, 8, 8, 8,\n",
       "       8, 3, 8, 3, 3, 8, 8, 8, 3, 8, 3, 3, 3, 3, 8, 3, 3, 3, 8, 3, 3, 8,\n",
       "       8, 3, 8, 3, 8, 3, 8, 8, 8, 3, 8, 3, 3, 3, 3, 8, 3, 3, 3, 8, 3, 3,\n",
       "       8, 8, 8, 8, 8])"
      ]
     },
     "execution_count": 9,
     "metadata": {},
     "output_type": "execute_result"
    }
   ],
   "source": [
    "#target=  マスキング\n",
    "digits.target[flag_3_8]"
   ]
  },
  {
   "cell_type": "code",
   "execution_count": 10,
   "metadata": {},
   "outputs": [
    {
     "data": {
      "text/plain": [
       "(357, 8, 8)"
      ]
     },
     "execution_count": 10,
     "metadata": {},
     "output_type": "execute_result"
    }
   ],
   "source": [
    "digits.images[flag_3_8].shape\n",
    "# ３５７個の箱の中に8行8列"
   ]
  },
  {
   "cell_type": "code",
   "execution_count": 11,
   "metadata": {},
   "outputs": [
    {
     "data": {
      "text/plain": [
       "(357,)"
      ]
     },
     "execution_count": 11,
     "metadata": {},
     "output_type": "execute_result"
    }
   ],
   "source": [
    "digits.target[flag_3_8].shape\n",
    "# ３５７個の要素"
   ]
  },
  {
   "cell_type": "code",
   "execution_count": 12,
   "metadata": {},
   "outputs": [
    {
     "data": {
      "text/plain": [
       "214.2"
      ]
     },
     "execution_count": 12,
     "metadata": {},
     "output_type": "execute_result"
    }
   ],
   "source": [
    "\n",
    "images=digits.images[flag_3_8]\n",
    "labels=digits.target[flag_3_8]\n",
    "357*3/5\n",
    "# ３または８にはまるデータの中でも3/5だけ使ってテストデータを作る\n",
    "# 214個"
   ]
  },
  {
   "cell_type": "code",
   "execution_count": 13,
   "metadata": {},
   "outputs": [
    {
     "data": {
      "image/png": "[encoded data removed]",
      "text/plain": [
       "<Figure size 432x288 with 10 Axes>"
      ]
     },
     "metadata": {
      "needs_background": "light"
     },
     "output_type": "display_data"
    }
   ],
   "source": [
    "import matplotlib.pyplot as plt\n",
    "for n,(label,img) in enumerate(zip(labels[:10],images[:10])):\n",
    "    plt.subplot(2,5,n+1)\n",
    "    plt.axis('off')\n",
    "    plt.subplots_adjust(hspace=0.8\n",
    "                        ,wspace=0.8)\n",
    "    plt.imshow(img, cmap=plt.cm.gray_r, interpolation='nearest')\n",
    "    plt.title('Digit:{0}'.format(label))\n",
    "plt.show()"
   ]
  },
  {
   "cell_type": "code",
   "execution_count": 14,
   "metadata": {},
   "outputs": [],
   "source": [
    "# 分類器を生成する\n",
    "from sklearn import tree\n",
    "classifier=tree.DecisionTreeClassifier()\n",
    "train_size=int(len(flag_3_8[flag_3_8])*3/5)"
   ]
  },
  {
   "cell_type": "code",
   "execution_count": 15,
   "metadata": {},
   "outputs": [
    {
     "data": {
      "text/plain": [
       "array([3, 8, 3, 3, 3, 3, 8, 3, 3, 8, 8, 3, 3, 8, 8, 8, 8, 8, 3, 8, 3, 8,\n",
       "       3, 8, 8, 8, 8, 8, 3, 3, 3, 3, 8, 3, 3, 3, 8, 3, 3, 8, 8, 8, 8, 8,\n",
       "       3, 8, 3, 8, 3, 8, 8, 8, 3, 8, 3, 3, 3, 3, 8, 3, 3, 3, 8, 3, 3, 8,\n",
       "       8, 8, 8, 3, 8, 3, 8, 3, 3, 8, 8, 3, 3, 3, 3, 3, 3, 3, 3, 3, 3, 8,\n",
       "       3, 3, 8, 8, 8, 8, 8, 3, 8, 3, 3, 8, 8, 8, 8, 8, 8, 8, 8, 8, 8, 3,\n",
       "       3, 3, 8, 3, 3, 8, 8, 3, 8, 8, 8, 8, 8, 8, 8, 8, 8, 8, 8, 3, 8, 8,\n",
       "       8, 3, 8, 8, 8, 3, 8, 8, 8, 8, 8])"
      ]
     },
     "execution_count": 15,
     "metadata": {},
     "output_type": "execute_result"
    }
   ],
   "source": [
    "# ２次元に落とさないと処理ができないのでimages（357,8,8）8行8列を357,64 にする\n",
    "images=images.reshape(images.shape[0],-1)\n",
    "classifier.fit(images[:train_size],labels[:train_size])\n",
    "classifier.fit(images[:train_size],labels[:train_size])\n",
    "classifier.fit(images[:train_size],labels[:train_size])\n",
    "classifier.predict(images[train_size:])"
   ]
  },
  {
   "cell_type": "code",
   "execution_count": 16,
   "metadata": {},
   "outputs": [
    {
     "data": {
      "text/plain": [
       "array([3, 8, 3, 3, 3, 3, 8, 3, 3, 3, 8, 3, 3, 8, 8, 8, 8, 8, 3, 8, 3, 8,\n",
       "       3, 8, 8, 8, 3, 8, 3, 3, 3, 3, 8, 3, 3, 3, 8, 3, 3, 8, 8, 8, 8, 8,\n",
       "       3, 8, 3, 8, 3, 8, 8, 8, 3, 8, 3, 3, 3, 3, 8, 3, 3, 3, 8, 3, 3, 8,\n",
       "       8, 8, 8, 3, 8, 3, 8, 3, 8, 8, 8, 3, 8, 3, 3, 3, 3, 8, 3, 3, 3, 8,\n",
       "       3, 3, 8, 8, 8, 8, 8, 3, 8, 3, 3, 8, 8, 8, 3, 8, 3, 3, 3, 3, 8, 3,\n",
       "       3, 3, 8, 3, 3, 8, 8, 3, 8, 3, 8, 3, 8, 8, 8, 3, 8, 3, 3, 3, 3, 8,\n",
       "       3, 3, 3, 8, 3, 3, 8, 8, 8, 8, 8])"
      ]
     },
     "execution_count": 16,
     "metadata": {},
     "output_type": "execute_result"
    }
   ],
   "source": [
    "labels[train_size:]"
   ]
  },
  {
   "cell_type": "code",
   "execution_count": 17,
   "metadata": {},
   "outputs": [
    {
     "data": {
      "text/plain": [
       "0.8671328671328671"
      ]
     },
     "execution_count": 17,
     "metadata": {},
     "output_type": "execute_result"
    }
   ],
   "source": [
    "from sklearn import metrics\n",
    "expected=labels[train_size:]\n",
    "predicted=classifier.predict(images[train_size:])\n",
    "metrics.accuracy_score(expected,predicted)\n",
    "# 正答率"
   ]
  },
  {
   "cell_type": "code",
   "execution_count": 18,
   "metadata": {},
   "outputs": [
    {
     "data": {
      "text/plain": [
       "75"
      ]
     },
     "execution_count": 18,
     "metadata": {},
     "output_type": "execute_result"
    }
   ],
   "source": [
    "flag_3=(labels[train_size:]==3)\n",
    "len(flag_3[flag_3])"
   ]
  },
  {
   "cell_type": "code",
   "execution_count": 19,
   "metadata": {},
   "outputs": [
    {
     "data": {
      "text/plain": [
       "68"
      ]
     },
     "execution_count": 19,
     "metadata": {},
     "output_type": "execute_result"
    }
   ],
   "source": [
    "flag_8=(labels[train_size:]==8)\n",
    "len(flag_8[flag_8])"
   ]
  },
  {
   "cell_type": "code",
   "execution_count": 20,
   "metadata": {},
   "outputs": [
    {
     "data": {
      "text/plain": [
       "array([[59, 16],\n",
       "       [ 3, 65]], dtype=int64)"
      ]
     },
     "execution_count": 20,
     "metadata": {},
     "output_type": "execute_result"
    }
   ],
   "source": [
    "metrics.confusion_matrix(expected,predicted)"
   ]
  },
  {
   "cell_type": "code",
   "execution_count": 21,
   "metadata": {},
   "outputs": [
    {
     "data": {
      "text/plain": [
       "0.9516129032258065"
      ]
     },
     "execution_count": 21,
     "metadata": {},
     "output_type": "execute_result"
    }
   ],
   "source": [
    "# 適合率　label==3を陽性（positive)としたprecisionscore\n",
    "metrics.precision_score(expected,predicted,pos_label=3)"
   ]
  },
  {
   "cell_type": "code",
   "execution_count": 22,
   "metadata": {},
   "outputs": [
    {
     "data": {
      "text/plain": [
       "0.7866666666666666"
      ]
     },
     "execution_count": 22,
     "metadata": {},
     "output_type": "execute_result"
    }
   ],
   "source": [
    "# 再現率\n",
    "metrics.recall_score(expected,predicted,pos_label=3)"
   ]
  },
  {
   "cell_type": "code",
   "execution_count": 23,
   "metadata": {},
   "outputs": [
    {
     "data": {
      "text/plain": [
       "0.8613138686131386"
      ]
     },
     "execution_count": 23,
     "metadata": {},
     "output_type": "execute_result"
    }
   ],
   "source": [
    "# f値 調和平均\n",
    "metrics.f1_score(expected,predicted,pos_label=3)"
   ]
  },
  {
   "cell_type": "code",
   "execution_count": 24,
   "metadata": {},
   "outputs": [
    {
     "data": {
      "text/plain": [
       "1583"
      ]
     },
     "execution_count": 24,
     "metadata": {},
     "output_type": "execute_result"
    }
   ],
   "source": [
    "import graphviz\n",
    "from sklearn.tree import DecisionTreeClassifier,export_graphviz\n",
    "export_graphviz(classifier,'tree1.dot',class_names=[\"3\",\"8\"])\n",
    "\n",
    "with open(\"tree1.dot\")as f:\n",
    "    dot_graph=f.read()\n",
    "graphviz.Source(dot_graph)\n",
    "\n",
    "images=digits.images\n",
    "images=images[train_size:]\n",
    "images[:,3][2]<=3.5\n",
    "len(images)\n",
    "# images[images[:,3][2]<=3.5]\n",
    "# for img in imagex26:\n",
    "#     plt.axis('off')\n",
    "#     plt.subplots_adjust(hspace=0.8\n",
    "#                         ,wspace=0.8)\n",
    "#     plt.imshow(img, cmap=plt.cm.gray_r, interpolation='nearest')\n",
    "# plt.show()"
   ]
  },
  {
   "cell_type": "code",
   "execution_count": 26,
   "metadata": {},
   "outputs": [
    {
     "name": "stdout",
     "output_type": "stream",
     "text": [
      "Optical Recognition of Handwritten Digits Data Set\n",
      "===================================================\n",
      "\n",
      "Notes\n",
      "-----\n",
      "Data Set Characteristics:\n",
      "    :Number of Instances: 5620\n",
      "    :Number of Attributes: 64\n",
      "    :Attribute Information: 8x8 image of integer pixels in the range 0..16.\n",
      "    :Missing Attribute Values: None\n",
      "    :Creator: E. Alpaydin (alpaydin '@' boun.edu.tr)\n",
      "    :Date: July; 1998\n",
      "\n",
      "This is a copy of the test set of the UCI ML hand-written digits datasets\n",
      "http://archive.ics.uci.edu/ml/datasets/Optical+Recognition+of+Handwritten+Digits\n",
      "\n",
      "The data set contains images of hand-written digits: 10 classes where\n",
      "each class refers to a digit.\n",
      "\n",
      "Preprocessing programs made available by NIST were used to extract\n",
      "normalized bitmaps of handwritten digits from a preprinted form. From a\n",
      "total of 43 people, 30 contributed to the training set and different 13\n",
      "to the test set. 32x32 bitmaps are divided into nonoverlapping blocks of\n",
      "4x4 and the number of on pixels are counted in each block. This generates\n",
      "an input matrix of 8x8 where each element is an integer in the range\n",
      "0..16. This reduces dimensionality and gives invariance to small\n",
      "distortions.\n",
      "\n",
      "For info on NIST preprocessing routines, see M. D. Garris, J. L. Blue, G.\n",
      "T. Candela, D. L. Dimmick, J. Geist, P. J. Grother, S. A. Janet, and C.\n",
      "L. Wilson, NIST Form-Based Handprint Recognition System, NISTIR 5469,\n",
      "1994.\n",
      "\n",
      "References\n",
      "----------\n",
      "  - C. Kaynak (1995) Methods of Combining Multiple Classifiers and Their\n",
      "    Applications to Handwritten Digit Recognition, MSc Thesis, Institute of\n",
      "    Graduate Studies in Science and Engineering, Bogazici University.\n",
      "  - E. Alpaydin, C. Kaynak (1998) Cascading Classifiers, Kybernetika.\n",
      "  - Ken Tang and Ponnuthurai N. Suganthan and Xi Yao and A. Kai Qin.\n",
      "    Linear dimensionalityreduction using relevance weighted LDA. School of\n",
      "    Electrical and Electronic Engineering Nanyang Technological University.\n",
      "    2005.\n",
      "  - Claudio Gentile. A New Approximate Maximal Margin Classification\n",
      "    Algorithm. NIPS. 2000.\n",
      "\n"
     ]
    }
   ],
   "source": [
    "print(digits.DESCR)  # Description  attributeの情報がBunchディクショナリに内包されている"
   ]
  }
 ],
 "metadata": {
  "kernelspec": {
   "display_name": "Python 3",
   "language": "python",
   "name": "python3"
  },
  "language_info": {
   "codemirror_mode": {
    "name": "ipython",
    "version": 3
   },
   "file_extension": ".py",
   "mimetype": "text/x-python",
   "name": "python",
   "nbconvert_exporter": "python",
   "pygments_lexer": "ipython3",
   "version": "3.6.10"
  },
  "varInspector": {
   "cols": {
    "lenName": 16,
    "lenType": 16,
    "lenVar": 40
   },
   "kernels_config": {
    "python": {
     "delete_cmd_postfix": "",
     "delete_cmd_prefix": "del ",
     "library": "var_list.py",
     "varRefreshCmd": "print(var_dic_list())"
    },
    "r": {
     "delete_cmd_postfix": ") ",
     "delete_cmd_prefix": "rm(",
     "library": "var_list.r",
     "varRefreshCmd": "cat(var_dic_list()) "
    }
   },
   "types_to_exclude": [
    "module",
    "function",
    "builtin_function_or_method",
    "instance",
    "_Feature"
   ],
   "window_display": false
  }
 },
 "nbformat": 4,
 "nbformat_minor": 4
}
