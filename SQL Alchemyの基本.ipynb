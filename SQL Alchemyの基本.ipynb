{
 "cells": [
  {
   "cell_type": "markdown",
   "metadata": {},
   "source": [
    "### SQLAlchemy\n",
    "\n",
    "「ＯＲＭ」 - Object Relational Mapper\n",
    "リレーショナルDBを持つことで、異なる枠組みのデータやプログラムの間でデータ共有できる"
   ]
  },
  {
   "cell_type": "code",
   "execution_count": 3,
   "metadata": {},
   "outputs": [
    {
     "data": {
      "text/plain": [
       "Engine(sqlite:///:memory:)"
      ]
     },
     "execution_count": 3,
     "metadata": {},
     "output_type": "execute_result"
    }
   ],
   "source": [
    "from sqlalchemy import create_engine\n",
    "engine=create_engine('sqlite:///:memory:',echo=True)\n",
    "engine"
   ]
  },
  {
   "cell_type": "markdown",
   "metadata": {},
   "source": [
    "#### SQLAlchemyでテーブルを作成する\n",
    "定義や関連付けはsqlalchemy.ext.declarativeの\n",
    "declarative_base()で作ったクラスを継承することで\n",
    "テーブルcreateの固有定義が可能になる。"
   ]
  },
  {
   "cell_type": "code",
   "execution_count": 8,
   "metadata": {},
   "outputs": [
    {
     "name": "stdout",
     "output_type": "stream",
     "text": [
      "2020-03-24 10:55:35,761 INFO sqlalchemy.engine.base.Engine PRAGMA main.table_info(\"books\")\n",
      "2020-03-24 10:55:35,761 INFO sqlalchemy.engine.base.Engine ()\n"
     ]
    }
   ],
   "source": [
    "from sqlalchemy.ext import declarative\n",
    "from sqlalchemy import Column,Integer,Unicode,UnicodeText\n",
    "Base=declarative.declarative_base()\n",
    "class Book(Base):\n",
    "    __tablename__='books'\n",
    "    id=Column(Integer,primary_key=True)\n",
    "    title=Column(Unicode(100),nullable=False)\n",
    "    price=Column(Integer,nullable=False)\n",
    "    memo=Column(UnicodeText)\n",
    "    def __repr__(self):\n",
    "        return \"<Book('%s','%s','%s')>\"%(self.title,self.price,self.memo)\n",
    "    \n",
    "Base.metadata.create_all(engine)"
   ]
  },
  {
   "cell_type": "code",
   "execution_count": 24,
   "metadata": {},
   "outputs": [
    {
     "data": {
      "text/plain": [
       "['_Session__binds',\n",
       " '__class__',\n",
       " '__contains__',\n",
       " '__delattr__',\n",
       " '__dict__',\n",
       " '__dir__',\n",
       " '__doc__',\n",
       " '__eq__',\n",
       " '__format__',\n",
       " '__ge__',\n",
       " '__getattribute__',\n",
       " '__gt__',\n",
       " '__hash__',\n",
       " '__init__',\n",
       " '__init_subclass__',\n",
       " '__iter__',\n",
       " '__le__',\n",
       " '__lt__',\n",
       " '__module__',\n",
       " '__ne__',\n",
       " '__new__',\n",
       " '__reduce__',\n",
       " '__reduce_ex__',\n",
       " '__repr__',\n",
       " '__setattr__',\n",
       " '__sizeof__',\n",
       " '__str__',\n",
       " '__subclasshook__',\n",
       " '__weakref__',\n",
       " '_add_bind',\n",
       " '_after_attach',\n",
       " '_autoflush',\n",
       " '_before_attach',\n",
       " '_bulk_save_mappings',\n",
       " '_close_impl',\n",
       " '_conditional_expire',\n",
       " '_connection_for_bind',\n",
       " '_contains_state',\n",
       " '_delete_impl',\n",
       " '_deleted',\n",
       " '_dirty_states',\n",
       " '_enable_transaction_accounting',\n",
       " '_expire_state',\n",
       " '_expunge_states',\n",
       " '_flush',\n",
       " '_flush_warning',\n",
       " '_flushing',\n",
       " '_identity_cls',\n",
       " '_is_clean',\n",
       " '_merge',\n",
       " '_new',\n",
       " '_query_cls',\n",
       " '_register_altered',\n",
       " '_register_persistent',\n",
       " '_remove_newly_deleted',\n",
       " '_save_impl',\n",
       " '_save_or_update_impl',\n",
       " '_save_or_update_state',\n",
       " '_update_impl',\n",
       " '_validate_persistent',\n",
       " '_warn_on_events',\n",
       " 'add',\n",
       " 'add_all',\n",
       " 'autocommit',\n",
       " 'autoflush',\n",
       " 'begin',\n",
       " 'begin_nested',\n",
       " 'bind',\n",
       " 'bind_mapper',\n",
       " 'bind_table',\n",
       " 'bulk_insert_mappings',\n",
       " 'bulk_save_objects',\n",
       " 'bulk_update_mappings',\n",
       " 'close',\n",
       " 'close_all',\n",
       " 'commit',\n",
       " 'connection',\n",
       " 'connection_callable',\n",
       " 'delete',\n",
       " 'deleted',\n",
       " 'dirty',\n",
       " 'dispatch',\n",
       " 'enable_baked_queries',\n",
       " 'enable_relationship_loading',\n",
       " 'execute',\n",
       " 'expire',\n",
       " 'expire_all',\n",
       " 'expire_on_commit',\n",
       " 'expunge',\n",
       " 'expunge_all',\n",
       " 'flush',\n",
       " 'get_bind',\n",
       " 'hash_key',\n",
       " 'identity_key',\n",
       " 'identity_map',\n",
       " 'info',\n",
       " 'invalidate',\n",
       " 'is_active',\n",
       " 'is_modified',\n",
       " 'merge',\n",
       " 'new',\n",
       " 'no_autoflush',\n",
       " 'object_session',\n",
       " 'prepare',\n",
       " 'prune',\n",
       " 'public_methods',\n",
       " 'query',\n",
       " 'refresh',\n",
       " 'rollback',\n",
       " 'scalar',\n",
       " 'transaction',\n",
       " 'twophase']"
      ]
     },
     "execution_count": 24,
     "metadata": {},
     "output_type": "execute_result"
    }
   ],
   "source": [
    "from sqlalchemy.orm import sessionmaker\n",
    "Session=sessionmaker(bind=engine)\n",
    "session=Session()\n",
    "dir(session)"
   ]
  },
  {
   "cell_type": "code",
   "execution_count": 11,
   "metadata": {},
   "outputs": [
    {
     "name": "stdout",
     "output_type": "stream",
     "text": [
      "2020-03-24 11:01:50,714 INFO sqlalchemy.engine.base.Engine BEGIN (implicit)\n",
      "2020-03-24 11:01:50,717 INFO sqlalchemy.engine.base.Engine INSERT INTO books (title, price, memo) VALUES (?, ?, ?)\n",
      "2020-03-24 11:01:50,718 INFO sqlalchemy.engine.base.Engine ('やさしいPython', '2580', 'SBクリエイティブ')\n",
      "2020-03-24 11:01:50,720 INFO sqlalchemy.engine.base.Engine COMMIT\n",
      "2020-03-24 11:01:50,722 INFO sqlalchemy.engine.base.Engine BEGIN (implicit)\n",
      "2020-03-24 11:01:50,724 INFO sqlalchemy.engine.base.Engine INSERT INTO books (title, price, memo) VALUES (?, ?, ?)\n",
      "2020-03-24 11:01:50,725 INFO sqlalchemy.engine.base.Engine ('すっきりわかるJava入門', '2680', 'インプレス')\n",
      "2020-03-24 11:01:50,726 INFO sqlalchemy.engine.base.Engine INSERT INTO books (title, price, memo) VALUES (?, ?, ?)\n",
      "2020-03-24 11:01:50,728 INFO sqlalchemy.engine.base.Engine ('独習PHP', '3520', '翔泳社')\n",
      "2020-03-24 11:01:50,729 INFO sqlalchemy.engine.base.Engine COMMIT\n"
     ]
    }
   ],
   "source": [
    "book=Book(title='やさしいPython',price='2580',memo='SBクリエイティブ')\n",
    "session.add(book)\n",
    "session.commit()\n",
    "\n",
    "session.add_all([\n",
    "    Book(title='すっきりわかるJava入門',price='2680',memo='インプレス'),\n",
    "    Book(title='独習PHP',price='3520',memo='翔泳社'),\n",
    "])\n",
    "session.commit()"
   ]
  },
  {
   "cell_type": "code",
   "execution_count": 12,
   "metadata": {},
   "outputs": [
    {
     "name": "stdout",
     "output_type": "stream",
     "text": [
      "2020-03-24 11:02:54,215 INFO sqlalchemy.engine.base.Engine SELECT books.id AS books_id, books.title AS books_title, books.price AS books_price, books.memo AS books_memo \n",
      "FROM books\n",
      "2020-03-24 11:02:54,217 INFO sqlalchemy.engine.base.Engine ()\n",
      "やさしいPython\n",
      "すっきりわかるJava入門\n",
      "独習PHP\n"
     ]
    }
   ],
   "source": [
    "query=session.query(Book)\n",
    "for book in query.all():\n",
    "    print(book.title)"
   ]
  },
  {
   "cell_type": "code",
   "execution_count": 15,
   "metadata": {},
   "outputs": [
    {
     "name": "stdout",
     "output_type": "stream",
     "text": [
      "<Book('やさしいPython','2580','SBクリエイティブ')>\n",
      "やさしいPython\n"
     ]
    }
   ],
   "source": [
    "book=query.get(1)\n",
    "print(book)\n",
    "print(book.title)"
   ]
  },
  {
   "cell_type": "code",
   "execution_count": 18,
   "metadata": {},
   "outputs": [
    {
     "name": "stdout",
     "output_type": "stream",
     "text": [
      "2020-03-24 11:07:51,767 INFO sqlalchemy.engine.base.Engine SELECT books.id AS books_id, books.title AS books_title, books.price AS books_price, books.memo AS books_memo \n",
      "FROM books \n",
      "WHERE books.title = ? AND books.id = ?\n",
      " LIMIT ? OFFSET ?\n",
      "2020-03-24 11:07:51,768 INFO sqlalchemy.engine.base.Engine ('独習PHP', 3, 1, 0)\n",
      "<Book('独習PHP','3520','翔泳社')>\n",
      "独習PHP\n"
     ]
    }
   ],
   "source": [
    "book=query.filter(Book.title=='独習PHP').filter(Book.id==3).first()\n",
    "print(book)\n",
    "print(book.title)"
   ]
  },
  {
   "cell_type": "code",
   "execution_count": 20,
   "metadata": {},
   "outputs": [
    {
     "name": "stdout",
     "output_type": "stream",
     "text": [
      "2020-03-24 11:08:27,281 INFO sqlalchemy.engine.base.Engine SELECT count(*) AS count_1 \n",
      "FROM (SELECT books.id AS books_id, books.title AS books_title, books.price AS books_price, books.memo AS books_memo \n",
      "FROM books) AS anon_1\n",
      "2020-03-24 11:08:27,282 INFO sqlalchemy.engine.base.Engine ()\n",
      "3\n"
     ]
    }
   ],
   "source": [
    "count=query.count()\n",
    "print(count)"
   ]
  },
  {
   "cell_type": "code",
   "execution_count": 22,
   "metadata": {},
   "outputs": [
    {
     "name": "stdout",
     "output_type": "stream",
     "text": [
      "2020-03-24 11:10:09,660 INFO sqlalchemy.engine.base.Engine COMMIT\n",
      "2020-03-24 11:10:09,660 INFO sqlalchemy.engine.base.Engine BEGIN (implicit)\n",
      "2020-03-24 11:10:09,660 INFO sqlalchemy.engine.base.Engine SELECT books.id AS books_id, books.title AS books_title, books.price AS books_price, books.memo AS books_memo \n",
      "FROM books \n",
      "WHERE books.id = ?\n",
      "2020-03-24 11:10:09,660 INFO sqlalchemy.engine.base.Engine (1,)\n",
      "<Book('やさしいPython','2500','SBクリエイティブ')>\n"
     ]
    }
   ],
   "source": [
    "book=query.get(1)\n",
    "book.price=2500\n",
    "session.commit()\n",
    "book=query.get(1)\n",
    "print(book)"
   ]
  },
  {
   "cell_type": "code",
   "execution_count": 23,
   "metadata": {},
   "outputs": [
    {
     "name": "stdout",
     "output_type": "stream",
     "text": [
      "2020-03-24 11:11:41,393 INFO sqlalchemy.engine.base.Engine DELETE FROM books WHERE books.id = ?\n",
      "2020-03-24 11:11:41,394 INFO sqlalchemy.engine.base.Engine (1,)\n",
      "2020-03-24 11:11:41,396 INFO sqlalchemy.engine.base.Engine COMMIT\n",
      "2020-03-24 11:11:41,398 INFO sqlalchemy.engine.base.Engine BEGIN (implicit)\n",
      "2020-03-24 11:11:41,399 INFO sqlalchemy.engine.base.Engine SELECT books.id AS books_id, books.title AS books_title, books.price AS books_price, books.memo AS books_memo \n",
      "FROM books \n",
      "WHERE books.id = ?\n",
      "2020-03-24 11:11:41,400 INFO sqlalchemy.engine.base.Engine (1,)\n",
      "None\n",
      "2020-03-24 11:11:41,403 INFO sqlalchemy.engine.base.Engine SELECT books.id AS books_id, books.title AS books_title, books.price AS books_price, books.memo AS books_memo \n",
      "FROM books\n",
      "2020-03-24 11:11:41,404 INFO sqlalchemy.engine.base.Engine ()\n",
      "すっきりわかるJava入門\n",
      "独習PHP\n"
     ]
    }
   ],
   "source": [
    "book=query.get(1)\n",
    "session.delete(book)\n",
    "session.commit()\n",
    "book=query.get(1)\n",
    "print(book)\n",
    "for book in query.all():\n",
    "    print(book.title)"
   ]
  }
 ],
 "metadata": {
  "kernelspec": {
   "display_name": "Python 3",
   "language": "python",
   "name": "python3"
  },
  "language_info": {
   "codemirror_mode": {
    "name": "ipython",
    "version": 3
   },
   "file_extension": ".py",
   "mimetype": "text/x-python",
   "name": "python",
   "nbconvert_exporter": "python",
   "pygments_lexer": "ipython3",
   "version": "3.6.10"
  },
  "varInspector": {
   "cols": {
    "lenName": 16,
    "lenType": 16,
    "lenVar": 40
   },
   "kernels_config": {
    "python": {
     "delete_cmd_postfix": "",
     "delete_cmd_prefix": "del ",
     "library": "var_list.py",
     "varRefreshCmd": "print(var_dic_list())"
    },
    "r": {
     "delete_cmd_postfix": ") ",
     "delete_cmd_prefix": "rm(",
     "library": "var_list.r",
     "varRefreshCmd": "cat(var_dic_list()) "
    }
   },
   "types_to_exclude": [
    "module",
    "function",
    "builtin_function_or_method",
    "instance",
    "_Feature"
   ],
   "window_display": false
  }
 },
 "nbformat": 4,
 "nbformat_minor": 4
}
