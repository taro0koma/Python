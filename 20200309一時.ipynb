{
 "cells": [
  {
   "cell_type": "code",
   "execution_count": null,
   "metadata": {},
   "outputs": [],
   "source": []
  },
  {
   "cell_type": "code",
   "execution_count": 1,
   "metadata": {},
   "outputs": [
    {
     "name": "stdout",
     "output_type": "stream",
     "text": [
      "['This', 'is', 'a', 'sample', 'sentence']\n",
      "This is a sample sentence\n"
     ]
    }
   ],
   "source": [
    "s=\"This is a sample sentence\"\n",
    "a=s.split()\n",
    "print(a)\n",
    "t=\" \".join(a)\n",
    "print(t)"
   ]
  },
  {
   "cell_type": "code",
   "execution_count": 6,
   "metadata": {},
   "outputs": [
    {
     "name": "stdout",
     "output_type": "stream",
     "text": [
      "['This', 'is', 'a', 'sample', 'sentence', 'And', 'this', 'is', 'second', 'sentence']\n"
     ]
    }
   ],
   "source": [
    "s=\"This is a sample sentence. And, this is second sentence.\"\n",
    "b=s.replace(\",\",\"\")  # コンマとピリオドをsplit()する前に取り除く\n",
    "c=b.replace(\".\",\"\")\n",
    "a=c.split()\n",
    "# メソッドチェーンで短く書ける　a=s.replace(\",\",\"\").replace(\".\",\"\").spplit()\n",
    "print(a)"
   ]
  },
  {
   "cell_type": "code",
   "execution_count": 13,
   "metadata": {},
   "outputs": [
    {
     "name": "stdout",
     "output_type": "stream",
     "text": [
      "1\n",
      "1\n",
      "0 1 2 3 4 5 6 7 8 9\n"
     ]
    }
   ],
   "source": [
    "i = int(input())\n",
    "print(i)\n",
    "n=[0,1,2,3,4,5,6,7,8,9]\n",
    "a=[str(x*i) for x in n]\n",
    "ans=\" \".join(a)\n",
    "\n",
    "print(ans)"
   ]
  },
  {
   "cell_type": "code",
   "execution_count": 11,
   "metadata": {},
   "outputs": [
    {
     "name": "stdout",
     "output_type": "stream",
     "text": [
      "\n",
      "C:\\Users\\mgt\\notebooks\\.ipynb_checkpoints ディレクトリです\n",
      "\n",
      "C:\\Users\\mgt\\notebooks\\200225一時.ipynb ファイルです\n",
      "C:\\Users\\mgt\\notebooks\\20200221.ipynb ファイルです\n",
      "C:\\Users\\mgt\\notebooks\\20200226.ipynb ファイルです\n",
      "C:\\Users\\mgt\\notebooks\\20200227.ipynb ファイルです\n",
      "C:\\Users\\mgt\\notebooks\\20200309一時.ipynb ファイルです\n",
      "C:\\Users\\mgt\\notebooks\\answer.csv ファイルです\n",
      "C:\\Users\\mgt\\notebooks\\carg_test1.py ファイルです\n",
      "C:\\Users\\mgt\\notebooks\\carg_test2.py ファイルです\n",
      "C:\\Users\\mgt\\notebooks\\classの基本.ipynb ファイルです\n",
      "C:\\Users\\mgt\\notebooks\\classの基本2.ipynb ファイルです\n",
      "C:\\Users\\mgt\\notebooks\\cmdline.py ファイルです\n",
      "\n",
      "C:\\Users\\mgt\\notebooks\\download ディレクトリです\n",
      "\n",
      "C:\\Users\\mgt\\notebooks\\download.txt ファイルです\n",
      "C:\\Users\\mgt\\notebooks\\enumerate()関数の使い方.ipynb ファイルです\n",
      "C:\\Users\\mgt\\notebooks\\filter()関数.ipynb ファイルです\n",
      "C:\\Users\\mgt\\notebooks\\if文／for文の基本.ipynb ファイルです\n",
      "C:\\Users\\mgt\\notebooks\\iterとsort.ipynb ファイルです\n",
      "C:\\Users\\mgt\\notebooks\\lambda_内包表記_高階関数_クラス練習問題.ipynb ファイルです\n",
      "C:\\Users\\mgt\\notebooks\\lambda式を使ってみる.ipynb ファイルです\n",
      "C:\\Users\\mgt\\notebooks\\linklist.txt ファイルです\n",
      "C:\\Users\\mgt\\notebooks\\map()関数.ipynb ファイルです\n",
      "C:\\Users\\mgt\\notebooks\\MarkDown用コード.ipynb ファイルです\n",
      "C:\\Users\\mgt\\notebooks\\myClass.py ファイルです\n",
      "\n",
      "C:\\Users\\mgt\\notebooks\\mydir ディレクトリです\n",
      "\n",
      "C:\\Users\\mgt\\notebooks\\myfunc.py ファイルです\n",
      "C:\\Users\\mgt\\notebooks\\Python 練習問題 #1 Lesson2～4.ipynb ファイルです\n",
      "C:\\Users\\mgt\\notebooks\\Pythonの基本.ipynb ファイルです\n",
      "C:\\Users\\mgt\\notebooks\\Sample.csv ファイルです\n",
      "C:\\Users\\mgt\\notebooks\\Sample.json ファイルです\n",
      "C:\\Users\\mgt\\notebooks\\Sample.txt ファイルです\n",
      "C:\\Users\\mgt\\notebooks\\sample1.png ファイルです\n",
      "C:\\Users\\mgt\\notebooks\\Sample2.json ファイルです\n",
      "C:\\Users\\mgt\\notebooks\\sorted()とsort().ipynb ファイルです\n",
      "C:\\Users\\mgt\\notebooks\\travel.py ファイルです\n",
      "C:\\Users\\mgt\\notebooks\\Untitled.ipynb ファイルです\n",
      "C:\\Users\\mgt\\notebooks\\untitled.txt ファイルです\n",
      "C:\\Users\\mgt\\notebooks\\Untitled1.ipynb ファイルです\n",
      "C:\\Users\\mgt\\notebooks\\yield文.ipynb ファイルです\n",
      "C:\\Users\\mgt\\notebooks\\zip()関数の使い方.ipynb ファイルです\n",
      "\n",
      "C:\\Users\\mgt\\notebooks\\__pycache__ ディレクトリです\n",
      "\n",
      "C:\\Users\\mgt\\notebooks\\はじめてのDL_5_9_5.ipynb ファイルです\n",
      "C:\\Users\\mgt\\notebooks\\クラス内変数たちのスコープ範囲.ipynb ファイルです\n",
      "C:\\Users\\mgt\\notebooks\\コレクションのまとめ.ipynb ファイルです\n",
      "C:\\Users\\mgt\\notebooks\\システム処理.ipynb ファイルです\n",
      "C:\\Users\\mgt\\notebooks\\スクレイピング入門_1.ipynb ファイルです\n",
      "C:\\Users\\mgt\\notebooks\\スクレイピング入門_2.ipynb ファイルです\n",
      "C:\\Users\\mgt\\notebooks\\タプルとディクショナリの練習問題.ipynb ファイルです\n",
      "C:\\Users\\mgt\\notebooks\\ディクショナリ（MAP）.ipynb ファイルです\n",
      "C:\\Users\\mgt\\notebooks\\デコレータ　エンクロージング.ipynb ファイルです\n",
      "C:\\Users\\mgt\\notebooks\\ファイルの読み書き.ipynb ファイルです\n",
      "C:\\Users\\mgt\\notebooks\\ループと内包表記の復習.ipynb ファイルです\n",
      "C:\\Users\\mgt\\notebooks\\ローカル変数のスコープ.ipynb ファイルです\n",
      "C:\\Users\\mgt\\notebooks\\例外処理.ipynb ファイルです\n",
      "C:\\Users\\mgt\\notebooks\\文字列　チェックと操作.ipynb ファイルです\n",
      "C:\\Users\\mgt\\notebooks\\文字列　正規表現.ipynb ファイルです\n",
      "C:\\Users\\mgt\\notebooks\\文字列の基本操作.ipynb ファイルです\n",
      "C:\\Users\\mgt\\notebooks\\日付と時刻.ipynb ファイルです\n",
      "C:\\Users\\mgt\\notebooks\\標準モジュール.ipynb ファイルです\n",
      "C:\\Users\\mgt\\notebooks\\正規表現.ipynb ファイルです\n",
      "C:\\Users\\mgt\\notebooks\\理解度テスト２.ipynb ファイルです\n",
      "C:\\Users\\mgt\\notebooks\\論理演算子.ipynb ファイルです\n",
      "C:\\Users\\mgt\\notebooks\\関数の基本.ipynb ファイルです\n"
     ]
    }
   ],
   "source": [
    "import os\n",
    "import os.path\n",
    "curdir=os.listdir(\".\")\n",
    "for name in curdir:\n",
    "    if os.path.isfile(name):\n",
    "        print(os.path.abspath(name),\"ファイルです\")\n",
    "    else:\n",
    "        print()\n",
    "        print(os.path.abspath(name),\"ディレクトリです\",end=\"\\n\\n\")"
   ]
  },
  {
   "cell_type": "code",
   "execution_count": 35,
   "metadata": {},
   "outputs": [
    {
     "name": "stdout",
     "output_type": "stream",
     "text": [
      "ファイルが見つかりません。\n"
     ]
    }
   ],
   "source": [
    "import csv\n",
    "try:\n",
    "    fp=open(\"./answer1.csv\",\"r\",encoding=\"utf8\")\n",
    "    reader=csv.reader(fp) # list作成\n",
    "    answer=[]\n",
    "    for csvlst in reader:\n",
    "        answer+=csvlst  # 1次元要素として配列に追加\n",
    "    fp.close()\n",
    "except FileNotFoundError:\n",
    "    print(\"ファイルが見つかりません。\")\n",
    "else:\n",
    "    results={}\n",
    "    for region in answer:\n",
    "        if region in results:\n",
    "            results[region]+=1\n",
    "        else:\n",
    "            results[region]=1\n",
    "    for region in reversed(sorted(results.items(),key=lambda c:c[1])):\n",
    "        print(\"{}:{}\".format(region[0],region[1]))\n"
   ]
  },
  {
   "cell_type": "code",
   "execution_count": null,
   "metadata": {},
   "outputs": [],
   "source": []
  },
  {
   "cell_type": "code",
   "execution_count": null,
   "metadata": {},
   "outputs": [],
   "source": []
  },
  {
   "cell_type": "code",
   "execution_count": null,
   "metadata": {},
   "outputs": [],
   "source": []
  },
  {
   "cell_type": "code",
   "execution_count": null,
   "metadata": {},
   "outputs": [],
   "source": []
  },
  {
   "cell_type": "code",
   "execution_count": null,
   "metadata": {},
   "outputs": [],
   "source": []
  },
  {
   "cell_type": "code",
   "execution_count": null,
   "metadata": {},
   "outputs": [],
   "source": []
  },
  {
   "cell_type": "code",
   "execution_count": null,
   "metadata": {},
   "outputs": [],
   "source": []
  },
  {
   "cell_type": "code",
   "execution_count": null,
   "metadata": {},
   "outputs": [],
   "source": []
  }
 ],
 "metadata": {
  "kernelspec": {
   "display_name": "Python 3",
   "language": "python",
   "name": "python3"
  },
  "language_info": {
   "codemirror_mode": {
    "name": "ipython",
    "version": 3
   },
   "file_extension": ".py",
   "mimetype": "text/x-python",
   "name": "python",
   "nbconvert_exporter": "python",
   "pygments_lexer": "ipython3",
   "version": "3.6.10"
  },
  "toc": {
   "base_numbering": 1,
   "nav_menu": {},
   "number_sections": true,
   "sideBar": true,
   "skip_h1_title": false,
   "title_cell": "Table of Contents",
   "title_sidebar": "Contents",
   "toc_cell": false,
   "toc_position": {},
   "toc_section_display": true,
   "toc_window_display": false
  },
  "varInspector": {
   "cols": {
    "lenName": 16,
    "lenType": 16,
    "lenVar": 40
   },
   "kernels_config": {
    "python": {
     "delete_cmd_postfix": "",
     "delete_cmd_prefix": "del ",
     "library": "var_list.py",
     "varRefreshCmd": "print(var_dic_list())"
    },
    "r": {
     "delete_cmd_postfix": ") ",
     "delete_cmd_prefix": "rm(",
     "library": "var_list.r",
     "varRefreshCmd": "cat(var_dic_list()) "
    }
   },
   "types_to_exclude": [
    "module",
    "function",
    "builtin_function_or_method",
    "instance",
    "_Feature"
   ],
   "window_display": false
  }
 },
 "nbformat": 4,
 "nbformat_minor": 4
}
