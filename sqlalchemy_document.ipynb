{
 "cells": [
  {
   "cell_type": "markdown",
   "metadata": {},
   "source": [
    "%%html\n",
    "<style>table {float:left}</style>"
   ]
  },
  {
   "cell_type": "code",
   "execution_count": 1,
   "metadata": {},
   "outputs": [
    {
     "name": "stdout",
     "output_type": "stream",
     "text": [
      "python version: sys.version_info(major=3, minor=6, micro=10, releaselevel='final', serial=0)\n",
      "sqlalchemy version: 1.3.13\n"
     ]
    }
   ],
   "source": [
    "import sys\n",
    "print('python version:', sys.version_info)\n",
    "import sqlalchemy\n",
    "print('sqlalchemy version:',sqlalchemy.__version__)"
   ]
  },
  {
   "cell_type": "markdown",
   "metadata": {},
   "source": [
    " # Pythonとデータベース\n",
    "<br>\n",
    "Pythonから利用できるデータベースは、 MySQL, PostgreSQL, SQLite, Oracleなど多岐にわたります。<br>\n",
    "PythonのデータベースAPI仕様は、PEP 249<sup>※1</sup>で定義されており、それぞれのデータベースに対応して実装<sup>※2</sup>が存在します。\n",
    "データベースAPIを使用すればデータベースプログラミングが可能ですが、SQLを直接記述する必要があります。<br><br>\n",
    "SQLを直接記述するプログラムは規模が大きくなると複雑になる傾向があります。そのため最近のデータベース開発では\n",
    "オブジェクトとデータベースのレコードを関連付ける仕組みである「O/Rマッパー」を利用してデータベース開発を行うケースが増えています。<br><br>\n",
    "\n",
    "<sup>※1</sup> https://www.python.org/dev/peps/pep-0249/#exceptions <br>\n",
    "<sup>※2</sup> https://docs.python.org/ja/3/library/sqlite3.html<br><br>"
   ]
  },
  {
   "cell_type": "markdown",
   "metadata": {},
   "source": [
    "# SQLAlchemy\n",
    "<br>\n",
    "SQLAlchemyは、データベースやSQLに関連する機能を提供するライブラリです。テーブル関連の処理やSQLを扱うための便利なモジュールを提供しています。\n",
    "「O/Rマッパー（ Object / Relational Mapper ）」は提供される機能の１つであり、「O/Rマッパー」を使用せずに開発することも可能です。SQLAlchemyではこのDataMapperパターンを使用してテーブルとオブジェクトのマッピングを行い、開発を進めます。<br><br>\n",
    "\n",
    "SQLAlchmeyは非常に高機能であり、SQLite,MySQL,PostgerSQLなどのオープンソースのデータベースや、OracleやMicrosoft SQL Serverなどの商用データベースもサポートしています。<br><br>"
   ]
  },
  {
   "cell_type": "markdown",
   "metadata": {},
   "source": [
    "# データベースへの接続\n",
    "<br>\n",
    "データベースの接続には、<u>create_engine()</u>関数を使用します。<ul><li>第１引数・・・「接続するデータベース」を指定します。<br>今回は、メモリーベースである SQLite3 を指定しています。<br><br>\n",
    "<li>第2引数・・・echo= はログ出力の有効化フラグです。<br>Trueを指定するとコンソールにSQLAlchemyが発行したSQLなどが出力されます。<br><br>"
   ]
  },
  {
   "cell_type": "code",
   "execution_count": 2,
   "metadata": {},
   "outputs": [
    {
     "data": {
      "text/plain": [
       "Engine(sqlite:///:memory:)"
      ]
     },
     "execution_count": 2,
     "metadata": {},
     "output_type": "execute_result"
    }
   ],
   "source": [
    "from sqlalchemy import create_engine\n",
    "engine = create_engine('sqlite:///:memory:', echo=True)\n",
    "engine"
   ]
  },
  {
   "cell_type": "markdown",
   "metadata": {},
   "source": [
    "# テーブルの作成\n",
    "SQLAlchemyを使用してテーブルを作成します。<br>テーブルは次の表のように書籍の情報を格納するbooksテーブルを作成します。<br><br>SQLAlchemyでは、テーブルを表すオブジェクトとマッピングされるオブジェクトを定義し、それらを関連付けます。\n",
    "定義と関連付けはdeclarativeを使って同時に行っています。<br><br>\n",
    "#### ◇ booksテーブルの定義\n",
    "|<div align='left'>名前</div>|<div align='left'>カラム名</div>|<div align='left'>データタイプ</div>\n",
    "|-----|-----|-----\n",
    "|<div align='left'>ID</div>|<div align='left'>id</div>|<div align='left'>INTEGER</div>\n",
    "|<div align='left'>タイトル</div>|<div align='left'>title</div>|<div align='left'>VARCHAR(255)</div>\n",
    "|<div align='left'>価格</div>|<div align='left'>price</div>|<div align='left'>INTEGER</div>\n",
    "|<div align='left'>メモ</div>|<div align='left'>memo</div>|<div align='left'>TEXT</div>"
   ]
  },
  {
   "cell_type": "markdown",
   "metadata": {},
   "source": [
    "### Bookクラス（オブジェクト）定義\n",
    "<br><hr><br>\n",
    "<u>Bookクラス</u>の定義は次のように行います。</u><br><br>\n",
    "<ul>\n",
    "1. declarative をインポートします。<br><br>\n",
    "2. declarative.declarative_base() 関数で、Baseクラス を生成します。<br><br>\n",
    "3. フィールド定義に使用する Column, Integer, Unicode, UnicodeText をインポートします。<br><br>\n",
    "4. Baseクラスを継承した Bookクラス を生成します。<br>\n",
    "Bookクラスでは、データベースのカラムに対応するフィールドの定義を行います。<br><br>\n",
    "5. \\_\\_tablename\\_\\_ = 'books' でテーブル名を指定します。<br><br>\n",
    "6. Columnクラスを使ってフィールドを定義します。<br><br></ul>\n",
    "<hr><br>\n",
    "Columnクラスのコンストラクタの [第１引数] にはフィールドの型、[第２引数] 以降にはオプションを指定します。\n",
    "\n",
    "<ul><li>primary_key=True と指定すると、そのカラムはプライマリーキーとなります。\n",
    "    <li>nullable=False と指定すると、nullが 許可さなくなります。\n",
    "    <li>テーブルにデータが保存されるときのでフィルと値は default='<デフォルト値>' で指定します。</ul>\n",
    "<br>\n",
    "declarative を使ってクラス宣言したので、booksテーブル とマッピングされた Bookオブジェクト がプログラム内で使用できるようになります。\n",
    "<br><br>"
   ]
  },
  {
   "cell_type": "code",
   "execution_count": null,
   "metadata": {},
   "outputs": [],
   "source": [
    "from sqlalchemy.ext import declarative\n",
    "Base = declarative.declarative_base()\n",
    "from sqlalchemy import Column, Integer, Unicode, UnicodeText\n",
    "class Book(Base):\n",
    "    __tablename__ = 'books'\n",
    "    id = Column(Integer, primary_key=True)\n",
    "    title = Column(Unicode(100), nullable=False)\n",
    "    price = Column(Integer, nullable=False)\n",
    "    memo = Column(UnicodeText)\n",
    "    def __repr_(self):\n",
    "        return \"<Book('%s', '%s', '%s')>\" % (self.title, self.price, self.memo)"
   ]
  },
  {
   "cell_type": "markdown",
   "metadata": {},
   "source": [
    "### テーブル作成\n",
    "<br>\n",
    "テーブルは、Base.metadat の create_all()メソッド にcreate_engine() で作成したengineを渡して作成します。\n",
    "Metadata はテーブルなどの情報を登録するためのオブジェクトです。<br>create_all() メソッドを呼び出すとデータベース上にテーブルが作成されます。<br><br>"
   ]
  },
  {
   "cell_type": "code",
   "execution_count": null,
   "metadata": {
    "scrolled": true
   },
   "outputs": [],
   "source": [
    "Base.metadata.create_all(engine)"
   ]
  },
  {
   "cell_type": "markdown",
   "metadata": {},
   "source": [
    "# テーブルの操作\n",
    "<br>\n",
    "テーブルとオブジェクトのマッピングが完了すると、データベースにアクセスして基本的なCRUD操作ができるようになります。<br><br>\n",
    "CRUDとは、<ul>__C__reate (登録)、__R__ead（読み取り）、__U__pdate (更新）、__D__elete（削除）</ul>の略称です。<br><br>\n",
    "    \n",
    "### セッションの作成\n",
    "SQLAlchemyではセッションを通してオブジェクトの取得や更新を行います。まずは次に示すようにSessionインスタンスを作成します。\n",
    "1. sqlchemey.ormのsessionmakerをインポートします。\n",
    "2. sessionmakerでengineを関連付け(bind)してSessionクラスを作成します。\n",
    "3. Sessionクラスのコンストラクターを呼び出してインスタンスsessionを生成します。\n",
    "<br><br>"
   ]
  },
  {
   "cell_type": "code",
   "execution_count": null,
   "metadata": {},
   "outputs": [],
   "source": [
    "from sqlalchemy.orm import sessionmaker\n",
    "Session = sessionmaker(bind=engine)\n",
    "session = Session()"
   ]
  },
  {
   "cell_type": "markdown",
   "metadata": {},
   "source": [
    "### トランザクション\n",
    "SQLAlchemyでオブジェクトの登録、更新、削除を行った後…<br><br>\n",
    "<ul><li>session.commit()メソッドを呼び出して、<br>オブジェクトの更新をデータベースに反映します。<br><br>\n",
    "<li>（何らかのエラーが発生して）トランザクションをロールバックしたい場合には、<br>session.rollback()メソッドを呼び出します。</ul><br>\n"
   ]
  },
  {
   "cell_type": "markdown",
   "metadata": {},
   "source": [
    "### C. オブジェクトの登録<sub>（CREATE / CRUD）</sub>\n",
    "セッションを生成したら、Bookクラスのオブジェクトをデータベースに登録します。<br>\n",
    "<ul><li>オブジェクトを登録するにはBookクラスのインスタンスを生成し、<span style=\"color:orange\">__session.add()__</span>メソッドの第１引数に渡します。<br>\n",
    "<li>Integer型のカラムに、primary_key=Trueが指定されていると、そのカラムは自動的に番号が付けられます。</ul>"
   ]
  },
  {
   "cell_type": "code",
   "execution_count": null,
   "metadata": {
    "scrolled": true
   },
   "outputs": [],
   "source": [
    "book = Book(title= 'やさしいPython', price='2580', memo = 'SBクリエイティブ')\n",
    "session.add(book)\n",
    "session.commit()"
   ]
  },
  {
   "cell_type": "markdown",
   "metadata": {},
   "source": [
    "<span style=\"color:orange\">__add_all()__メソッド</span>を使用すると<br>一度に複数のBookインスタンスを渡してデータベースに登録出来ます。"
   ]
  },
  {
   "cell_type": "code",
   "execution_count": null,
   "metadata": {
    "scrolled": true
   },
   "outputs": [],
   "source": [
    "session.add_all([\n",
    "    Book(title= 'スッキリわかるJava入門', price='2680', memo = 'インプレス'),\n",
    "    Book(title= '独習PHP', price='3520', memo = '翔泳社'),\n",
    "])\n",
    "session.commit()"
   ]
  },
  {
   "cell_type": "markdown",
   "metadata": {},
   "source": [
    "### R. オブジェクトの取得<sub>（READ / CRUD）</sub>\n",
    "オブジェクトの登録ができたら、取得を行います。<br>オブジェクトの取得は<span style=\"color:orange\">session.query()</span>を実行してQueryオブジェクトを生成します。<br>\n",
    "QueryオブジェクトはSQLを実行するためのオブジェクトです。"
   ]
  },
  {
   "cell_type": "code",
   "execution_count": null,
   "metadata": {},
   "outputs": [],
   "source": [
    "query = session.query(Book)"
   ]
  },
  {
   "cell_type": "markdown",
   "metadata": {},
   "source": [
    "<ul><span style=\"color:orange\">【 all( ) メソッド】</span> 全てのオブジェクトを取得できます。</ul>"
   ]
  },
  {
   "cell_type": "code",
   "execution_count": null,
   "metadata": {
    "scrolled": true
   },
   "outputs": [],
   "source": [
    "for book in query.all():\n",
    "    print (book.title)\n",
    "    "
   ]
  },
  {
   "cell_type": "markdown",
   "metadata": {},
   "source": [
    "<ul><span style=\"color:orange\">【 get( ) メソッド】 </span>プライマリーキーを用いてオブジェクトを取得できます。<ul>"
   ]
  },
  {
   "cell_type": "code",
   "execution_count": null,
   "metadata": {
    "scrolled": true
   },
   "outputs": [],
   "source": [
    "book = query.get(1)\n",
    "print( book.title)"
   ]
  },
  {
   "cell_type": "markdown",
   "metadata": {},
   "source": [
    "<ul><span style=\"color:orange\">【 filter( ) メソッド】</span> 条件を付けてオブジェクトを取得できます。</ul>"
   ]
  },
  {
   "cell_type": "code",
   "execution_count": null,
   "metadata": {
    "scrolled": false
   },
   "outputs": [],
   "source": [
    "book = query.filter(Book.title == 'スッキリわかるJava入門').first()\n",
    "print(book.title)"
   ]
  },
  {
   "cell_type": "markdown",
   "metadata": {},
   "source": [
    "<ul> (__filter( )__メソッドをつなげて、「複数の条件」を指定することができます。)</ul>"
   ]
  },
  {
   "cell_type": "code",
   "execution_count": null,
   "metadata": {
    "scrolled": true
   },
   "outputs": [],
   "source": [
    "book = query.filter(Book.title == '独習PHP').filter(Book.id == 3).first()\n",
    "print(book.title)"
   ]
  },
  {
   "cell_type": "markdown",
   "metadata": {},
   "source": [
    "<ul><span style=\"color:orange\">【 count( ) メソッド】</span> テーブル上のレコード数を取得できます。</ul>"
   ]
  },
  {
   "cell_type": "code",
   "execution_count": null,
   "metadata": {
    "scrolled": true
   },
   "outputs": [],
   "source": [
    "count = query.count()\n",
    "print(count)"
   ]
  },
  {
   "cell_type": "markdown",
   "metadata": {},
   "source": [
    "### U. オブジェクトの更新<sub>（UPDATE / CRUD）</sub>\n",
    "オブジェクトの更新は、<ol><li>〇〇.price=2500__ のようにオブジェクトの値を変更して、<li><span style=\"color:orange\">__session.commit( )__</span> を呼び出します。</ol>"
   ]
  },
  {
   "cell_type": "code",
   "execution_count": null,
   "metadata": {},
   "outputs": [],
   "source": [
    "book = query.get(1)\n",
    "book.price = 2500\n",
    "session.commit()\n",
    "book = query.get(1)\n",
    "print(book.price)"
   ]
  },
  {
   "cell_type": "markdown",
   "metadata": {},
   "source": [
    "### D. オブジェクトの削除<sub>（DELETE / CRUD）</sub>\n",
    "オブジェクトの削除は、<ol><li><span style=\"color:orange\">__session.delete( )__</span>にBookインスタンスを渡してから、<li><span style=\"color:orange\">__session.commit( )__</span>を呼び出します。</ol>"
   ]
  },
  {
   "cell_type": "code",
   "execution_count": null,
   "metadata": {
    "scrolled": false
   },
   "outputs": [],
   "source": [
    "book = query.get(1)\n",
    "session.delete(book)\n",
    "session.commit()\n",
    "book = query.get(1)\n",
    "print(book)\n",
    "\n",
    "for book in query.all():\n",
    "    print(book.title)"
   ]
  }
 ],
 "metadata": {
  "kernelspec": {
   "display_name": "Python 3",
   "language": "python",
   "name": "python3"
  },
  "language_info": {
   "codemirror_mode": {
    "name": "ipython",
    "version": 3
   },
   "file_extension": ".py",
   "mimetype": "text/x-python",
   "name": "python",
   "nbconvert_exporter": "python",
   "pygments_lexer": "ipython3",
   "version": "3.6.10"
  },
  "varInspector": {
   "cols": {
    "lenName": 16,
    "lenType": 16,
    "lenVar": 40
   },
   "kernels_config": {
    "python": {
     "delete_cmd_postfix": "",
     "delete_cmd_prefix": "del ",
     "library": "var_list.py",
     "varRefreshCmd": "print(var_dic_list())"
    },
    "r": {
     "delete_cmd_postfix": ") ",
     "delete_cmd_prefix": "rm(",
     "library": "var_list.r",
     "varRefreshCmd": "cat(var_dic_list()) "
    }
   },
   "types_to_exclude": [
    "module",
    "function",
    "builtin_function_or_method",
    "instance",
    "_Feature"
   ],
   "window_display": false
  }
 },
 "nbformat": 4,
 "nbformat_minor": 2
}
