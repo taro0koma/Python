{
 "cells": [
  {
   "cell_type": "code",
   "execution_count": null,
   "metadata": {},
   "outputs": [],
   "source": [
    "import urllib.request\n",
    "page=urllib.request.urlopen(\"https://www.python.org/\")\n",
    "html=page.read()\n",
    "print(html)  # 改行部分が\\nとスペースで処理されていて読みにくいテキスト\n",
    "str_=html.decode()  # byteコードをデコードする\n",
    "print(str_)"
   ]
  },
  {
   "cell_type": "code",
   "execution_count": 15,
   "metadata": {},
   "outputs": [],
   "source": [
    "import urllib.request\n",
    "from html.parser import HTMLParser\n",
    "\n",
    "class SampleHTMLParser(HTMLParser):\n",
    "    def __init__(self):\n",
    "        HTMLParser.__init__(self)\n",
    "        self.title=False\n",
    "    def handle_starttag(self,tag,attrs):\n",
    "        if tag==\"title\":\n",
    "            self.title=True\n",
    "    def handle_data(self,data):\n",
    "        if self.title is True:\n",
    "            print(\"タイトル：\",data)\n",
    "            self.title=False\n",
    "page=urllib.request.urlopen(\"https://python.org/\")\n",
    "html=page.read()\n",
    "str_=html.decode()\n",
    "\n",
    "p=SampleHTMLParser()\n",
    "p.feed(str_)  # HTMLParserから継承したfeed()メソッドを使うとhandle_starttagとhandle_dataを十個yする\n",
    "p.close()"
   ]
  },
  {
   "cell_type": "code",
   "execution_count": 12,
   "metadata": {},
   "outputs": [],
   "source": [
    "from html.parser import HTMLParser\n",
    "from html.entities import name2codepoint\n",
    "\n",
    "class MyHTMLParser(HTMLParser):\n",
    "    def handle_starttag(self, tag, attrs):\n",
    "        print(\"Start tag:\", tag)\n",
    "        for attr in attrs:\n",
    "            print(\"     attr:\", attr)\n",
    "\n",
    "    def handle_endtag(self, tag):\n",
    "        print(\"End tag  :\", tag)\n",
    "\n",
    "    def handle_data(self, data):\n",
    "        print(\"Data     :\", data)\n",
    "\n",
    "    def handle_comment(self, data):\n",
    "        print(\"Comment  :\", data)\n",
    "\n",
    "    def handle_entityref(self, name):\n",
    "        c = chr(name2codepoint[name])\n",
    "        print(\"Named ent:\", c)\n",
    "\n",
    "    def handle_charref(self, name):\n",
    "        if name.startswith('x'):\n",
    "            c = chr(int(name[1:], 16))\n",
    "        else:\n",
    "            c = chr(int(name))\n",
    "        print(\"Num ent  :\", c)\n",
    "\n",
    "    def handle_decl(self, data):\n",
    "        print(\"Decl     :\", data)\n",
    "\n",
    "parser = MyHTMLParser()"
   ]
  },
  {
   "cell_type": "code",
   "execution_count": 13,
   "metadata": {},
   "outputs": [
    {
     "name": "stdout",
     "output_type": "stream",
     "text": [
      "Start tag: style\n",
      "     attr: ('type', 'text/css')\n",
      "Data     : #python { color: green }\n",
      "End tag  : style\n"
     ]
    }
   ],
   "source": [
    "parser.feed('<style type=\"text/css\">#python { color: green }</style>')\n"
   ]
  },
  {
   "cell_type": "code",
   "execution_count": 14,
   "metadata": {},
   "outputs": [
    {
     "name": "stdout",
     "output_type": "stream",
     "text": [
      "Start tag: img\n",
      "     attr: ('src', 'python-logo.png')\n",
      "     attr: ('alt', 'The Python logo')\n"
     ]
    }
   ],
   "source": [
    "parser.feed('<img src=\"python-logo.png\" alt=\"The Python logo\">')\n"
   ]
  },
  {
   "cell_type": "code",
   "execution_count": 15,
   "metadata": {},
   "outputs": [
    {
     "name": "stdout",
     "output_type": "stream",
     "text": [
      "Start tag: h1\n",
      "Data     : Python\n",
      "End tag  : h1\n"
     ]
    }
   ],
   "source": [
    "parser.feed('<h1>Python</h1>')\n"
   ]
  },
  {
   "cell_type": "code",
   "execution_count": 17,
   "metadata": {},
   "outputs": [
    {
     "name": "stdout",
     "output_type": "stream",
     "text": [
      "Start tag: style\n",
      "     attr: ('type', 'text/css')\n",
      "Data     : #python { color: green }\n",
      "End tag  : style\n"
     ]
    }
   ],
   "source": [
    "parser.feed('<style type=\"text/css\">#python { color: green }</style>')\n"
   ]
  },
  {
   "cell_type": "code",
   "execution_count": 19,
   "metadata": {},
   "outputs": [
    {
     "name": "stdout",
     "output_type": "stream",
     "text": [
      "Start tag: script\n",
      "     attr: ('type', 'text/javascript')\n",
      "Data     : alert(\"<strong>hello!</strong>\");\n",
      "End tag  : script\n"
     ]
    }
   ],
   "source": [
    "parser.feed('<script type=\"text/javascript\">'\n",
    "           'alert(\"<strong>hello!</strong>\");</script>')\n"
   ]
  },
  {
   "cell_type": "code",
   "execution_count": 21,
   "metadata": {},
   "outputs": [
    {
     "name": "stdout",
     "output_type": "stream",
     "text": [
      "Comment  :  a comment \n",
      "Comment  : [if IE 9]>IE-specific content<![endif]\n"
     ]
    }
   ],
   "source": [
    "parser.feed('<!-- a comment -->'\n",
    "            '<!--[if IE 9]>IE-specific content<![endif]-->')\n"
   ]
  },
  {
   "cell_type": "code",
   "execution_count": 23,
   "metadata": {},
   "outputs": [
    {
     "name": "stdout",
     "output_type": "stream",
     "text": [
      "Data     : >>>\n"
     ]
    }
   ],
   "source": [
    "parser.feed('&gt;&#62;&#x3E;')"
   ]
  },
  {
   "cell_type": "code",
   "execution_count": 25,
   "metadata": {},
   "outputs": [
    {
     "name": "stdout",
     "output_type": "stream",
     "text": [
      "Start tag: span\n",
      "Data     : buff\n",
      "Data     : ered \n",
      "Data     : text\n",
      "End tag  : span\n"
     ]
    }
   ],
   "source": [
    "for chunk in ['<sp', 'an>buff', 'ered ', 'text</s', 'pan>']:\n",
    "    parser.feed(chunk)"
   ]
  },
  {
   "cell_type": "code",
   "execution_count": 26,
   "metadata": {},
   "outputs": [
    {
     "name": "stdout",
     "output_type": "stream",
     "text": [
      "Start tag: p\n",
      "Start tag: a\n",
      "     attr: ('class', 'link')\n",
      "     attr: ('href', '#main')\n",
      "Data     : tag soup\n",
      "End tag  : p\n",
      "End tag  : a\n"
     ]
    }
   ],
   "source": [
    "parser.feed('<p><a class=link href=#main>tag soup</p ></a>')\n"
   ]
  }
 ],
 "metadata": {
  "kernelspec": {
   "display_name": "Python 3",
   "language": "python",
   "name": "python3"
  },
  "language_info": {
   "codemirror_mode": {
    "name": "ipython",
    "version": 3
   },
   "file_extension": ".py",
   "mimetype": "text/x-python",
   "name": "python",
   "nbconvert_exporter": "python",
   "pygments_lexer": "ipython3",
   "version": "3.6.10"
  },
  "toc": {
   "base_numbering": 1,
   "nav_menu": {},
   "number_sections": true,
   "sideBar": true,
   "skip_h1_title": false,
   "title_cell": "Table of Contents",
   "title_sidebar": "Contents",
   "toc_cell": false,
   "toc_position": {},
   "toc_section_display": true,
   "toc_window_display": false
  },
  "varInspector": {
   "cols": {
    "lenName": 16,
    "lenType": 16,
    "lenVar": 40
   },
   "kernels_config": {
    "python": {
     "delete_cmd_postfix": "",
     "delete_cmd_prefix": "del ",
     "library": "var_list.py",
     "varRefreshCmd": "print(var_dic_list())"
    },
    "r": {
     "delete_cmd_postfix": ") ",
     "delete_cmd_prefix": "rm(",
     "library": "var_list.r",
     "varRefreshCmd": "cat(var_dic_list()) "
    }
   },
   "types_to_exclude": [
    "module",
    "function",
    "builtin_function_or_method",
    "instance",
    "_Feature"
   ],
   "window_display": false
  }
 },
 "nbformat": 4,
 "nbformat_minor": 4
}
