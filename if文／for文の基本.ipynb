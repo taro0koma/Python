{
 "cells": [
  {
   "cell_type": "markdown",
   "metadata": {},
   "source": [
    "<h1>if文を使ってみる</h1>\n",
    "<p><code>\n",
    "if ---条件---:\n",
    "    print(---処理---)\n",
    "</code></p>\n",
    "<small>スペース×４のインデントなければ、条件下処理から脱出してしまう</small>"
   ]
  },
  {
   "cell_type": "code",
   "execution_count": null,
   "metadata": {},
   "outputs": [],
   "source": [
    "# sale = int(input(\"売上を入力してください。\"))\n",
    "\n",
    "if sale >= 100:\n",
    "    print(\"売上は好調です\")  # Jupiterではインデント自動入力。（処理内容部分にスペース×４するルール）\n",
    "\n",
    "print(\"処理を終了します。\")"
   ]
  },
  {
   "cell_type": "markdown",
   "metadata": {},
   "source": [
    "## if - elif - else （else if 構文）"
   ]
  },
  {
   "cell_type": "code",
   "execution_count": null,
   "metadata": {},
   "outputs": [],
   "source": [
    "sale = int(input(\"売上を入力してください。\"))\n",
    "\n",
    "if sale >= 100:\n",
    "    print(\"売上は好調です。\")\n",
    "elif sale >= 50:\n",
    "    print(\"売上は普通です。\")\n",
    "else:\n",
    "    print(\"売上は低調です。\")\n",
    "\n",
    "print(\"処理を終了します。\")"
   ]
  },
  {
   "cell_type": "markdown",
   "metadata": {},
   "source": [
    "## 条件演算子"
   ]
  },
  {
   "cell_type": "code",
   "execution_count": 2,
   "metadata": {},
   "outputs": [
    {
     "name": "stdout",
     "output_type": "stream",
     "text": [
      "売上は好調ですか？（yes/no）no\n",
      "普通\n"
     ]
    }
   ],
   "source": [
    "res = input(\"売上は好調ですか？（yes/no）\")\n",
    "ans = \"好調です\" if(res == \"yes\") else \"普通\"\n",
    "print(ans)"
   ]
  },
  {
   "cell_type": "markdown",
   "metadata": {},
   "source": [
    "## 論理演算"
   ]
  },
  {
   "cell_type": "code",
   "execution_count": 16,
   "metadata": {},
   "outputs": [
    {
     "name": "stdout",
     "output_type": "stream",
     "text": [
      "True\n"
     ]
    }
   ],
   "source": [
    "a=3\n",
    "5<a and 3==a\n",
    "5>a or 3==a\n",
    "print(not(a==6))"
   ]
  },
  {
   "cell_type": "markdown",
   "metadata": {},
   "source": [
    "# for文\n",
    "<p><code>for 変数 in データの集まり:\n",
    "    処理\n",
    "for char in 'Hello':\n",
    "    print(char)</code></p>\n",
    "javaの拡張for文に近い"
   ]
  },
  {
   "cell_type": "code",
   "execution_count": 3,
   "metadata": {},
   "outputs": [
    {
     "name": "stdout",
     "output_type": "stream",
     "text": [
      "1 月のデータです。\n",
      "2 月のデータです。\n",
      "3 月のデータです。\n",
      "4 月のデータです。\n",
      "5 月のデータです。\n",
      "6 月のデータです。\n",
      "7 月のデータです。\n",
      "8 月のデータです。\n",
      "9 月のデータです。\n",
      "10 月のデータです。\n",
      "11 月のデータです。\n",
      "12 月のデータです。\n"
     ]
    }
   ],
   "source": [
    "for i in range(12):  # range()メソッド　0始まりの昇順配列を用意する　12なら0～11\n",
    "    print(i+1, \"月のデータです。\")"
   ]
  },
  {
   "cell_type": "code",
   "execution_count": 4,
   "metadata": {},
   "outputs": [
    {
     "name": "stdout",
     "output_type": "stream",
     "text": [
      "1 月のデータです\n",
      "2 月のデータです\n",
      "3 月のデータです\n",
      "4 月のデータです\n",
      "5 月のデータです\n",
      "6 月のデータです\n",
      "7 月のデータです\n",
      "8 月のデータです\n",
      "9 月のデータです\n",
      "10 月のデータです\n",
      "11 月のデータです\n",
      "12 月のデータです\n"
     ]
    }
   ],
   "source": [
    "for i in range(1, 13):  # 範囲指定も可能　第1引数：開始数値　第2引数：未満数値\n",
    "    print(i, \"月のデータです\")"
   ]
  },
  {
   "cell_type": "code",
   "execution_count": 5,
   "metadata": {},
   "outputs": [
    {
     "name": "stdout",
     "output_type": "stream",
     "text": [
      "1 月のデータです。\n",
      "3 月のデータです。\n",
      "5 月のデータです。\n",
      "7 月のデータです。\n",
      "9 月のデータです。\n",
      "11 月のデータです。\n"
     ]
    }
   ],
   "source": [
    "for i in range(1, 13, 2):  # 第3引数に数値間隔を指定できる\n",
    "    print(i, \"月のデータです。\")"
   ]
  },
  {
   "cell_type": "code",
   "execution_count": 6,
   "metadata": {},
   "outputs": [
    {
     "name": "stdout",
     "output_type": "stream",
     "text": [
      "12 月のデータです。\n",
      "11 月のデータです。\n",
      "10 月のデータです。\n",
      "9 月のデータです。\n",
      "8 月のデータです。\n",
      "7 月のデータです。\n",
      "6 月のデータです。\n",
      "5 月のデータです。\n",
      "4 月のデータです。\n",
      "3 月のデータです。\n",
      "2 月のデータです。\n",
      "1 月のデータです。\n"
     ]
    }
   ],
   "source": [
    "for i in range(12, 0, -1):  # ステップ数をマイナス値にすることで降順に実施できる\n",
    "    print(i, \"月のデータです。\")"
   ]
  },
  {
   "cell_type": "code",
   "execution_count": 25,
   "metadata": {},
   "outputs": [
    {
     "name": "stdout",
     "output_type": "stream",
     "text": [
      "          \n",
      "         ◆\n",
      "        ◇◇\n",
      "       ◆◆◆\n",
      "      ◇◇◇◇\n",
      "     ◆◆◆◆◆\n",
      "    ◇◇◇◇◇◇\n",
      "   ◆◆◆◆◆◆◆\n",
      "  ◇◇◇◇◇◇◇◇\n",
      " ◆◆◆◆◆◆◆◆◆\n"
     ]
    }
   ],
   "source": [
    "for i in range(10):\n",
    "    if i % 2 == 0:\n",
    "        print(\" \"*int(10-i), end=\"\")\n",
    "        print(\"◇\"*i)\n",
    "    else:\n",
    "        print(\" \"*int(10-i), end=\"\")\n",
    "        print(\"◆\"*i)"
   ]
  },
  {
   "cell_type": "code",
   "execution_count": 2,
   "metadata": {},
   "outputs": [
    {
     "name": "stdout",
     "output_type": "stream",
     "text": [
      "* - * - * \n",
      "- * - * - \n",
      "* - * - * \n",
      "- * - * - \n",
      "* - * - * \n"
     ]
    }
   ],
   "source": [
    "v = False\n",
    "\n",
    "for i in range(5):\n",
    "    for j in range(5):\n",
    "        if v == False:\n",
    "            print(\"*\", end=\" \")\n",
    "            v = True\n",
    "        else:\n",
    "            print(\"-\", end=\" \")\n",
    "            v = False\n",
    "    print()"
   ]
  },
  {
   "cell_type": "code",
   "execution_count": 8,
   "metadata": {},
   "outputs": [
    {
     "name": "stdout",
     "output_type": "stream",
     "text": [
      "[10]\n",
      "[10, 9]\n",
      "[10, 9, 8]\n",
      "[10, 9, 8, 7]\n",
      "[10, 9, 8, 7, 6]\n",
      "[10, 9, 8, 7, 6, 5]\n",
      "[10, 9, 8, 7, 6, 5, 4]\n",
      "[10, 9, 8, 7, 6, 5, 4, 3]\n",
      "[10, 9, 8, 7, 6, 5, 4, 3, 2]\n",
      "[10, 9, 8, 7, 6, 5, 4, 3, 2, 1]\n"
     ]
    }
   ],
   "source": [
    "result=[]\n",
    "\n",
    "for i in range(10,0,-1):\n",
    "    result.append(i)\n",
    "    print(result)"
   ]
  },
  {
   "cell_type": "code",
   "execution_count": 1,
   "metadata": {},
   "outputs": [
    {
     "name": "stdout",
     "output_type": "stream",
     "text": [
      "何月の処理で終了しますか？（1～12）3\n",
      "1 月のデータです。\n",
      "2 月のデータです。\n",
      "3 月のデータです。\n"
     ]
    }
   ],
   "source": [
    "num = int(input(\"何月の処理で終了しますか？（1～12）\"))\n",
    "for i in range(12):\n",
    "    print(i+1, \"月のデータです。\")\n",
    "    if i+1 == num:\n",
    "        break  # forループから抜け出す"
   ]
  },
  {
   "cell_type": "code",
   "execution_count": 2,
   "metadata": {},
   "outputs": [
    {
     "name": "stdout",
     "output_type": "stream",
     "text": [
      "何月の処理を飛ばしますか？（0～12）3\n",
      "1 月のデータです。\n",
      "2 月のデータです。\n",
      "4 月のデータです。\n",
      "5 月のデータです。\n",
      "6 月のデータです。\n",
      "7 月のデータです。\n",
      "8 月のデータです。\n",
      "9 月のデータです。\n",
      "10 月のデータです。\n",
      "11 月のデータです。\n",
      "12 月のデータです。\n"
     ]
    }
   ],
   "source": [
    "num = int(input(\"何月の処理を飛ばしますか？（0～12）\"))\n",
    "for i in range(12):\n",
    "    if i+1 == num:\n",
    "        continue\n",
    "    print(i+1, \"月のデータです。\")"
   ]
  },
  {
   "cell_type": "code",
   "execution_count": 9,
   "metadata": {},
   "outputs": [
    {
     "name": "stdout",
     "output_type": "stream",
     "text": [
      "２以上の整数を入力してください。100000000000000000000000000000000003\n",
      "100000000000000000000000000000000003 は素数ではありません\n"
     ]
    }
   ],
   "source": [
    "num=int(input(\"２以上の整数を入力してください。\"))\n",
    "\n",
    "for i in range(2,num+1):\n",
    "    if i==num:\n",
    "        print(num,\"は素数です\")\n",
    "    elif num%i==0:\n",
    "        print(num,\"は素数ではありません\")\n",
    "        break  # 素数ではないことが判明した時点でループを脱出する。i==numまでbreakしなければ素数"
   ]
  },
  {
   "cell_type": "code",
   "execution_count": null,
   "metadata": {},
   "outputs": [],
   "source": []
  },
  {
   "cell_type": "code",
   "execution_count": null,
   "metadata": {},
   "outputs": [],
   "source": []
  }
 ],
 "metadata": {
  "kernelspec": {
   "display_name": "Python 3",
   "language": "python",
   "name": "python3"
  },
  "language_info": {
   "codemirror_mode": {
    "name": "ipython",
    "version": 3
   },
   "file_extension": ".py",
   "mimetype": "text/x-python",
   "name": "python",
   "nbconvert_exporter": "python",
   "pygments_lexer": "ipython3",
   "version": "3.6.10"
  },
  "toc": {
   "base_numbering": 1,
   "nav_menu": {},
   "number_sections": true,
   "sideBar": true,
   "skip_h1_title": false,
   "title_cell": "Table of Contents",
   "title_sidebar": "Contents",
   "toc_cell": false,
   "toc_position": {},
   "toc_section_display": true,
   "toc_window_display": false
  }
 },
 "nbformat": 4,
 "nbformat_minor": 4
}
