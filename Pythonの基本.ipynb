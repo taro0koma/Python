{
 "cells": [
  {
   "cell_type": "markdown",
   "metadata": {},
   "source": [
    "## ドキュメンテーション文字列"
   ]
  },
  {
   "cell_type": "code",
   "execution_count": null,
   "metadata": {},
   "outputs": [],
   "source": [
    "\"ようこそPythonへ！\"\n",
    "\"おつかれさまです\"\n",
    "# print()メソッドを使用しない場合、文字列情報が最下部に更新され一つしか出力されない"
   ]
  },
  {
   "cell_type": "markdown",
   "metadata": {},
   "source": [
    "## 数値の出力"
   ]
  },
  {
   "cell_type": "code",
   "execution_count": null,
   "metadata": {},
   "outputs": [],
   "source": [
    "a=\"a\"\n",
    "print(a)  # もしaが変数定義前なら\"\"の不足した文字列となりエラー\n",
    "print(\"4/2\")\n",
    "print(4/2)  # 割り算の解は必ずfloatで表現される\n",
    "print(3.14)\n",
    "print(\"\"\"ようこそ\n",
    "      Python\"\"\")  # クォーテーション3個囲みで改行\n",
    "\"\"\"ようこそ\n",
    "Python\"\"\"  # 情報として出力するので、結果は改行コード\\nも含まれる"
   ]
  },
  {
   "cell_type": "markdown",
   "metadata": {},
   "source": [
    "## 2進数　８進数　16進数を使う"
   ]
  },
  {
   "cell_type": "code",
   "execution_count": null,
   "metadata": {},
   "outputs": [],
   "source": [
    "# 2進数　８進数　16進数を使う\n",
    "print(\"10進数の10は\",10,\"です\")\n",
    "print(\"2進数の10は\",0b10,\"です\")  # 0 1 10 ← 2\n",
    "print(\"8進数の10は\",0o10,\"です\")  # 01234567 10 ← 8\n",
    "print(\"16進数の10は\",0x10,\"です\")  # 0123456789ABCDEF 10 ← 16\n",
    "print(\"16進数のFは\",0xF,\"です\")  # 0123456789ABCDE F← 15  # FはfでもOK\n"
   ]
  },
  {
   "cell_type": "code",
   "execution_count": null,
   "metadata": {},
   "outputs": [],
   "source": [
    "0b10000000"
   ]
  },
  {
   "cell_type": "markdown",
   "metadata": {},
   "source": [
    "## エスケープシーケンス"
   ]
  },
  {
   "cell_type": "code",
   "execution_count": null,
   "metadata": {},
   "outputs": [],
   "source": [
    "print(\"円記号を表示します:\\\\\")\n",
    "print(\"アポストロフィを表示します:\\'\")\n",
    "print(\"Hello\\bPython\")  # backspace機能が起こりoを削除する\n",
    "\"\\\\\""
   ]
  },
  {
   "cell_type": "markdown",
   "metadata": {},
   "source": [
    "## データを格納しているアドレス\n",
    "変数と結びついている型名"
   ]
  },
  {
   "cell_type": "code",
   "execution_count": null,
   "metadata": {},
   "outputs": [],
   "source": [
    "# sale=10\n",
    "print(id(sale))\n",
    "print(\"売上は\",sale,\"万円です\")\n",
    "print(\"売上の値を変更します\")\n",
    "sale=20\n",
    "print(id(sale))  # pythonでは既存アドレスで上書きを行わず、逐一新規アドレスに書き込みガベッジコレクションで削除する\n",
    "print(\"売上は\",sale,\"万円です\")\n",
    "print(\"saleの型は\",type(sale))  # 型検出\n",
    "message=\"文字列\"\n",
    "print(\"messageの型は\",type(message))\n",
    "dot=20.0\n",
    "print(\"dotの型は\",type(dot))"
   ]
  },
  {
   "cell_type": "markdown",
   "metadata": {},
   "source": [
    "## 変数を使った演算"
   ]
  },
  {
   "cell_type": "code",
   "execution_count": null,
   "metadata": {},
   "outputs": [],
   "source": [
    "price=50\n",
    "num=10\n",
    "total=price*num\n",
    "print(\"単価は\",price,\"です\")\n",
    "print(\"売上個数は\",num,\"個です\")\n",
    "print(\"合計金額は\",total,\"円です\")\n",
    "total=total-100\n",
    "print(\"値引きをすると\",total,\"円です\")"
   ]
  },
  {
   "cell_type": "markdown",
   "metadata": {},
   "source": [
    "## 色々な演算子を利用する"
   ]
  },
  {
   "cell_type": "code",
   "execution_count": null,
   "metadata": {},
   "outputs": [],
   "source": [
    "num1=10\n",
    "num2=5\n",
    "print(\"num1+num2は\",num1+num2,\"です\")\n",
    "print(\"num1-num2は\",num1-num2,\"です\")\n",
    "print(\"num1*num2は\",num1*num2,\"です\")\n",
    "print(\"num1/num2は\",num1/num2,\"です\")\n",
    "print(\"num1%num2は\",num1%num2,\"です\")"
   ]
  },
  {
   "cell_type": "markdown",
   "metadata": {},
   "source": [
    "## 文字列操作を行う演算子"
   ]
  },
  {
   "cell_type": "code",
   "execution_count": null,
   "metadata": {},
   "outputs": [],
   "source": [
    "num=10\n",
    "pic=\"man\"\n",
    "graph=pic*num  # 文字列の掛け算\n",
    "print(\"売上：\"+graph)\n",
    "print(str(num)+\"万円の売上があります\")\n",
    "\n",
    "print(\"Hello\"+\" \"+\"world\")  # 2つの文字列の間にスペースを入れる"
   ]
  },
  {
   "cell_type": "markdown",
   "metadata": {},
   "source": [
    "## 代入演算子"
   ]
  },
  {
   "cell_type": "code",
   "execution_count": null,
   "metadata": {},
   "outputs": [],
   "source": [
    "a=120\n",
    "b=30\n",
    "a+=b\n",
    "a"
   ]
  },
  {
   "cell_type": "markdown",
   "metadata": {},
   "source": [
    "## キーボード入力 Scanner(System.in).nextline"
   ]
  },
  {
   "cell_type": "code",
   "execution_count": null,
   "metadata": {},
   "outputs": [],
   "source": [
    "n=input(\"値を入力してください\")\n",
    "print(n,\"が入力されました\")\n",
    "for i in range(5):\n",
    "    print(str(i)+n, end=\" \")  # print()メソッドの第2引数にend=\"\"を記述することで改行させない"
   ]
  },
  {
   "cell_type": "markdown",
   "metadata": {},
   "source": []
  },
  {
   "cell_type": "code",
   "execution_count": 2,
   "metadata": {},
   "outputs": [
    {
     "name": "stdout",
     "output_type": "stream",
     "text": [
      "あなたは何才ですか?23\n",
      "あなたは 23 才です\n"
     ]
    }
   ],
   "source": [
    "num=input(\"あなたは何才ですか?\")\n",
    "print(\"あなたは\",num,\"才です\")"
   ]
  },
  {
   "cell_type": "code",
   "execution_count": 4,
   "metadata": {},
   "outputs": [
    {
     "name": "stdout",
     "output_type": "stream",
     "text": [
      "身長を入力してください。165.2\n",
      "体重を入力してください。56.5\n",
      "身長は 165.2 センチです。\n",
      "体重は 56.5 キロです。\n"
     ]
    }
   ],
   "source": [
    "height=float(input(\"身長を入力してください。\"))\n",
    "weight=float(input(\"体重を入力してください。\"))\n",
    "print(\"身長は\",height,\"センチです。\")\n",
    "print(\"体重は\",weight,\"キロです。\")"
   ]
  },
  {
   "cell_type": "markdown",
   "metadata": {},
   "source": [
    "## 演算のメモリ記憶"
   ]
  },
  {
   "cell_type": "code",
   "execution_count": null,
   "metadata": {},
   "outputs": [],
   "source": [
    "1+2\n",
    "print(id(1+2))\n",
    "print(id(1+2))  # 3というオブジェクトとして記憶されている\n",
    "id(3)"
   ]
  }
 ],
 "metadata": {
  "kernelspec": {
   "display_name": "Python 3",
   "language": "python",
   "name": "python3"
  },
  "language_info": {
   "codemirror_mode": {
    "name": "ipython",
    "version": 3
   },
   "file_extension": ".py",
   "mimetype": "text/x-python",
   "name": "python",
   "nbconvert_exporter": "python",
   "pygments_lexer": "ipython3",
   "version": "3.6.10"
  },
  "toc": {
   "base_numbering": 1,
   "nav_menu": {},
   "number_sections": true,
   "sideBar": true,
   "skip_h1_title": false,
   "title_cell": "Table of Contents",
   "title_sidebar": "Contents",
   "toc_cell": false,
   "toc_position": {
    "height": "calc(100% - 180px)",
    "left": "10px",
    "top": "150px",
    "width": "276.795px"
   },
   "toc_section_display": true,
   "toc_window_display": false
  }
 },
 "nbformat": 4,
 "nbformat_minor": 4
}
