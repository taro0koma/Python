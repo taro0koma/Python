{
 "cells": [
  {
   "cell_type": "code",
   "execution_count": null,
   "metadata": {},
   "outputs": [],
   "source": []
  },
  {
   "cell_type": "code",
   "execution_count": 7,
   "metadata": {},
   "outputs": [
    {
     "name": "stdout",
     "output_type": "stream",
     "text": [
      "odd\n",
      "even\n"
     ]
    }
   ],
   "source": [
    "get_odd_even=lambda x: \"even\" if x%2 == 0 else \"odd\"  # 三項演算子を使ったlambda式\n",
    "\n",
    "print(get_odd_even(3))\n",
    "\n",
    "print(get_odd_even(4))"
   ]
  },
  {
   "cell_type": "code",
   "execution_count": 10,
   "metadata": {},
   "outputs": [
    {
     "name": "stdout",
     "output_type": "stream",
     "text": [
      "5\n",
      "['Charle', 'Alice', 'Bob']\n"
     ]
    }
   ],
   "source": [
    "print(len(\"Alice\"))\n",
    "l = ['Charle', 'Bob', 'Alice']\n",
    "\n",
    "l_sorted_len=sorted(l,key=len,reverse=True)\n",
    "print(l_sorted_len)"
   ]
  },
  {
   "cell_type": "code",
   "execution_count": 12,
   "metadata": {},
   "outputs": [
    {
     "name": "stdout",
     "output_type": "stream",
     "text": [
      "l\n"
     ]
    }
   ],
   "source": [
    "# lambda式の引き数\n",
    "print((lambda x:x[1])(\"Alice\"))"
   ]
  },
  {
   "cell_type": "code",
   "execution_count": 15,
   "metadata": {},
   "outputs": [
    {
     "name": "stdout",
     "output_type": "stream",
     "text": [
      "['Charle', 'Alice', 'Bob']\n"
     ]
    }
   ],
   "source": [
    "l = ['Charle', 'Bob', 'Alice']\n",
    "l_sorted_second=sorted(l,key=lambda x:x[1])  # x:x[1]とは文字列２文字目のこと\n",
    "print(l_sorted_second)"
   ]
  },
  {
   "cell_type": "code",
   "execution_count": 18,
   "metadata": {},
   "outputs": [
    {
     "name": "stdout",
     "output_type": "stream",
     "text": [
      "10\n"
     ]
    }
   ],
   "source": [
    "a=lambda :10  # 引き数のないlambda式　return 10\n",
    "print(a())"
   ]
  },
  {
   "cell_type": "code",
   "execution_count": 23,
   "metadata": {},
   "outputs": [
    {
     "name": "stdout",
     "output_type": "stream",
     "text": [
      "<map object at 0x000001866F169BA8>\n",
      "[2, 6, 10]\n",
      "(2, 6, 10)\n",
      "['高橋様', '鈴木様', '渡辺様']\n"
     ]
    }
   ],
   "source": [
    "list_1=[1,3,5]\n",
    "list_2=map(lambda x:x*2,list_1)\n",
    "\n",
    "print(list_2) # オブジェクトアドレス\n",
    "\n",
    "list_2=list(map(lambda x:x*2,list_1))  # リスト\n",
    "print(list_2)\n",
    "\n",
    "list_3=tuple(map(lambda x:x*2,list_1))  # タプル\n",
    "print(list_3)\n",
    "\n",
    "list_s_1=[\"高橋\",\"鈴木\",\"渡辺\"]\n",
    "list_s_2=list(map(lambda x:x+\"様\",list_s_1))\n",
    "print(list_s_2)"
   ]
  },
  {
   "cell_type": "code",
   "execution_count": 26,
   "metadata": {},
   "outputs": [
    {
     "name": "stdout",
     "output_type": "stream",
     "text": [
      "[{'Age': 20, 'Name': 'Bob'},\n",
      " {'Age': 30, 'Name': 'Charlie', 'Point': 70},\n",
      " {'Age': 40, 'Name': 'Alice', 'Point': 80}]\n",
      "[{'Age': 30, 'Name': 'Charlie', 'Point': 70},\n",
      " {'Age': 40, 'Name': 'Alice', 'Point': 80},\n",
      " {'Age': 20, 'Name': 'Bob'}]\n"
     ]
    }
   ],
   "source": [
    "import pprint\n",
    "\n",
    "l = [{'Name': 'Alice', 'Age': 40, 'Point': 80}, \n",
    "     {'Name': 'Bob', 'Age': 20},\n",
    "     {'Name': 'Charlie', 'Age': 30, 'Point': 70}]\n",
    "\n",
    "l.sort(key=lambda x: x.get('Point', 0))  # get()の第２引数・・・キー名を指定し、キー名を持たないディクショナリに対してデフォルト値を与える\n",
    "pprint.pprint(l)\n",
    "\n",
    "l.sort(key=lambda x: x.get('Point', 100))\n",
    "pprint.pprint(l)"
   ]
  },
  {
   "cell_type": "code",
   "execution_count": null,
   "metadata": {},
   "outputs": [],
   "source": []
  }
 ],
 "metadata": {
  "kernelspec": {
   "display_name": "Python 3",
   "language": "python",
   "name": "python3"
  },
  "language_info": {
   "codemirror_mode": {
    "name": "ipython",
    "version": 3
   },
   "file_extension": ".py",
   "mimetype": "text/x-python",
   "name": "python",
   "nbconvert_exporter": "python",
   "pygments_lexer": "ipython3",
   "version": "3.6.10"
  },
  "toc": {
   "base_numbering": 1,
   "nav_menu": {},
   "number_sections": true,
   "sideBar": true,
   "skip_h1_title": false,
   "title_cell": "Table of Contents",
   "title_sidebar": "Contents",
   "toc_cell": false,
   "toc_position": {},
   "toc_section_display": true,
   "toc_window_display": false
  },
  "varInspector": {
   "cols": {
    "lenName": 16,
    "lenType": 16,
    "lenVar": 40
   },
   "kernels_config": {
    "python": {
     "delete_cmd_postfix": "",
     "delete_cmd_prefix": "del ",
     "library": "var_list.py",
     "varRefreshCmd": "print(var_dic_list())"
    },
    "r": {
     "delete_cmd_postfix": ") ",
     "delete_cmd_prefix": "rm(",
     "library": "var_list.r",
     "varRefreshCmd": "cat(var_dic_list()) "
    }
   },
   "types_to_exclude": [
    "module",
    "function",
    "builtin_function_or_method",
    "instance",
    "_Feature"
   ],
   "window_display": false
  }
 },
 "nbformat": 4,
 "nbformat_minor": 4
}
