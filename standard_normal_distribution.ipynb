{
 "cells": [
  {
   "cell_type": "markdown",
   "metadata": {},
   "source": [
    " # 標準正規分布（平均 0, 標準偏差 1）の乱数とは\n",
    "標準正規分布とは、平均値0、分散1の正規分布のことです。標準偏差は分散の平方根をとったものですから、\n",
    "たとえば、ある試験でクラスの平均点が３０点としたら、それぞれの得点から平均点引いて２乗した値の平均値（分散）の平方根が標準偏差になります。\n",
    "標準正規分布においては標準偏差は1となります。\n",
    "\n",
    "数式で表すと次のようになります。  \n",
    "$\n",
    "\\begin{align}\n",
    "δ = \\sqrt{\\frac{1}{n}\\sum_{i=1}^{n}(xi-μ)^2} \\\\\n",
    "\\end{align}\n",
    "$"
   ]
  },
  {
   "cell_type": "markdown",
   "metadata": {},
   "source": [
    "np.random.rand(100, 1)とnp.random.randn(100, 1)を比較するとつぎのようになります。"
   ]
  },
  {
   "cell_type": "code",
   "execution_count": 1,
   "metadata": {},
   "outputs": [],
   "source": [
    "import numpy as np\n",
    "x = np.random.rand(100, 1)  # 0 〜 1 までの乱数を 100 個つくる"
   ]
  },
  {
   "cell_type": "code",
   "execution_count": 2,
   "metadata": {
    "scrolled": true
   },
   "outputs": [
    {
     "name": "stdout",
     "output_type": "stream",
     "text": [
      "最大: 0.9963489636918176\n",
      "最小: 0.004391227425335487\n",
      "平均: 0.4892383884557894\n",
      "標準偏差: 0.2939659092300828\n"
     ]
    }
   ],
   "source": [
    "print(\"最大:\", x.max())\n",
    "print(\"最小:\", x.min())\n",
    "print(\"平均:\", x.mean())\n",
    "print(\"標準偏差:\", x.std())"
   ]
  },
  {
   "cell_type": "code",
   "execution_count": 3,
   "metadata": {},
   "outputs": [],
   "source": [
    "import numpy as np\n",
    "y = np.random.randn(100, 1)  # 標準正規分布（平均 0, 標準偏差 1）の乱数を加える"
   ]
  },
  {
   "cell_type": "code",
   "execution_count": 4,
   "metadata": {},
   "outputs": [
    {
     "name": "stdout",
     "output_type": "stream",
     "text": [
      "最大: 1.918382535021099\n",
      "最小: -2.686427567648694\n",
      "平均: -0.1296205152798984\n",
      "標準偏差: 0.9262428749271687\n"
     ]
    }
   ],
   "source": [
    "print(\"最大:\", y.max())\n",
    "print(\"最小:\", y.min())\n",
    "print(\"平均:\", y.mean())\n",
    "print(\"標準偏差:\", y.std())"
   ]
  },
  {
   "cell_type": "markdown",
   "metadata": {},
   "source": [
    "## 標準化\n",
    "単位や平均値などが異なるデータを平均値0、分散1の標準正規分布に変換することを標準化といいます。Zスコアという標準化の手法の例を以下に示します。 Zスコアとは、データセットの各要素から平均を引いて標準偏差で割ったものです。つまり、標準化されたデータセットは 平均が0で、標準偏差が1になります。"
   ]
  },
  {
   "cell_type": "markdown",
   "metadata": {},
   "source": [
    "平均値: 30  標準偏差: 14.14 データセットを作成します"
   ]
  },
  {
   "cell_type": "code",
   "execution_count": 5,
   "metadata": {},
   "outputs": [],
   "source": [
    "a = np.array([10,20,30,40,50])"
   ]
  },
  {
   "cell_type": "code",
   "execution_count": 6,
   "metadata": {
    "scrolled": false
   },
   "outputs": [
    {
     "name": "stdout",
     "output_type": "stream",
     "text": [
      "最大値: 50\n",
      "最小値: 10\n",
      "平均値: 30.0\n",
      "標準偏差: 14.142135623730951\n"
     ]
    }
   ],
   "source": [
    "print(\"最大値:\", a.max())\n",
    "print(\"最小値:\", a.min())\n",
    "print(\"平均値:\", a.mean())\n",
    "print(\"標準偏差:\", a.std())"
   ]
  },
  {
   "cell_type": "markdown",
   "metadata": {},
   "source": [
    "Zスコアの標準化では、まずデータセットの各要素から、データセットの平均値を引きます。これでデータセットの平均値は0になります。各要素の値は次のようになります。"
   ]
  },
  {
   "cell_type": "code",
   "execution_count": 7,
   "metadata": {
    "scrolled": false
   },
   "outputs": [
    {
     "name": "stdout",
     "output_type": "stream",
     "text": [
      "[-20. -10.   0.  10.  20.]\n"
     ]
    }
   ],
   "source": [
    "a = a - a.mean()\n",
    "print(a)"
   ]
  },
  {
   "cell_type": "markdown",
   "metadata": {},
   "source": [
    "次に、データセットの標準偏差を出します。このデータセットの標準偏差は14.14です。"
   ]
  },
  {
   "cell_type": "code",
   "execution_count": 8,
   "metadata": {
    "scrolled": true
   },
   "outputs": [
    {
     "name": "stdout",
     "output_type": "stream",
     "text": [
      "最大値: 20.0\n",
      "最小値: -20.0\n",
      "平均値: 0.0\n",
      "標準偏差: 14.142135623730951\n"
     ]
    }
   ],
   "source": [
    "print(\"最大値:\", a.max())\n",
    "print(\"最小値:\", a.min())\n",
    "print(\"平均値:\", a.mean())\n",
    "print(\"標準偏差:\", a.std())"
   ]
  },
  {
   "cell_type": "markdown",
   "metadata": {},
   "source": [
    "Zスコアの標準化は、データセットの各要素から平均を引いて標準偏差で割ったものですから次のようになります。\n",
    "\n"
   ]
  },
  {
   "cell_type": "code",
   "execution_count": 9,
   "metadata": {},
   "outputs": [
    {
     "name": "stdout",
     "output_type": "stream",
     "text": [
      "[-1.41421356 -0.70710678  0.          0.70710678  1.41421356]\n"
     ]
    }
   ],
   "source": [
    "z = a/a.std()\n",
    "print(z)"
   ]
  },
  {
   "cell_type": "markdown",
   "metadata": {},
   "source": [
    "標準化したデータセット z は平均値は 0 標準偏差は 1 になります。"
   ]
  },
  {
   "cell_type": "code",
   "execution_count": 10,
   "metadata": {},
   "outputs": [
    {
     "name": "stdout",
     "output_type": "stream",
     "text": [
      "最大値: 1.414213562373095\n",
      "最小値: -1.414213562373095\n",
      "平均値: 0.0\n",
      "標準偏差: 0.9999999999999999\n"
     ]
    }
   ],
   "source": [
    "print(\"最大値:\", z.max())\n",
    "print(\"最小値:\", z.min())\n",
    "print(\"平均値:\", z.mean())\n",
    "print(\"標準偏差:\", z.std())"
   ]
  },
  {
   "cell_type": "markdown",
   "metadata": {},
   "source": [
    "# 乱数の標準化\n",
    "np.random.rand(100, 1) で生成される 0 〜 1 までの乱数を 100 個をZスコアで標準化してみましょう。"
   ]
  },
  {
   "cell_type": "code",
   "execution_count": 11,
   "metadata": {},
   "outputs": [],
   "source": [
    "x = np.random.rand(100, 1)  # 0 〜 1 までの乱数を 100 個つくる\n",
    "x = x - x.mean()\n",
    "z = x/x.std()"
   ]
  },
  {
   "cell_type": "code",
   "execution_count": 12,
   "metadata": {},
   "outputs": [
    {
     "name": "stdout",
     "output_type": "stream",
     "text": [
      "最大値: 1.9696361125677744\n",
      "最小値: -1.5164962974269138\n",
      "平均値: 3.219646771412954e-16\n",
      "標準偏差: 1.0\n"
     ]
    }
   ],
   "source": [
    "print(\"最大値:\", z.max())\n",
    "print(\"最小値:\", z.min())\n",
    "print(\"平均値:\", z.mean())\n",
    "print(\"標準偏差:\", z.std())"
   ]
  },
  {
   "cell_type": "markdown",
   "metadata": {},
   "source": [
    "# 偏差値 \n",
    "試験や模試の結果で登場する「偏差値」も、この標準化した値を用いて次の式から求められます。偏差値は「平均が50点、標準偏差が10点」となるように、標準化した値に10をかけて50を足したものです。\n",
    "###    50 + 10 * z\n",
    "例えば、平均点:60、標準偏差14.4のテストで80点を取った人の偏差値はzで求めることができます。"
   ]
  },
  {
   "cell_type": "code",
   "execution_count": 13,
   "metadata": {
    "scrolled": true
   },
   "outputs": [
    {
     "name": "stdout",
     "output_type": "stream",
     "text": [
      "平均点: 60.0\n",
      "標準偏差: 14.142135623730951\n",
      "z: 1.414213562373095\n",
      "偏差値: 64.14213562373095\n"
     ]
    }
   ],
   "source": [
    "A = np.array([40,40,50,50,60,60,70,70,80,80])\n",
    "print(\"平均点:\", A.mean())\n",
    "print(\"標準偏差:\", A.std())\n",
    "z = (80 - A.mean())/A.std()\n",
    "print(\"z:\", z)\n",
    "print(\"偏差値:\", 50 + 10*z)"
   ]
  }
 ],
 "metadata": {
  "kernelspec": {
   "display_name": "Python 3",
   "language": "python",
   "name": "python3"
  },
  "language_info": {
   "codemirror_mode": {
    "name": "ipython",
    "version": 3
   },
   "file_extension": ".py",
   "mimetype": "text/x-python",
   "name": "python",
   "nbconvert_exporter": "python",
   "pygments_lexer": "ipython3",
   "version": "3.6.10"
  },
  "varInspector": {
   "cols": {
    "lenName": 16,
    "lenType": 16,
    "lenVar": 40
   },
   "kernels_config": {
    "python": {
     "delete_cmd_postfix": "",
     "delete_cmd_prefix": "del ",
     "library": "var_list.py",
     "varRefreshCmd": "print(var_dic_list())"
    },
    "r": {
     "delete_cmd_postfix": ") ",
     "delete_cmd_prefix": "rm(",
     "library": "var_list.r",
     "varRefreshCmd": "cat(var_dic_list()) "
    }
   },
   "types_to_exclude": [
    "module",
    "function",
    "builtin_function_or_method",
    "instance",
    "_Feature"
   ],
   "window_display": false
  }
 },
 "nbformat": 4,
 "nbformat_minor": 2
}
