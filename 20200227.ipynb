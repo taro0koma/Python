{
 "cells": [
  {
   "cell_type": "code",
   "execution_count": null,
   "metadata": {},
   "outputs": [],
   "source": [
    "def rpast(num):\n",
    "    print(\"*\"*num)\n",
    "\n",
    "n=int(input(\"個数を入力してください\"))\n",
    "rpast(n)"
   ]
  },
  {
   "cell_type": "code",
   "execution_count": null,
   "metadata": {},
   "outputs": [],
   "source": [
    "def rpstr(num,str=\"*\"):\n",
    "    print(str*num)\n",
    "    \n",
    "s=input(\"文字列を入力してください。\")\n",
    "n=int(input(\"個数を入力してください。\"))\n",
    "print(\"文字列あり---\")\n",
    "rpstr(n,s)\n",
    "print(\"文字列なし---\")\n",
    "rpstr(n)"
   ]
  },
  {
   "cell_type": "code",
   "execution_count": null,
   "metadata": {},
   "outputs": [],
   "source": [
    "def makex(x):\n",
    "    while True:\n",
    "        yield x  # 暗黙的にイテレーターをreturnしている\n",
    "        x+=1\n",
    "        \n",
    "start= int(input(\"開始値を入力してください。整数\"))\n",
    "stop= int(input(\"停止値を入力して下さい。整数\"))\n",
    "\n",
    "for n in makex(start):  # yield文があることによって暗黙的にイテレーターを返している\n",
    "    if n>=stop+1:\n",
    "        break\n",
    "    print(n)"
   ]
  },
  {
   "cell_type": "code",
   "execution_count": 6,
   "metadata": {},
   "outputs": [
    {
     "name": "stdout",
     "output_type": "stream",
     "text": [
      "Car ナンバー 1234 のガソリン量は 25.5 です。\n"
     ]
    }
   ],
   "source": [
    "class Car():\n",
    "    \n",
    "    def __init__(self,num,gas):\n",
    "        self.num=num\n",
    "        self.gas=gas\n",
    "    def getNumber(self):\n",
    "        return self.num\n",
    "    def getGas(self):\n",
    "        return self.gas\n",
    "    \n",
    "car1=Car(1234,25.5)\n",
    "num1=car1.getNumber()\n",
    "gas1=car1.getGas()\n",
    "\n",
    "print(car1.__class__.__name__,\"ナンバー\",num1,\"のガソリン量は\",gas1,\"です。\")"
   ]
  },
  {
   "cell_type": "code",
   "execution_count": 7,
   "metadata": {},
   "outputs": [
    {
     "name": "stdout",
     "output_type": "stream",
     "text": [
      "ファイルリストは以下です。\n",
      "Sample.csv\n",
      "Sample.exe\n",
      "Sample1.py\n",
      "Sample2.py\n",
      "Sample1.txt\n",
      "Sample2.txt\n",
      "拡張子を入力してください。txt\n",
      "該当するファイルのリストは以下です。\n",
      "Sample1.txt\n",
      "Sample2.txt\n"
     ]
    }
   ],
   "source": [
    "str=[\"Sample.csv\",\"Sample.exe\",\"Sample1.py\",\"Sample2.py\",\"Sample1.txt\",\"Sample2.txt\"]\n",
    "file=[]\n",
    "print(\"ファイルリストは以下です。\")\n",
    "\n",
    "for s in str:\n",
    "    print(s)\n",
    "    \n",
    "suf=input(\"拡張子を入力してください。\")\n",
    "\n",
    "for s in str:\n",
    "    res=s.endswith(suf)\n",
    "    if res is True:\n",
    "        file.append(s)\n",
    "        \n",
    "print(\"該当するファイルのリストは以下です。\")\n",
    "\n",
    "for f in file:\n",
    "    print(f)"
   ]
  },
  {
   "cell_type": "code",
   "execution_count": 11,
   "metadata": {},
   "outputs": [
    {
     "name": "stdout",
     "output_type": "stream",
     "text": [
      "コンストラクト前\n",
      "コンストラクタ後\n",
      "hello\n",
      "hi 高橋\n",
      "7\n"
     ]
    }
   ],
   "source": [
    "class Person:\n",
    "    def __init__(self,name,age):\n",
    "        self.name=name\n",
    "        self.age=age\n",
    "        self.str_=\"hi\"\n",
    "    def getName(self):\n",
    "        self.str_=\"hello\"\n",
    "        print(self.str_)\n",
    "        return self.name\n",
    "    def getAge(self):\n",
    "        print(self.str_,self.getName())\n",
    "        return self.age\n",
    "\n",
    "print(\"コンストラクト前\")\n",
    "p1=Person(\"高橋\",7)\n",
    "print(\"コンストラクタ後\")\n",
    "age=p1.getAge()\n",
    "print(age)"
   ]
  },
  {
   "cell_type": "code",
   "execution_count": null,
   "metadata": {},
   "outputs": [],
   "source": []
  }
 ],
 "metadata": {
  "kernelspec": {
   "display_name": "Python 3",
   "language": "python",
   "name": "python3"
  },
  "language_info": {
   "codemirror_mode": {
    "name": "ipython",
    "version": 3
   },
   "file_extension": ".py",
   "mimetype": "text/x-python",
   "name": "python",
   "nbconvert_exporter": "python",
   "pygments_lexer": "ipython3",
   "version": "3.6.10"
  },
  "toc": {
   "base_numbering": 1,
   "nav_menu": {},
   "number_sections": true,
   "sideBar": true,
   "skip_h1_title": false,
   "title_cell": "Table of Contents",
   "title_sidebar": "Contents",
   "toc_cell": false,
   "toc_position": {},
   "toc_section_display": true,
   "toc_window_display": false
  },
  "varInspector": {
   "cols": {
    "lenName": 16,
    "lenType": 16,
    "lenVar": 40
   },
   "kernels_config": {
    "python": {
     "delete_cmd_postfix": "",
     "delete_cmd_prefix": "del ",
     "library": "var_list.py",
     "varRefreshCmd": "print(var_dic_list())"
    },
    "r": {
     "delete_cmd_postfix": ") ",
     "delete_cmd_prefix": "rm(",
     "library": "var_list.r",
     "varRefreshCmd": "cat(var_dic_list()) "
    }
   },
   "types_to_exclude": [
    "module",
    "function",
    "builtin_function_or_method",
    "instance",
    "_Feature"
   ],
   "window_display": false
  }
 },
 "nbformat": 4,
 "nbformat_minor": 4
}
